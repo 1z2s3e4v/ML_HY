{
  "cells": [
    {
      "attachments": {},
      "cell_type": "markdown",
      "metadata": {
        "id": "Fp30SB4bxeQb"
      },
      "source": [
        "# **Homework 12 - Reinforcement Learning**\n",
        "\n",
        "If you have any problem, e-mail us at mlta-2023-spring@googlegroups.com\n",
        "\n"
      ]
    },
    {
      "attachments": {},
      "cell_type": "markdown",
      "metadata": {
        "id": "yXsnCWPtWSNk"
      },
      "source": [
        "## Preliminary work\n",
        "\n",
        "First, we need to install all necessary packages.\n",
        "One of them, gym, builded by OpenAI, is a toolkit for developing Reinforcement Learning algorithm. Other packages are for visualization in colab."
      ]
    },
    {
      "cell_type": "code",
      "execution_count": 1,
      "metadata": {
        "colab": {
          "base_uri": "https://localhost:8080/"
        },
        "id": "5e2bScpnkVbv",
        "outputId": "3664b9aa-2a3e-4bba-a268-2c9871efc7ab"
      },
      "outputs": [],
      "source": [
        "# !apt update\n",
        "# !apt install python-opengl xvfb -y\n",
        "# !pip install -q swig\n",
        "# !pip install box2d==2.3.2 gym[box2d]==0.25.2 box2d-py pyvirtualdisplay tqdm numpy==1.22.4 \n",
        "# !pip install box2d==2.3.2 box2d-kengz\n",
        "# !pip freeze > requirements.txt\n"
      ]
    },
    {
      "attachments": {},
      "cell_type": "markdown",
      "metadata": {
        "id": "M_-i3cdoYsks"
      },
      "source": [
        "\n",
        "Next, set up virtual display，and import all necessaary packages."
      ]
    },
    {
      "cell_type": "code",
      "execution_count": 2,
      "metadata": {
        "id": "nl2nREINDLiw"
      },
      "outputs": [],
      "source": [
        "%%capture\n",
        "from pyvirtualdisplay import Display\n",
        "virtual_display = Display(visible=0, size=(1400, 900))\n",
        "virtual_display.start()\n",
        "\n",
        "%matplotlib inline\n",
        "import matplotlib.pyplot as plt\n",
        "from PIL import Image\n",
        "\n",
        "from IPython import display\n",
        "import imageio\n",
        "\n",
        "import os\n",
        "import numpy as np\n",
        "import torch\n",
        "import torch.nn as nn\n",
        "import torch.optim as optim\n",
        "import torch.nn.functional as F\n",
        "from torch.distributions import Categorical\n",
        "from tqdm.notebook import tqdm\n",
        "from collections import deque, namedtuple\n",
        "from einops import repeat\n",
        "from torch.distributions import MultivariateNormal, Normal\n",
        "from torch.nn.utils import clip_grad_norm_"
      ]
    },
    {
      "cell_type": "code",
      "execution_count": 3,
      "metadata": {},
      "outputs": [],
      "source": [
        "device = torch.device(\"cuda:1\" if torch.cuda.is_available() else \"cpu\")"
      ]
    },
    {
      "attachments": {},
      "cell_type": "markdown",
      "metadata": {
        "id": "CaEJ8BUCpN9P"
      },
      "source": [
        "# Warning ! Do not revise random seed !!!\n",
        "# Your submission on JudgeBoi will not reproduce your result !!!\n",
        "Make your HW result to be reproducible.\n"
      ]
    },
    {
      "cell_type": "code",
      "execution_count": 4,
      "metadata": {
        "id": "fV9i8i2YkRbO"
      },
      "outputs": [],
      "source": [
        "seed = 2023 # Do not change this\n",
        "def fix(env, seed):\n",
        "  env.seed(seed)\n",
        "  env.action_space.seed(seed)\n",
        "  torch.backends.cudnn.deterministic = True\n",
        "  torch.backends.cudnn.benchmark = False\n",
        "  np.random.seed(seed)\n",
        "  torch.manual_seed(seed)\n",
        "  if torch.cuda.is_available():\n",
        "      torch.cuda.manual_seed_all(seed)"
      ]
    },
    {
      "attachments": {},
      "cell_type": "markdown",
      "metadata": {
        "id": "He0XDx6bzjgC"
      },
      "source": [
        "Last, call gym and build an [Lunar Lander](https://gym.openai.com/envs/LunarLander-v2/) environment."
      ]
    },
    {
      "cell_type": "code",
      "execution_count": 5,
      "metadata": {
        "id": "N_4-xJcbBt09"
      },
      "outputs": [],
      "source": [
        "%%capture\n",
        "import gym\n",
        "import random\n",
        "env = gym.make('LunarLander-v2')\n",
        "fix(env, seed) # fix the environment Do not revise this !!!"
      ]
    },
    {
      "attachments": {},
      "cell_type": "markdown",
      "metadata": {
        "id": "NrkVvTrvWZ5H"
      },
      "source": [
        "## What Lunar Lander？\n",
        "\n",
        "“LunarLander-v2”is to simulate the situation when the craft lands on the surface of the moon.\n",
        "\n",
        "This task is to enable the craft to land \"safely\" at the pad between the two yellow flags.\n",
        "> Landing pad is always at coordinates (0,0).\n",
        "> Coordinates are the first two numbers in state vector.\n",
        "\n",
        "![](https://gym.openai.com/assets/docs/aeloop-138c89d44114492fd02822303e6b4b07213010bb14ca5856d2d49d6b62d88e53.svg)\n",
        "\n",
        "\"LunarLander-v2\" actually includes \"Agent\" and \"Environment\". \n",
        "\n",
        "In this homework, we will utilize the function `step()` to control the action of \"Agent\". \n",
        "\n",
        "Then `step()` will return the observation/state and reward given by the \"Environment\"."
      ]
    },
    {
      "attachments": {},
      "cell_type": "markdown",
      "metadata": {
        "id": "bIbp82sljvAt"
      },
      "source": [
        "### Observation / State\n",
        "\n",
        "First, we can take a look at what an Observation / State looks like."
      ]
    },
    {
      "cell_type": "code",
      "execution_count": 6,
      "metadata": {
        "colab": {
          "base_uri": "https://localhost:8080/"
        },
        "id": "rsXZra3N9R5T",
        "outputId": "a36b4dd1-fc58-420d-d5d1-84db2ab3fe28"
      },
      "outputs": [
        {
          "name": "stdout",
          "output_type": "stream",
          "text": [
            "Box(-inf, inf, (8,), float32)\n"
          ]
        }
      ],
      "source": [
        "print(env.observation_space)"
      ]
    },
    {
      "attachments": {},
      "cell_type": "markdown",
      "metadata": {
        "id": "ezdfoThbAQ49"
      },
      "source": [
        "\n",
        "`Box(8,)`means that observation is an 8-dim vector\n",
        "### Action\n",
        "\n",
        "Actions can be taken by looks like"
      ]
    },
    {
      "cell_type": "code",
      "execution_count": 7,
      "metadata": {
        "colab": {
          "base_uri": "https://localhost:8080/"
        },
        "id": "p1k4dIrBAaKi",
        "outputId": "1a7cecb7-385f-450c-c11c-07c32ccd5a8a"
      },
      "outputs": [
        {
          "name": "stdout",
          "output_type": "stream",
          "text": [
            "Discrete(4)\n"
          ]
        }
      ],
      "source": [
        "print(env.action_space)"
      ]
    },
    {
      "attachments": {},
      "cell_type": "markdown",
      "metadata": {
        "id": "dejXT6PHBrPn"
      },
      "source": [
        "`Discrete(4)` implies that there are four kinds of actions can be taken by agent.\n",
        "- 0 implies the agent will not take any actions\n",
        "- 2 implies the agent will accelerate downward\n",
        "- 1, 3 implies the agent will accelerate left and right\n",
        "\n",
        "Next, we will try to make the agent interact with the environment. \n",
        "Before taking any actions, we recommend to call `reset()` function to reset the environment. Also, this function will return the initial state of the environment."
      ]
    },
    {
      "cell_type": "code",
      "execution_count": 8,
      "metadata": {
        "colab": {
          "base_uri": "https://localhost:8080/"
        },
        "id": "pi4OmrmZgnWA",
        "outputId": "ecd0b477-c7d3-4a34-ddb8-0eadd5cb9147"
      },
      "outputs": [
        {
          "name": "stdout",
          "output_type": "stream",
          "text": [
            "[ 0.00215788  1.4030764   0.21855156 -0.3486134  -0.00249362 -0.0495052\n",
            "  0.          0.        ]\n"
          ]
        }
      ],
      "source": [
        "initial_state = env.reset()\n",
        "print(initial_state)"
      ]
    },
    {
      "attachments": {},
      "cell_type": "markdown",
      "metadata": {
        "id": "uBx0mEqqgxJ9"
      },
      "source": [
        "Then, we try to get a random action from the agent's action space."
      ]
    },
    {
      "cell_type": "code",
      "execution_count": 9,
      "metadata": {
        "colab": {
          "base_uri": "https://localhost:8080/"
        },
        "id": "vxkOEXRKgizt",
        "outputId": "9bd00d32-f7bd-4b76-eeea-7bdd935597b4"
      },
      "outputs": [
        {
          "name": "stdout",
          "output_type": "stream",
          "text": [
            "0\n"
          ]
        }
      ],
      "source": [
        "random_action = env.action_space.sample()\n",
        "print(random_action)"
      ]
    },
    {
      "attachments": {},
      "cell_type": "markdown",
      "metadata": {
        "id": "mns-bO01g0-J"
      },
      "source": [
        "More, we can utilize `step()` to make agent act according to the randomly-selected `random_action`.\n",
        "The `step()` function will return four values:\n",
        "- observation / state\n",
        "- reward\n",
        "- done (True/ False)\n",
        "- Other information"
      ]
    },
    {
      "cell_type": "code",
      "execution_count": 10,
      "metadata": {
        "id": "E_WViSxGgIk9"
      },
      "outputs": [],
      "source": [
        "observation, reward, done, info = env.step(random_action)"
      ]
    },
    {
      "cell_type": "code",
      "execution_count": 11,
      "metadata": {
        "colab": {
          "base_uri": "https://localhost:8080/"
        },
        "id": "yK7r126kuCNp",
        "outputId": "cf191223-aabf-48b7-8393-114f0df9dcad"
      },
      "outputs": [
        {
          "name": "stdout",
          "output_type": "stream",
          "text": [
            "False\n"
          ]
        }
      ],
      "source": [
        "print(done)"
      ]
    },
    {
      "attachments": {},
      "cell_type": "markdown",
      "metadata": {
        "id": "GKdS8vOihxhc"
      },
      "source": [
        "### Reward\n",
        "\n",
        "\n",
        "> Landing pad is always at coordinates (0,0). Coordinates are the first two numbers in state vector. Reward for moving from the top of the screen to landing pad and zero speed is about 100..140 points. If lander moves away from landing pad it loses reward back. Episode finishes if the lander crashes or comes to rest, receiving additional -100 or +100 points. Each leg ground contact is +10. Firing main engine is -0.3 points each frame. Solved is 200 points. "
      ]
    },
    {
      "cell_type": "code",
      "execution_count": 12,
      "metadata": {
        "colab": {
          "base_uri": "https://localhost:8080/"
        },
        "id": "vxQNs77hi0_7",
        "outputId": "9a260648-5c49-4b76-c94f-985a2ce65cf8"
      },
      "outputs": [
        {
          "name": "stdout",
          "output_type": "stream",
          "text": [
            "-1.58213605344352\n"
          ]
        }
      ],
      "source": [
        "print(reward)"
      ]
    },
    {
      "attachments": {},
      "cell_type": "markdown",
      "metadata": {
        "id": "Mhqp6D-XgHpe"
      },
      "source": [
        "### Random Agent\n",
        "In the end, before we start training, we can see whether a random agent can successfully land the moon or not."
      ]
    },
    {
      "cell_type": "code",
      "execution_count": 13,
      "metadata": {
        "colab": {
          "base_uri": "https://localhost:8080/",
          "height": 396
        },
        "id": "Y3G0bxoccelv",
        "outputId": "442108bc-db1c-4033-9cee-c2b6c084be52"
      },
      "outputs": [
        {
          "data": {
            "image/png": "[encoded data removed]",
            "text/plain": [
              "<Figure size 640x480 with 1 Axes>"
            ]
          },
          "metadata": {},
          "output_type": "display_data"
        }
      ],
      "source": [
        "env.reset()\n",
        "\n",
        "img = plt.imshow(env.render(mode='rgb_array'))\n",
        "\n",
        "done = False\n",
        "while not done:\n",
        "    action = env.action_space.sample()\n",
        "    observation, reward, done, _ = env.step(action)\n",
        "\n",
        "    img.set_data(env.render(mode='rgb_array'))\n",
        "    display.display(plt.gcf())\n",
        "    display.clear_output(wait=True)"
      ]
    },
    {
      "attachments": {},
      "cell_type": "markdown",
      "metadata": {},
      "source": [
        "## Noisy Networks"
      ]
    },
    {
      "cell_type": "code",
      "execution_count": 14,
      "metadata": {},
      "outputs": [],
      "source": [
        "from abc import ABC\n",
        "\n",
        "class AbstractNoisyLayer(nn.Module, ABC):\n",
        "    def __init__(\n",
        "            self,\n",
        "            input_features: int,\n",
        "            output_features: int,\n",
        "            sigma: float,\n",
        "    ):\n",
        "        super().__init__()\n",
        "\n",
        "        self.sigma = sigma\n",
        "        self.input_features = input_features\n",
        "        self.output_features = output_features\n",
        "\n",
        "        self.mu_bias = nn.Parameter(torch.FloatTensor(output_features))\n",
        "        self.sigma_bias = nn.Parameter(torch.FloatTensor(output_features))\n",
        "        self.mu_weight = nn.Parameter(torch.FloatTensor(output_features, input_features))\n",
        "        self.sigma_weight = nn.Parameter(torch.FloatTensor(output_features, input_features))\n",
        "\n",
        "        self.register_buffer('epsilon_input', torch.FloatTensor(input_features))\n",
        "        self.register_buffer('epsilon_output', torch.FloatTensor(output_features))\n",
        "\n",
        "    def forward(\n",
        "            self,\n",
        "            x: torch.Tensor,\n",
        "            sample_noise: bool = True\n",
        "    ) -> torch.Tensor:\n",
        "        if not self.training:\n",
        "            return nn.functional.linear(x, weight=self.mu_weight, bias=self.mu_bias)\n",
        "\n",
        "        if sample_noise:\n",
        "            self.sample_noise()\n",
        "\n",
        "        return nn.functional.linear(x, weight=self.weight, bias=self.bias)\n",
        "\n",
        "    @property\n",
        "    def weight(self) -> torch.Tensor:\n",
        "        raise NotImplementedError\n",
        "\n",
        "    @property\n",
        "    def bias(self) -> torch.Tensor:\n",
        "        raise NotImplementedError\n",
        "\n",
        "    def sample_noise(self) -> None:\n",
        "        raise NotImplementedError\n",
        "\n",
        "    def parameter_initialization(self) -> None:\n",
        "        raise NotImplementedError\n",
        "\n",
        "    def get_noise_tensor(self, features: int) -> torch.Tensor:\n",
        "        noise = torch.FloatTensor(features).uniform_(-self.bound, self.bound).to(self.mu_bias.device)\n",
        "        return torch.sign(noise) * torch.sqrt(torch.abs(noise))\n",
        "\n",
        "\n",
        "class IndependentNoisyLayer(AbstractNoisyLayer):\n",
        "    def __init__(\n",
        "            self,\n",
        "            input_features: int,\n",
        "            output_features: int,\n",
        "            sigma: float = 0.017,\n",
        "    ):\n",
        "        super(AbstractNoisyLayer).__init__(\n",
        "            input_features=input_features,\n",
        "            output_features=output_features,\n",
        "            sigma=sigma\n",
        "        )\n",
        "\n",
        "        self.bound = (3 / input_features) ** 0.5\n",
        "        self.parameter_initialization()\n",
        "        self.sample_noise()\n",
        "\n",
        "    @property\n",
        "    def weight(self) -> torch.Tensor:\n",
        "        return self.sigma_weight * self.epsilon_weight + self.mu_weight\n",
        "\n",
        "    @property\n",
        "    def bias(self) -> torch.Tensor:\n",
        "        return self.sigma_bias * self.epsilon_bias + self.mu_bias\n",
        "\n",
        "    def sample_noise(self) -> None:\n",
        "        self.epsilon_bias = self.get_noise_tensor((self.output_features,))\n",
        "        self.epsilon_weight = self.get_noise_tensor((self.output_features, self.input_features))\n",
        "\n",
        "    def parameter_initialization(self) -> None:\n",
        "        self.sigma_bias.data.fill_(self.sigma)\n",
        "        self.sigma_weight.data.fill_(self.sigma)\n",
        "        self.mu_bias.data.uniform_(-self.bound, self.bound)\n",
        "        self.mu_weight.data.uniform_(-self.bound, self.bound)\n",
        "\n",
        "\n",
        "class FactorisedNoisyLayer(AbstractNoisyLayer):\n",
        "    def __init__(\n",
        "            self,\n",
        "            input_features: int,\n",
        "            output_features: int,\n",
        "            sigma: float = 0.5,\n",
        "    ):\n",
        "        super().__init__(\n",
        "            input_features=input_features,\n",
        "            output_features=output_features,\n",
        "            sigma=sigma\n",
        "        )\n",
        "\n",
        "        # self.input_features = input_features\n",
        "        # self.output_features = output_features\n",
        "        # self.sigma = sigma\n",
        "\n",
        "        self.bound = input_features**(-0.5)\n",
        "        self.parameter_initialization()\n",
        "        self.sample_noise()\n",
        "\n",
        "    @property\n",
        "    def weight(self) -> torch.Tensor:\n",
        "        return self.sigma_weight * torch.ger(self.epsilon_output, self.epsilon_input) + self.mu_weight\n",
        "\n",
        "    @property\n",
        "    def bias(self) -> torch.Tensor:\n",
        "        return self.sigma_bias * self.epsilon_output + self.mu_bias\n",
        "\n",
        "    def sample_noise(self) -> None:\n",
        "        self.epsilon_input = self.get_noise_tensor(self.input_features)\n",
        "        self.epsilon_output = self.get_noise_tensor(self.output_features)\n",
        "\n",
        "    def parameter_initialization(self) -> None:\n",
        "        self.mu_bias.data.uniform_(-self.bound, self.bound)\n",
        "        self.sigma_bias.data.fill_(self.sigma * self.bound)\n",
        "        self.mu_weight.data.uniform_(-self.bound, self.bound)\n",
        "        self.sigma_weight.data.fill_(self.sigma * self.bound)"
      ]
    },
    {
      "cell_type": "code",
      "execution_count": 43,
      "metadata": {},
      "outputs": [],
      "source": [
        "from datetime import datetime\n",
        "BUFFER_SIZE = 5000000000  # replay buffer size\n",
        "BATCH_SIZE = 32         # minibatch size\n",
        "EPOCH = 4000\n",
        "GAMMA = 0.99            # discount factor\n",
        "TAU = 1e-3              # for soft update of target parameters\n",
        "LR = 1e-3               # learning rate \n",
        "UPDATE_EVERY = 10        # how often to update the network\n",
        "DUELING = True\n",
        "PARAM_NOISE = True"
      ]
    },
    {
      "attachments": {},
      "cell_type": "markdown",
      "metadata": {
        "id": "F5paWqo7tWL2"
      },
      "source": [
        "## Policy Gradient\n",
        "Now, we can build a simple policy network. The network will return one of action in the action space."
      ]
    },
    {
      "cell_type": "code",
      "execution_count": 44,
      "metadata": {
        "id": "J8tdmeD-tZew"
      },
      "outputs": [],
      "source": [
        "# class PolicyGradientNetwork(nn.Module):\n",
        "#     def __init__(self):\n",
        "#         super().__init__()\n",
        "#         self.fc1 = nn.Linear(8, 16)\n",
        "#         self.fc2 = nn.Linear(16, 16)\n",
        "#         self.fc3 = nn.Linear(16, 4)\n",
        "#     def forward(self, state):\n",
        "#         hid = torch.tanh(self.fc1(state))\n",
        "#         hid = torch.tanh(hid)\n",
        "#         return F.softmax(self.fc3(hid), dim=-1)\n",
        "    \n",
        "class DQN(nn.Module):\n",
        "    \"\"\"Actor (Policy) Model\"\"\"\n",
        "    def __init__(self, b_dueling=False, b_param_noise=False, sigma=0.5):\n",
        "        super().__init__()\n",
        "        self.b_dueling = b_dueling\n",
        "        self.b_param_noise = b_param_noise\n",
        "        self.input_dim = 8\n",
        "        self.latent_dim = 16\n",
        "        self.output_dim = 4\n",
        "        self.pre_net = nn.Sequential(\n",
        "            nn.Linear(self.input_dim, self.latent_dim),\n",
        "            nn.ReLU(),\n",
        "            nn.Linear(self.latent_dim,self.latent_dim),\n",
        "            nn.ReLU(),\n",
        "        )\n",
        "        self.noisy_pre_net = nn.Sequential(\n",
        "            FactorisedNoisyLayer(self.input_dim, self.latent_dim, sigma=sigma),\n",
        "            nn.ReLU(),\n",
        "            FactorisedNoisyLayer(self.latent_dim, self.latent_dim, sigma=sigma),\n",
        "            nn.ReLU(),\n",
        "        )\n",
        "\n",
        "        self.netA = nn.Sequential(\n",
        "            nn.Linear(self.latent_dim, self.output_dim),\n",
        "        )\n",
        "        self.netV = nn.Sequential(\n",
        "            nn.Linear(self.latent_dim, int(self.latent_dim/2)),\n",
        "            nn.ReLU(),\n",
        "            nn.Linear(int(self.latent_dim/2),1),\n",
        "            # nn.Linear(self.latent_dim, 1),\n",
        "            nn.ReLU(),\n",
        "        )\n",
        "        self.noisy_netA = nn.Sequential(\n",
        "            FactorisedNoisyLayer(self.latent_dim, self.output_dim, sigma=sigma),\n",
        "        )\n",
        "        self.noisy_netV = nn.Sequential(\n",
        "            FactorisedNoisyLayer(self.latent_dim, int(self.latent_dim/2), sigma=sigma),\n",
        "            nn.ReLU(),\n",
        "            FactorisedNoisyLayer(int(self.latent_dim/2), 1, sigma=sigma),\n",
        "            # FactorisedNoisyLayer(self.latent_dim, 1, sigma=sigma),\n",
        "            nn.ReLU(),\n",
        "        )\n",
        "    \n",
        "    def forward(self, state):\n",
        "        x = state\n",
        "        if self.b_param_noise:\n",
        "            x = self.noisy_pre_net(x)\n",
        "            outA = self.noisy_netA(x)\n",
        "            outA = outA.reshape(-1,self.output_dim)\n",
        "            outV = 0\n",
        "            if self.b_dueling:\n",
        "                outV = self.noisy_netV(x)\n",
        "                return (outA - torch.mean(outA)) + outV, outA, outV\n",
        "            else:\n",
        "                return outA, outA, outV\n",
        "        else:\n",
        "            x = self.pre_net(x)\n",
        "            outA = self.netA(x)\n",
        "            outA = outA.reshape(-1,self.output_dim)\n",
        "            outV = 0\n",
        "            if self.b_dueling:\n",
        "                outV = self.netV(x)\n",
        "                return (outA - torch.mean(outA)) + outV, outA, outV\n",
        "            else:\n",
        "                return outA, outA, outV"
      ]
    },
    {
      "attachments": {},
      "cell_type": "markdown",
      "metadata": {
        "id": "ynbqJrhIFTC3"
      },
      "source": [
        "Then, we need to build a simple agent. The agent will acts according to the output of the policy network above. There are a few things can be done by agent:\n",
        "- `learn()`：update the policy network from log probabilities and rewards.\n",
        "- `sample()`：After receiving observation from the environment, utilize policy network to tell which action to take. The return values of this function includes action and log probabilities. "
      ]
    },
    {
      "cell_type": "code",
      "execution_count": 45,
      "metadata": {
        "id": "zZo-IxJx286z"
      },
      "outputs": [],
      "source": [
        "from torch.optim.lr_scheduler import StepLR\n",
        "# class PolicyGradientAgent():\n",
        "#     def __init__(self, network):\n",
        "#         self.network = network\n",
        "#         self.optimizer = optim.SGD(self.network.parameters(), lr=0.002)\n",
        "        \n",
        "#     def forward(self, state):\n",
        "#         return self.network(state)\n",
        "#     def learn(self, log_probs, rewards):\n",
        "#         loss = (-log_probs * rewards).sum() # You don't need to revise this to pass simple baseline (but you can)\n",
        "\n",
        "#         self.optimizer.zero_grad()\n",
        "#         loss.backward()\n",
        "#         self.optimizer.step()\n",
        "        \n",
        "#     def sample(self, state):\n",
        "#         action_prob = self.network(torch.FloatTensor(state))\n",
        "#         action_dist = Categorical(action_prob)\n",
        "#         action = action_dist.sample()\n",
        "#         log_prob = action_dist.log_prob(action)\n",
        "#         return action.item(), log_prob\n",
        "\n",
        "class Agent():\n",
        "    \"\"\"Interacts with and learns from the environment.\"\"\"\n",
        "    def __init__(self, state_size, action_size):\n",
        "        \"\"\"Initialize an Agent object.\n",
        "        Params\n",
        "        ======\n",
        "            state_size (int): dimension of each state\n",
        "            action_size (int): dimension of each action\n",
        "            seed (int): random seed\n",
        "        \"\"\"\n",
        "        self.state_size = state_size\n",
        "        self.action_size = action_size\n",
        "\n",
        "        # Q-Network\n",
        "        self.qnetwork_local = DQN(DUELING).to(device)\n",
        "        self.qnetwork_target = DQN(DUELING).to(device)\n",
        "        self.optimizer = optim.Adam(self.qnetwork_local.parameters(), lr=LR)\n",
        "\n",
        "        # Replay memory\n",
        "        self.memory = ReplayBuffer(BUFFER_SIZE)\n",
        "        # Initialize time step (for updating every UPDATE_EVERY steps)\n",
        "        self.t_step = 0\n",
        "    \n",
        "    def learn(self, experiences, gamma):\n",
        "        \"\"\"Update value parameters using given batch of experience tuples.\n",
        "        Params\n",
        "        ======\n",
        "            experiences (Tuple[torch.Variable]): tuple of (s, a, r, s', done) tuples \n",
        "            gamma (float): discount factor\n",
        "        \"\"\"\n",
        "        # Obtain random minibatch of tuples from D\n",
        "        states, actions, rewards, next_states, dones = experiences\n",
        "\n",
        "        ## Compute and minimize the loss\n",
        "        ### Extract next maximum estimated value from target network\n",
        "        q_targets_next, val_A, val_V = self.qnetwork_target(next_states)\n",
        "        q_targets_next = q_targets_next.detach().max(1)[0].unsqueeze(1)\n",
        "        ### Calculate target value from bellman equation\n",
        "        q_targets = rewards + gamma * q_targets_next * (1 - dones)\n",
        "        ### Calculate expected value from local network\n",
        "        q_expected, val_A, val_V = self.qnetwork_local(states)\n",
        "        q_expected = q_expected.gather(1, actions)\n",
        "        \n",
        "        ### Loss calculation (we used Mean squared error)\n",
        "        loss = F.mse_loss(q_expected, q_targets)\n",
        "        self.optimizer.zero_grad()\n",
        "        loss.backward()\n",
        "        self.optimizer.step()\n",
        "\n",
        "        # ------------------- update target network ------------------- #\n",
        "        self.soft_update(self.qnetwork_local, self.qnetwork_target, TAU)                    \n",
        "    \n",
        "    def step(self, state, action, reward, next_state, done):\n",
        "        # Save experience in replay memory\n",
        "        self.memory.push(state, action, reward, next_state, done)\n",
        "        \n",
        "        # Learn every UPDATE_EVERY time steps.\n",
        "        self.t_step = (self.t_step + 1) % UPDATE_EVERY\n",
        "        if self.t_step == 0:\n",
        "            # If enough samples are available in memory, get random subset and learn\n",
        "            if len(self.memory) > BATCH_SIZE:\n",
        "                experiences = self.memory.sample(BATCH_SIZE)\n",
        "                self.learn(experiences, GAMMA)\n",
        "\n",
        "    def sample_action(self, state, eps=0.):\n",
        "        \"\"\"Returns actions for given state as per current policy.\n",
        "        Params\n",
        "        ======\n",
        "            state (array_like): current state\n",
        "            eps (float): epsilon, for epsilon-greedy action selection\n",
        "        \"\"\"\n",
        "        state = torch.from_numpy(state).float().unsqueeze(0).to(device)\n",
        "        self.qnetwork_local.eval()\n",
        "        # Double DQN\n",
        "        with torch.no_grad():\n",
        "            action_values, val_A, val_V = self.qnetwork_local(state)\n",
        "        self.qnetwork_local.train()\n",
        "\n",
        "        if PARAM_NOISE:\n",
        "            return np.argmax(action_values.cpu().data.numpy())\n",
        "        else:\n",
        "            # Epsilon-greedy action selection\n",
        "            if random.random() > eps: # choose action with best value\n",
        "                return np.argmax(action_values.cpu().data.numpy())\n",
        "            else: # random exploration\n",
        "                return random.choice(np.arange(self.action_size))\n",
        "\n",
        "    def soft_update(self, local_model, target_model, tau):\n",
        "        \"\"\"Soft update model parameters.\n",
        "        θ_target = τ*θ_local + (1 - τ)*θ_target\n",
        "        Params\n",
        "        ======\n",
        "            local_model (PyTorch model): weights will be copied from\n",
        "            target_model (PyTorch model): weights will be copied to\n",
        "            tau (float): interpolation parameter \n",
        "        \"\"\"\n",
        "        for target_param, local_param in zip(target_model.parameters(), local_model.parameters()):\n",
        "            target_param.data.copy_(tau*local_param.data + (1.0-tau)*target_param.data)\n",
        "\n",
        "    def save(self, MODEL_PATH): # You should not revise this\n",
        "        Agent_Dict = {\n",
        "            \"network\" : self.qnetwork_local.state_dict(),\n",
        "            \"optimizer\" : self.optimizer.state_dict()\n",
        "        }\n",
        "        torch.save(Agent_Dict, MODEL_PATH)\n",
        "\n",
        "    def load(self, PATH): # You should not revise this\n",
        "        checkpoint = torch.load(PATH)\n",
        "        self.qnetwork_local.load_state_dict(checkpoint[\"network\"])\n",
        "        #如果要儲存過程或是中斷訓練後想繼續可以用喔 ^_^\n",
        "        self.optimizer.load_state_dict(checkpoint[\"optimizer\"])"
      ]
    },
    {
      "attachments": {},
      "cell_type": "markdown",
      "metadata": {},
      "source": [
        "Define Replay Buffer"
      ]
    },
    {
      "cell_type": "code",
      "execution_count": 46,
      "metadata": {},
      "outputs": [],
      "source": [
        "class ReplayBuffer():\n",
        "    def __init__(self, buffer_size=5000):\n",
        "        \"\"\"Initialize a ReplayBuffer object.\n",
        "        Params\n",
        "        ======\n",
        "            buffer_size (int): maximum size of buffer\n",
        "        \"\"\"\n",
        "        self.memory = deque([], maxlen=buffer_size)\n",
        "    \n",
        "    class experience():\n",
        "        def __init__(self, state, action, reward, next_state, done):\n",
        "            self.state = state\n",
        "            self.action = action\n",
        "            self.reward = reward\n",
        "            self.next_state = next_state\n",
        "            self.done = done\n",
        "\n",
        "\n",
        "    def push(self, state, action, reward, next_state, done):\n",
        "        \"\"\"Add a new experience to memory\"\"\"\n",
        "        e = self.experience(state, action, reward, next_state, done)\n",
        "        self.memory.append(e)\n",
        "\n",
        "    def sample(self, BATCH):\n",
        "        \"\"\"Randomly sample a batch of experiences from memory.\"\"\"\n",
        "        experiences = random.sample(self.memory, BATCH)\n",
        "        \n",
        "        states = torch.from_numpy(np.vstack([e.state for e in experiences if e is not None])).float().to(device)\n",
        "        actions = torch.from_numpy(np.vstack([e.action for e in experiences if e is not None])).long().to(device)\n",
        "        rewards = torch.from_numpy(np.vstack([e.reward for e in experiences if e is not None])).float().to(device)\n",
        "        next_states = torch.from_numpy(np.vstack([e.next_state for e in experiences if e is not None])).float().to(device)\n",
        "        dones = torch.from_numpy(np.vstack([e.done for e in experiences if e is not None]).astype(np.uint8)).float().to(device)\n",
        "        return (states, actions, rewards, next_states, dones)\n",
        "    \n",
        "    def __len__(self):\n",
        "        \"\"\"Return the current size of internal memory.\"\"\"\n",
        "        return len(self.memory)"
      ]
    },
    {
      "attachments": {},
      "cell_type": "markdown",
      "metadata": {
        "id": "ehPlnTKyRZf9"
      },
      "source": [
        "Lastly, build a network and agent to start training."
      ]
    },
    {
      "cell_type": "code",
      "execution_count": 47,
      "metadata": {
        "id": "GfJIvML-RYjL"
      },
      "outputs": [],
      "source": [
        "# network = PolicyGradientNetwork()\n",
        "# agent = PolicyGradientAgent(network)"
      ]
    },
    {
      "attachments": {},
      "cell_type": "markdown",
      "metadata": {
        "id": "ouv23glgf5Qt"
      },
      "source": [
        "## Training Agent\n",
        "\n",
        "Now let's start to train our agent.\n",
        "Through taking all the interactions between agent and environment as training data, the policy network can learn from all these attempts,"
      ]
    },
    {
      "cell_type": "code",
      "execution_count": 48,
      "metadata": {},
      "outputs": [],
      "source": [
        "def test(agent, action_list_path):\n",
        "    fix(env, seed)\n",
        "    agent.qnetwork_local.eval()  # set the network into evaluation mode\n",
        "    agent.qnetwork_target.eval()  # set the network into evaluation mode\n",
        "    NUM_OF_TEST = 5 # Do not revise this !!!\n",
        "    test_total_reward = []\n",
        "    action_list = []\n",
        "    for i in range(NUM_OF_TEST):\n",
        "        actions = []\n",
        "        state = env.reset()\n",
        "        total_reward = 0\n",
        "        done = False\n",
        "        while not done:\n",
        "            action = agent.sample_action(state)\n",
        "            actions.append(action)\n",
        "            state, reward, done, _ = env.step(action)\n",
        "            total_reward += reward\n",
        "        test_total_reward.append(total_reward)\n",
        "        action_list.append(actions) # save the result of testing \n",
        "    #print(\"  test-total-reward: \", test_total_reward)\n",
        "    np.save(action_list_path, np.array(action_list)) \n",
        "    return np.mean(test_total_reward)"
      ]
    },
    {
      "cell_type": "code",
      "execution_count": 49,
      "metadata": {},
      "outputs": [],
      "source": [
        "avg_total_rewards, avg_final_rewards = [], []\n",
        "total_rewards, final_rewards = [], []\n",
        "\n",
        "def train(agent, n_episode=2000, max_t=1000, eps_start=1.0, eps_end=0.01, eps_decay=0.995, work_dir=\"./\", save_every=200):\n",
        "    \"\"\"Deep Q-Learning\n",
        "    Params\n",
        "    ======\n",
        "        n_epoch (int): maximum number of training episodes\n",
        "        max_t (int): maximum number of timesteps per episode\n",
        "        eps_start (float): starting value of epsilon, for epsilon-greedy action selection (similar to 'T' in SA)\n",
        "        eps_end (float): minimum value of epsilon\n",
        "        eps_decay (float): multiplicative factor (per episode) for decreasing epsilon\n",
        "    \"\"\"\n",
        "    ckpt_dir = \"./{}/models/\".format(work_dir)\n",
        "    fig_dir = \"./{}/figs/\".format(work_dir)\n",
        "    actions_dir = \"./{}/actions/\".format(work_dir)\n",
        "    best_dir = \"./{}/best/\".format(work_dir)\n",
        "    !mkdir -p \"{ckpt_dir}\" \"{fig_dir}\" \"{best_dir}\" \"{actions_dir}\"\n",
        "\n",
        "    total_rewards_window = deque(maxlen=1000)  # last 100 scores\n",
        "    best_reward = -9999\n",
        "    best_score = -9999 # tested reward\n",
        "    eps = eps_start                    # initialize epsilon\n",
        "    for i_episode in range(1, n_episode+1):\n",
        "        state = env.reset()\n",
        "        total_reward = 0\n",
        "        final_reward = -1\n",
        "        img_list = []\n",
        "        action_list = []\n",
        "        step_count = 0\n",
        "        for t in range(max_t):\n",
        "            action = agent.sample_action(state, eps)\n",
        "            action_list.append(action)\n",
        "            next_state, reward, done, info = env.step(action)\n",
        "            agent.step(state, action, reward, next_state, done)\n",
        "            state = next_state\n",
        "            total_reward += reward\n",
        "            if i_episode % save_every == 0 or (i_episode%10==0 and i_episode<save_every) or i_episode==1:\n",
        "                img_list.append(Image.fromarray(env.render(mode='rgb_array'), 'RGB'))\n",
        "            if done:\n",
        "                step_count = t\n",
        "                final_reward = reward\n",
        "                final_rewards.append(final_reward)\n",
        "                break \n",
        "            if t == max_t-1:\n",
        "                step_count = t\n",
        "                total_reward += -100\n",
        "                final_reward = -100+reward\n",
        "                final_rewards.append(final_reward)\n",
        "                break \n",
        "        total_rewards_window.append(total_reward)              # save most recent score\n",
        "        total_rewards.append(total_reward)              # save most recent score\n",
        "        eps = max(eps_end, eps_decay*eps) # decrease epsilon\n",
        "\n",
        "        if i_episode % 100 == 0 or i_episode < 10:\n",
        "            print('\\rEpisode {}\\tAction length: {}, Total reward: {:.2f}, Average reward: {:.2f}, Final reward: {:.2f}'.format(i_episode, step_count, total_reward, np.mean(total_rewards_window), final_reward))\n",
        "        else: print(\".\", end=\"\")\n",
        "        if i_episode % save_every == 0 or i_episode==1:\n",
        "            chechpoint_pth = ckpt_dir+ f\"Agent_Dict-{i_episode}.ckpt\"\n",
        "            #print(f\"\\rsave model as {chechpoint_pth}.\")\n",
        "            chechpoint_pth = ckpt_dir+ f\"Agent_Dict-{i_episode}.ckpt\"\n",
        "            agent.save(chechpoint_pth)\n",
        "            np.save(ckpt_dir+f\"Action_List-{i_episode}.npy\" ,np.array(action_list)) \n",
        "            gif_pth = fig_dir + f\"layout-{i_episode}.gif\"\n",
        "            imageio.mimsave(gif_pth, img_list, 'GIF', duration=0.002)\n",
        "            img_list[0].save(gif_pth, save_all=True, append_images=img_list)\n",
        "            # test\n",
        "            action_list_path = actions_dir+f\"Action_List-{i_episode}.npy\"\n",
        "            test(agent, action_list_path)\n",
        "        \n",
        "        if total_reward >= best_reward and final_reward == 100:\n",
        "            print('\\rEpisode {}\\tAction length: {}, Total reward: {:.2f}, Average reward: {:.2f}, Final reward: {:.2f} <-- good'.format(i_episode, step_count, total_reward, np.mean(total_rewards_window), final_reward))\n",
        "            # test\n",
        "            action_list_path = actions_dir+f\"Action_List-{i_episode}.npy\"\n",
        "            test_reward = test(agent, action_list_path)\n",
        "            if test_reward > best_reward:\n",
        "                best_reward = test_reward\n",
        "                !rm -f \"{best_dir}*.ckpt\"\n",
        "                agent.save(best_dir+\"Agent_Dict.ckpt\")\n",
        "                best_i_txt = best_dir+\"best-i.txt\"\n",
        "                !echo \"{i_episode}\" best_reward=\"{best_reward}\" > \"{best_i_txt}\"\n",
        "                np.save(best_dir+\"Action_List.npy\" ,np.array(action_list))\n",
        "                print('\\rEpisode {}\\t Avg test reward: {:.2f} <-- best'.format(i_episode, test_reward))\n",
        "                cp_cmd = f\"cp {action_list_path} {best_dir}Action_List-test.npy\"\n",
        "                os.system(cp_cmd)\n",
        "        elif final_reward == 100:\n",
        "            print('\\rEpisode {}\\tAction length: {}, Total reward: {:.2f}, Average reward: {:.2f}, Final reward: {:.2f} <-- success'.format(i_episode, step_count, total_reward, np.mean(total_rewards_window), final_reward))\n",
        "\n",
        "        # 紀錄訓練過程 \n",
        "        avg_total_reward, avg_final_reward = 0, 0\n",
        "        avg_total_reward = sum(total_rewards) / len(total_rewards)\n",
        "        avg_final_reward = sum(final_rewards) / len(final_rewards)\n",
        "        avg_total_rewards.append(avg_total_reward)\n",
        "        avg_final_rewards.append(avg_final_reward)\n",
        "    print((f\"avgTotal: {avg_total_reward: 4.1f}, avgFinalReward: {avg_final_reward: 4.1f}, bestReward: {best_reward}\"))\n",
        "\n",
        "    return total_rewards, final_rewards, best_reward"
      ]
    },
    {
      "cell_type": "code",
      "execution_count": 50,
      "metadata": {
        "colab": {
          "base_uri": "https://localhost:8080/",
          "height": 1000,
          "referenced_widgets": [
            "a75e87122a4c4b2fa75a69b27b0f9111",
            "ff52d7994d7848429da4dc9078d2f228",
            "194b9ffbe5c8431ba02221e5f8f1e315",
            "d961617cc2924a70ae866bf25c1643bb",
            "66b62bd445394f90914856c4e6ffad8a",
            "bf39b080df3c4a9c9136740f657b0f79",
            "ad74a83a0e534484a27a1ff7b981c62a",
            "a86cc078ee82412393be06fbb41dc603",
            "6af646edfbed423a893eb4ff5a80dc65",
            "5805cbaeef104932bbc2886796b99a5c",
            "76be8412fdd94bb99c9b071764057b9b"
          ]
        },
        "id": "vg5rxBBaf38_",
        "outputId": "732e2ed7-8304-4d6f-8ffb-64429e62b520"
      },
      "outputs": [
        {
          "name": "stdout",
          "output_type": "stream",
          "text": [
            "0616-1609_lunar-Duel-noisy-LR0.001-GAMMA0.99\n",
            "Episode 1\tAction length: 93, Total reward: -712.89, Average reward: -712.89, Final reward: -100.00\n"
          ]
        },
        {
          "name": "stderr",
          "output_type": "stream",
          "text": [
            "/home/frankchiang/local/anaconda3/envs/ml2023_hw12/lib/python3.7/site-packages/ipykernel_launcher.py:21: VisibleDeprecationWarning: Creating an ndarray from ragged nested sequences (which is a list-or-tuple of lists-or-tuples-or ndarrays with different lengths or shapes) is deprecated. If you meant to do this, you must specify 'dtype=object' when creating the ndarray.\n"
          ]
        },
        {
          "name": "stdout",
          "output_type": "stream",
          "text": [
            "Episode 2\tAction length: 59, Total reward: -568.59, Average reward: -640.74, Final reward: -100.00\n",
            "Episode 3\tAction length: 63, Total reward: -503.81, Average reward: -595.09, Final reward: -100.00\n",
            "Episode 4\tAction length: 78, Total reward: -724.44, Average reward: -627.43, Final reward: -100.00\n",
            "Episode 5\tAction length: 66, Total reward: -134.95, Average reward: -528.94, Final reward: -100.00\n",
            "Episode 6\tAction length: 74, Total reward: -743.17, Average reward: -564.64, Final reward: -100.00\n",
            "Episode 7\tAction length: 51, Total reward: -445.37, Average reward: -547.60, Final reward: -100.00\n",
            "Episode 8\tAction length: 78, Total reward: -710.11, Average reward: -567.92, Final reward: -100.00\n",
            "Episode 9\tAction length: 77, Total reward: -398.86, Average reward: -549.13, Final reward: -100.00\n",
            "Episode 100\tAction length: 158, Total reward: -155.87, Average reward: -170.76, Final reward: -100.00\n",
            "Episode 200\tAction length: 354, Total reward: -97.18, Average reward: -168.24, Final reward: -100.00\n",
            "Episode 236\tAction length: 603, Total reward: 167.97, Average reward: -168.19, Final reward: 100.00 <-- good\n",
            "Episode 236\t Avg test reward: -154.77 <-- best\n",
            "Episode 252\tAction length: 693, Total reward: 193.71, Average reward: -165.83, Final reward: 100.00 <-- good\n",
            "Episode 252\t Avg test reward: -120.22 <-- best\n",
            "Episode 258\tAction length: 287, Total reward: 209.00, Average reward: -164.52, Final reward: 100.00 <-- good\n",
            "Episode 258\t Avg test reward: -88.57 <-- best\n",
            "Episode 280\tAction length: 425, Total reward: 191.62, Average reward: -161.12, Final reward: 100.00 <-- good\n",
            "Episode 300\tAction length: 999, Total reward: -105.20, Average reward: -157.44, Final reward: -1.24\n",
            "Episode 304\tAction length: 390, Total reward: 212.57, Average reward: -156.21, Final reward: 100.00 <-- good\n",
            "Episode 304\t Avg test reward: 44.29 <-- best\n",
            "Episode 318\tAction length: 695, Total reward: 164.73, Average reward: -155.09, Final reward: 100.00 <-- good\n",
            "Episode 337\tAction length: 690, Total reward: 90.20, Average reward: -149.95, Final reward: 100.00 <-- good\n",
            "Episode 355\tAction length: 949, Total reward: 92.89, Average reward: -145.57, Final reward: 100.00 <-- good\n",
            "Episode 384\tAction length: 598, Total reward: 113.46, Average reward: -141.48, Final reward: 100.00 <-- good\n",
            "Episode 400\tAction length: 999, Total reward: -58.97, Average reward: -138.74, Final reward: -2.03\n",
            "Episode 419\tAction length: 493, Total reward: 138.05, Average reward: -136.08, Final reward: 100.00 <-- good\n",
            "Episode 463\tAction length: 831, Total reward: 130.22, Average reward: -131.34, Final reward: 100.00 <-- good\n",
            "Episode 472\tAction length: 308, Total reward: 192.22, Average reward: -130.37, Final reward: 100.00 <-- good\n",
            "Episode 500\tAction length: 999, Total reward: -26.80, Average reward: -128.46, Final reward: 3.12\n",
            "Episode 525\tAction length: 642, Total reward: 194.72, Average reward: -125.82, Final reward: 100.00 <-- good\n",
            "Episode 600\tAction length: 999, Total reward: -56.20, Average reward: -120.74, Final reward: 0.94\n",
            "Episode 700\tAction length: 112, Total reward: -183.39, Average reward: -116.93, Final reward: -100.00\n",
            "Episode 800\tAction length: 180, Total reward: -89.34, Average reward: -121.55, Final reward: -100.00\n",
            "Episode 900\tAction length: 999, Total reward: -51.10, Average reward: -125.01, Final reward: -1.81.\n",
            "Episode 1000\tAction length: 99, Total reward: -96.38, Average reward: -126.81, Final reward: -100.00\n",
            "Episode 1063\tAction length: 375, Total reward: 222.74, Average reward: -120.27, Final reward: 100.00 <-- good\n",
            "Episode 1100\tAction length: 105, Total reward: -175.80, Average reward: -123.53, Final reward: -100.00\n",
            "Episode 1154\tAction length: 354, Total reward: 113.72, Average reward: -123.24, Final reward: 100.00 <-- good\n",
            "Episode 1200\tAction length: 117, Total reward: -353.89, Average reward: -121.09, Final reward: -100.00\n",
            "Episode 1219\tAction length: 382, Total reward: 233.57, Average reward: -120.08, Final reward: 100.00 <-- good\n",
            "Episode 1297\tAction length: 375, Total reward: 148.32, Average reward: -121.41, Final reward: 100.00 <-- good\n",
            "Episode 1300\tAction length: 103, Total reward: -139.72, Average reward: -121.68, Final reward: -100.00\n",
            "Episode 1314\tAction length: 201, Total reward: 238.10, Average reward: -121.67, Final reward: 100.00 <-- good\n",
            "Episode 1328\tAction length: 264, Total reward: 238.50, Average reward: -122.45, Final reward: 100.00 <-- good\n",
            "Episode 1352\tAction length: 536, Total reward: 138.58, Average reward: -124.27, Final reward: 100.00 <-- good\n",
            "Episode 1358\tAction length: 306, Total reward: 192.66, Average reward: -124.51, Final reward: 100.00 <-- good\n",
            "Episode 1368\tAction length: 425, Total reward: 139.60, Average reward: -124.71, Final reward: 100.00 <-- good\n",
            "Episode 1400\tAction length: 90, Total reward: -156.82, Average reward: -127.45, Final reward: -100.00\n",
            "Episode 1422\tAction length: 258, Total reward: 235.48, Average reward: -128.41, Final reward: 100.00 <-- good\n",
            "Episode 1428\tAction length: 355, Total reward: 217.75, Average reward: -128.61, Final reward: 100.00 <-- good\n",
            "Episode 1435\tAction length: 313, Total reward: 209.36, Average reward: -128.64, Final reward: 100.00 <-- good\n",
            "Episode 1473\tAction length: 335, Total reward: 162.43, Average reward: -130.87, Final reward: 100.00 <-- good\n",
            "Episode 1476\tAction length: 414, Total reward: 199.00, Average reward: -130.58, Final reward: 100.00 <-- good\n",
            "Episode 1490\tAction length: 399, Total reward: 198.47, Average reward: -131.39, Final reward: 100.00 <-- good\n",
            "Episode 1500\tAction length: 893, Total reward: -186.05, Average reward: -132.06, Final reward: -100.00\n",
            "Episode 1504\tAction length: 254, Total reward: 167.57, Average reward: -132.06, Final reward: 100.00 <-- good\n",
            "Episode 1514\tAction length: 551, Total reward: 167.00, Average reward: -131.97, Final reward: 100.00 <-- good\n",
            "Episode 1517\tAction length: 630, Total reward: 96.88, Average reward: -131.82, Final reward: 100.00 <-- good\n",
            "Episode 1577\tAction length: 389, Total reward: 161.09, Average reward: -135.57, Final reward: 100.00 <-- good\n",
            "Episode 1578\tAction length: 249, Total reward: 138.22, Average reward: -135.39, Final reward: 100.00 <-- good\n",
            "Episode 1586\tAction length: 778, Total reward: 182.58, Average reward: -135.42, Final reward: 100.00 <-- good\n",
            "Episode 1600\tAction length: 442, Total reward: -179.93, Average reward: -136.74, Final reward: -100.00\n",
            "Episode 1624\tAction length: 530, Total reward: 112.70, Average reward: -138.76, Final reward: 100.00 <-- good\n",
            "Episode 1653\tAction length: 291, Total reward: 228.12, Average reward: -142.25, Final reward: 100.00 <-- good\n",
            "Episode 1665\tAction length: 295, Total reward: 252.14, Average reward: -142.77, Final reward: 100.00 <-- good\n",
            "Episode 1671\tAction length: 474, Total reward: 191.17, Average reward: -142.60, Final reward: 100.00 <-- good\n",
            "Episode 1700\tAction length: 205, Total reward: -153.59, Average reward: -143.69, Final reward: -100.00\n",
            "Episode 1728\tAction length: 328, Total reward: 233.63, Average reward: -143.85, Final reward: 100.00 <-- good\n",
            "Episode 1755\tAction length: 628, Total reward: 172.57, Average reward: -144.06, Final reward: 100.00 <-- good\n",
            "Episode 1779\tAction length: 651, Total reward: 171.13, Average reward: -143.06, Final reward: 100.00 <-- good\n",
            "Episode 1800\tAction length: 290, Total reward: -158.64, Average reward: -142.31, Final reward: -100.00\n",
            "Episode 1900\tAction length: 359, Total reward: -139.66, Average reward: -142.39, Final reward: -100.00\n",
            "Episode 1930\tAction length: 918, Total reward: 70.20, Average reward: -141.95, Final reward: 100.00 <-- good\n",
            "Episode 2000\tAction length: 999, Total reward: -86.61, Average reward: -143.17, Final reward: -4.10\n",
            "Episode 2087\tAction length: 717, Total reward: 145.07, Average reward: -146.83, Final reward: 100.00 <-- good\n",
            "Episode 2100\tAction length: 999, Total reward: -44.22, Average reward: -147.77, Final reward: 1.66\n",
            "Episode 2151\tAction length: 381, Total reward: 188.15, Average reward: -148.43, Final reward: 100.00 <-- good\n",
            "Episode 2200\tAction length: 999, Total reward: -160.64, Average reward: -149.27, Final reward: -1.80\n",
            "Episode 2204\tAction length: 678, Total reward: 103.57, Average reward: -149.11, Final reward: 100.00 <-- good\n",
            "Episode 2231\tAction length: 705, Total reward: 210.77, Average reward: -149.25, Final reward: 100.00 <-- good\n",
            "Episode 2260\tAction length: 402, Total reward: 215.36, Average reward: -148.07, Final reward: 100.00 <-- good\n",
            "Episode 2273\tAction length: 368, Total reward: 240.89, Average reward: -147.88, Final reward: 100.00 <-- good\n",
            "Episode 2286\tAction length: 766, Total reward: 249.86, Average reward: -146.88, Final reward: 100.00 <-- good\n",
            "Episode 2300\tAction length: 999, Total reward: -77.13, Average reward: -147.04, Final reward: 5.12\n",
            "Episode 2308\tAction length: 604, Total reward: 202.23, Average reward: -146.65, Final reward: 100.00 <-- good\n",
            "Episode 2311\tAction length: 810, Total reward: 169.70, Average reward: -146.35, Final reward: 100.00 <-- good\n",
            "Episode 2331\tAction length: 974, Total reward: 116.30, Average reward: -146.00, Final reward: 100.00 <-- good\n",
            "Episode 2333\tAction length: 978, Total reward: 70.25, Average reward: -145.84, Final reward: 100.00 <-- good\n",
            "Episode 2334\tAction length: 929, Total reward: 97.35, Average reward: -145.61, Final reward: 100.00 <-- good\n",
            "Episode 2336\tAction length: 631, Total reward: 191.53, Average reward: -145.34, Final reward: 100.00 <-- good\n",
            "Episode 2342\tAction length: 742, Total reward: 128.59, Average reward: -144.67, Final reward: 100.00 <-- good\n",
            "Episode 2366\tAction length: 697, Total reward: 147.28, Average reward: -144.35, Final reward: 100.00 <-- good\n",
            "Episode 2400\tAction length: 999, Total reward: 23.69, Average reward: -142.90, Final reward: 3.10\n",
            "Episode 2403\tAction length: 201, Total reward: 252.47, Average reward: -142.13, Final reward: 100.00 <-- good\n",
            "Episode 2405\tAction length: 459, Total reward: 258.08, Average reward: -141.81, Final reward: 100.00 <-- good\n",
            "Episode 2408\tAction length: 928, Total reward: 208.75, Average reward: -141.41, Final reward: 100.00 <-- good\n",
            "Episode 2417\tAction length: 616, Total reward: 233.96, Average reward: -141.13, Final reward: 100.00 <-- good\n",
            "Episode 2419\tAction length: 725, Total reward: 162.75, Average reward: -140.83, Final reward: 100.00 <-- good\n",
            "Episode 2423\tAction length: 564, Total reward: 128.75, Average reward: -140.71, Final reward: 100.00 <-- good\n",
            "Episode 2424\tAction length: 967, Total reward: 114.39, Average reward: -140.39, Final reward: 100.00 <-- good\n",
            "Episode 2427\tAction length: 877, Total reward: 108.33, Average reward: -140.11, Final reward: 100.00 <-- good\n",
            "Episode 2429\tAction length: 737, Total reward: 199.31, Average reward: -140.17, Final reward: 100.00 <-- good\n",
            "Episode 2451\tAction length: 464, Total reward: 206.39, Average reward: -138.95, Final reward: 100.00 <-- good\n",
            "Episode 2462\tAction length: 533, Total reward: 179.70, Average reward: -137.99, Final reward: 100.00 <-- good\n",
            "Episode 2464\tAction length: 895, Total reward: 134.43, Average reward: -137.63, Final reward: 100.00 <-- good\n",
            "Episode 2468\tAction length: 878, Total reward: 155.34, Average reward: -137.02, Final reward: 100.00 <-- good\n",
            "Episode 2469\tAction length: 715, Total reward: 141.23, Average reward: -136.71, Final reward: 100.00 <-- good\n",
            "Episode 2470\tAction length: 733, Total reward: 247.42, Average reward: -136.29, Final reward: 100.00 <-- good\n",
            "Episode 2473\tAction length: 358, Total reward: 240.53, Average reward: -136.14, Final reward: 100.00 <-- good\n",
            "Episode 2491\tAction length: 829, Total reward: 76.43, Average reward: -135.04, Final reward: 100.00 <-- good\n",
            "Episode 2493\tAction length: 673, Total reward: 122.39, Average reward: -134.56, Final reward: 100.00 <-- good\n",
            "Episode 2496\tAction length: 452, Total reward: 208.10, Average reward: -134.11, Final reward: 100.00 <-- good\n",
            "Episode 2500\tAction length: 999, Total reward: -54.16, Average reward: -134.00, Final reward: 1.75\n",
            "Episode 2501\tAction length: 338, Total reward: 146.57, Average reward: -133.73, Final reward: 100.00 <-- good\n",
            "Episode 2506\tAction length: 596, Total reward: 165.19, Average reward: -133.63, Final reward: 100.00 <-- good\n",
            "Episode 2519\tAction length: 466, Total reward: 158.41, Average reward: -133.43, Final reward: 100.00 <-- good\n",
            "Episode 2524\tAction length: 825, Total reward: 107.03, Average reward: -133.08, Final reward: 100.00 <-- good\n",
            "Episode 2527\tAction length: 366, Total reward: 178.03, Average reward: -132.63, Final reward: 100.00 <-- good\n",
            "Episode 2540\tAction length: 679, Total reward: 132.93, Average reward: -132.01, Final reward: 100.00 <-- good\n",
            "Episode 2541\tAction length: 330, Total reward: 202.42, Average reward: -131.60, Final reward: 100.00 <-- good\n",
            "Episode 2545\tAction length: 460, Total reward: 225.83, Average reward: -130.80, Final reward: 100.00 <-- good\n",
            "Episode 2547\tAction length: 211, Total reward: 252.26, Average reward: -130.35, Final reward: 100.00 <-- good\n",
            "Episode 2548\tAction length: 387, Total reward: 157.88, Average reward: -130.09, Final reward: 100.00 <-- good\n",
            "Episode 2552\tAction length: 646, Total reward: 185.42, Average reward: -129.70, Final reward: 100.00 <-- good\n",
            "Episode 2552\t Avg test reward: 162.24 <-- best\n",
            "Episode 2556\tAction length: 614, Total reward: 173.88, Average reward: -129.19, Final reward: 100.00 <-- good\n",
            "Episode 2557\tAction length: 986, Total reward: 127.06, Average reward: -128.83, Final reward: 100.00 <-- success\n",
            "Episode 2563\tAction length: 429, Total reward: 230.16, Average reward: -128.15, Final reward: 100.00 <-- good\n",
            "Episode 2564\tAction length: 534, Total reward: 173.59, Average reward: -127.85, Final reward: 100.00 <-- good\n",
            "Episode 2568\tAction length: 353, Total reward: 151.76, Average reward: -127.11, Final reward: 100.00 <-- success\n",
            "Episode 2584\tAction length: 888, Total reward: 153.31, Average reward: -126.60, Final reward: 100.00 <-- success\n",
            "Episode 2585\tAction length: 410, Total reward: 207.43, Average reward: -126.23, Final reward: 100.00 <-- good\n",
            "Episode 2586\tAction length: 269, Total reward: 225.37, Average reward: -126.19, Final reward: 100.00 <-- good\n",
            "Episode 2587\tAction length: 341, Total reward: 208.10, Average reward: -125.83, Final reward: 100.00 <-- good\n",
            "Episode 2589\tAction length: 639, Total reward: 154.15, Average reward: -125.43, Final reward: 100.00 <-- success\n",
            "Episode 2590\tAction length: 285, Total reward: 250.01, Average reward: -125.07, Final reward: 100.00 <-- good\n",
            "Episode 2600\tAction length: 999, Total reward: -172.31, Average reward: -124.05, Final reward: -0.41\n",
            "Episode 2606\tAction length: 333, Total reward: 130.52, Average reward: -123.50, Final reward: 100.00 <-- success\n",
            "Episode 2608\tAction length: 543, Total reward: 174.46, Average reward: -123.02, Final reward: 100.00 <-- good\n",
            "Episode 2611\tAction length: 243, Total reward: 233.02, Average reward: -122.49, Final reward: 100.00 <-- good\n",
            "Episode 2614\tAction length: 486, Total reward: 230.07, Average reward: -122.08, Final reward: 100.00 <-- good\n",
            "Episode 2615\tAction length: 694, Total reward: 159.79, Average reward: -121.73, Final reward: 100.00 <-- success\n",
            "Episode 2618\tAction length: 740, Total reward: 173.48, Average reward: -121.08, Final reward: 100.00 <-- good\n",
            "Episode 2626\tAction length: 439, Total reward: 169.38, Average reward: -120.89, Final reward: 100.00 <-- good\n",
            "Episode 2645\tAction length: 982, Total reward: 110.91, Average reward: -119.17, Final reward: 100.00 <-- success\n",
            "Episode 2659\tAction length: 940, Total reward: 127.82, Average reward: -118.39, Final reward: 100.00 <-- success\n",
            "Episode 2664\tAction length: 512, Total reward: 198.67, Average reward: -117.47, Final reward: 100.00 <-- good\n",
            "Episode 2669\tAction length: 236, Total reward: 217.53, Average reward: -117.56, Final reward: 100.00 <-- good\n",
            "Episode 2678\tAction length: 824, Total reward: 238.83, Average reward: -117.29, Final reward: 100.00 <-- good\n",
            "Episode 2683\tAction length: 460, Total reward: 200.23, Average reward: -116.93, Final reward: 100.00 <-- good\n",
            "Episode 2694\tAction length: 743, Total reward: 183.62, Average reward: -116.04, Final reward: 100.00 <-- good\n",
            "Episode 2698\tAction length: 815, Total reward: 203.13, Average reward: -115.74, Final reward: 100.00 <-- good\n",
            "Episode 2700\tAction length: 508, Total reward: 180.55, Average reward: -115.28, Final reward: 100.00\n",
            "Episode 2700\tAction length: 508, Total reward: 180.55, Average reward: -115.28, Final reward: 100.00 <-- good\n",
            "Episode 2702\tAction length: 269, Total reward: 262.22, Average reward: -114.71, Final reward: 100.00 <-- good\n",
            "Episode 2720\tAction length: 582, Total reward: 205.34, Average reward: -114.71, Final reward: 100.00 <-- good\n",
            "Episode 2722\tAction length: 660, Total reward: 200.73, Average reward: -114.59, Final reward: 100.00 <-- good\n",
            "Episode 2757\tAction length: 407, Total reward: 237.85, Average reward: -115.03, Final reward: 100.00 <-- good\n",
            "Episode 2800\tAction length: 158, Total reward: -147.21, Average reward: -115.33, Final reward: -100.00\n",
            "Episode 2802\tAction length: 512, Total reward: 148.36, Average reward: -115.09, Final reward: 100.00 <-- success\n",
            "Episode 2805\tAction length: 497, Total reward: 161.97, Average reward: -114.69, Final reward: 100.00 <-- success\n",
            "Episode 2806\tAction length: 477, Total reward: 223.85, Average reward: -114.31, Final reward: 100.00 <-- good\n",
            "Episode 2812\tAction length: 509, Total reward: 255.92, Average reward: -113.95, Final reward: 100.00 <-- good\n",
            "Episode 2813\tAction length: 301, Total reward: 254.82, Average reward: -113.46, Final reward: 100.00 <-- good\n",
            "Episode 2815\tAction length: 410, Total reward: 180.23, Average reward: -112.96, Final reward: 100.00 <-- good\n",
            "Episode 2820\tAction length: 461, Total reward: 190.87, Average reward: -112.24, Final reward: 100.00 <-- good\n",
            "Episode 2826\tAction length: 748, Total reward: 137.26, Average reward: -112.18, Final reward: 100.00 <-- success\n",
            "Episode 2831\tAction length: 328, Total reward: 229.38, Average reward: -112.11, Final reward: 100.00 <-- good\n",
            "Episode 2837\tAction length: 596, Total reward: 211.91, Average reward: -111.71, Final reward: 100.00 <-- good\n",
            "Episode 2838\tAction length: 398, Total reward: 259.05, Average reward: -111.27, Final reward: 100.00 <-- good\n",
            "Episode 2844\tAction length: 615, Total reward: 156.70, Average reward: -111.06, Final reward: 100.00 <-- success\n",
            "Episode 2845\tAction length: 650, Total reward: 256.07, Average reward: -110.69, Final reward: 100.00 <-- good\n",
            "Episode 2846\tAction length: 621, Total reward: 118.80, Average reward: -110.40, Final reward: 100.00 <-- success\n",
            "Episode 2847\tAction length: 600, Total reward: 202.19, Average reward: -110.09, Final reward: 100.00 <-- good\n",
            "Episode 2858\tAction length: 507, Total reward: 147.38, Average reward: -109.15, Final reward: 100.00 <-- success\n",
            "Episode 2859\tAction length: 237, Total reward: 210.64, Average reward: -108.76, Final reward: 100.00 <-- good\n",
            "Episode 2860\tAction length: 914, Total reward: 86.89, Average reward: -108.55, Final reward: 100.00 <-- success\n",
            "Episode 2863\tAction length: 478, Total reward: 235.03, Average reward: -108.02, Final reward: 100.00 <-- good\n",
            "Episode 2866\tAction length: 329, Total reward: 240.42, Average reward: -107.68, Final reward: 100.00 <-- good\n",
            "Episode 2867\tAction length: 499, Total reward: 192.27, Average reward: -107.26, Final reward: 100.00 <-- good\n",
            "Episode 2870\tAction length: 408, Total reward: 249.02, Average reward: -106.69, Final reward: 100.00 <-- good\n",
            "Episode 2875\tAction length: 317, Total reward: 227.33, Average reward: -106.47, Final reward: 100.00 <-- good\n",
            "Episode 2885\tAction length: 575, Total reward: 182.79, Average reward: -105.82, Final reward: 100.00 <-- good\n",
            "Episode 2887\tAction length: 372, Total reward: 195.27, Average reward: -105.59, Final reward: 100.00 <-- good\n",
            "Episode 2900\tAction length: 999, Total reward: -37.15, Average reward: -105.70, Final reward: 0.08\n",
            "Episode 2903\tAction length: 585, Total reward: 168.12, Average reward: -105.58, Final reward: 100.00 <-- good\n",
            "Episode 2906\tAction length: 232, Total reward: 241.90, Average reward: -105.15, Final reward: 100.00 <-- good\n",
            "Episode 2910\tAction length: 330, Total reward: 247.68, Average reward: -105.10, Final reward: 100.00 <-- good\n",
            "Episode 2916\tAction length: 914, Total reward: 125.11, Average reward: -104.84, Final reward: 100.00 <-- success\n",
            "Episode 2927\tAction length: 267, Total reward: 203.59, Average reward: -104.10, Final reward: 100.00 <-- good\n",
            "Episode 2937\tAction length: 790, Total reward: 145.22, Average reward: -103.58, Final reward: 100.00 <-- success\n",
            "Episode 2943\tAction length: 392, Total reward: 175.88, Average reward: -102.85, Final reward: 100.00 <-- good\n",
            "Episode 2955\tAction length: 402, Total reward: 155.65, Average reward: -101.76, Final reward: 100.00 <-- success\n",
            "Episode 2961\tAction length: 747, Total reward: 171.91, Average reward: -101.31, Final reward: 100.00 <-- good\n",
            "Episode 2973\tAction length: 913, Total reward: 142.50, Average reward: -100.22, Final reward: 100.00 <-- success\n",
            "Episode 2983\tAction length: 335, Total reward: 239.54, Average reward: -99.81, Final reward: 100.00 <-- good\n",
            "Episode 2990\tAction length: 697, Total reward: 123.16, Average reward: -99.46, Final reward: 100.00 <-- success\n",
            "Episode 3000\tAction length: 133, Total reward: -197.30, Average reward: -98.89, Final reward: -100.00\n",
            "Episode 3013\tAction length: 752, Total reward: 171.10, Average reward: -98.17, Final reward: 100.00 <-- good\n",
            "Episode 3032\tAction length: 305, Total reward: 231.34, Average reward: -95.97, Final reward: 100.00 <-- good\n",
            "Episode 3050\tAction length: 547, Total reward: 200.77, Average reward: -93.28, Final reward: 100.00 <-- good\n",
            "Episode 3053\tAction length: 461, Total reward: 211.31, Average reward: -92.74, Final reward: 100.00 <-- good\n",
            "Episode 3062\tAction length: 721, Total reward: 134.81, Average reward: -91.21, Final reward: 100.00 <-- success\n",
            "Episode 3063\tAction length: 464, Total reward: 165.90, Average reward: -90.86, Final reward: 100.00 <-- good\n",
            "Episode 3071\tAction length: 827, Total reward: 102.13, Average reward: -90.21, Final reward: 100.00 <-- success\n",
            "Episode 3072\tAction length: 396, Total reward: 197.73, Average reward: -89.81, Final reward: 100.00 <-- good\n",
            "Episode 3073\tAction length: 412, Total reward: 207.37, Average reward: -89.39, Final reward: 100.00 <-- good\n",
            "Episode 3074\tAction length: 438, Total reward: 182.12, Average reward: -88.98, Final reward: 100.00 <-- good\n",
            "Episode 3077\tAction length: 641, Total reward: 175.20, Average reward: -88.30, Final reward: 100.00 <-- good\n",
            "Episode 3080\tAction length: 293, Total reward: 220.46, Average reward: -87.64, Final reward: 100.00 <-- good\n",
            "Episode 3082\tAction length: 921, Total reward: 116.16, Average reward: -87.38, Final reward: 100.00 <-- success\n",
            "Episode 3090\tAction length: 331, Total reward: 245.74, Average reward: -86.01, Final reward: 100.00 <-- good\n",
            "Episode 3099\tAction length: 730, Total reward: 174.25, Average reward: -84.60, Final reward: 100.00 <-- good\n",
            "Episode 3100\tAction length: 354, Total reward: -22.26, Average reward: -84.58, Final reward: -100.00\n",
            "Episode 3103\tAction length: 607, Total reward: 183.97, Average reward: -83.83, Final reward: 100.00 <-- good\n",
            "Episode 3120\tAction length: 301, Total reward: 258.34, Average reward: -80.88, Final reward: 100.00 <-- good\n",
            "Episode 3125\tAction length: 657, Total reward: 207.10, Average reward: -80.44, Final reward: 100.00 <-- good\n",
            "Episode 3134\tAction length: 583, Total reward: 198.11, Average reward: -79.46, Final reward: 100.00 <-- good\n",
            "Episode 3151\tAction length: 426, Total reward: 136.76, Average reward: -77.91, Final reward: 100.00 <-- success\n",
            "Episode 3158\tAction length: 593, Total reward: 141.25, Average reward: -76.55, Final reward: 100.00 <-- success\n",
            "Episode 3168\tAction length: 299, Total reward: 190.25, Average reward: -75.23, Final reward: 100.00 <-- good\n",
            "Episode 3175\tAction length: 350, Total reward: 234.55, Average reward: -74.23, Final reward: 100.00 <-- good\n",
            "Episode 3186\tAction length: 646, Total reward: 215.83, Average reward: -72.98, Final reward: 100.00 <-- good\n",
            "Episode 3200\tAction length: 999, Total reward: -12.01, Average reward: -71.43, Final reward: 0.51\n",
            "Episode 3211\tAction length: 598, Total reward: 143.94, Average reward: -70.50, Final reward: 100.00 <-- success\n",
            "Episode 3286\tAction length: 515, Total reward: 221.76, Average reward: -67.30, Final reward: 100.00 <-- good\n",
            "Episode 3300\tAction length: 302, Total reward: -93.62, Average reward: -66.59, Final reward: -100.00\n",
            "Episode 3326\tAction length: 712, Total reward: 144.43, Average reward: -65.31, Final reward: 100.00 <-- success\n",
            "Episode 3353\tAction length: 746, Total reward: 115.69, Average reward: -65.10, Final reward: 100.00 <-- success\n",
            "Episode 3389\tAction length: 629, Total reward: 190.62, Average reward: -62.83, Final reward: 100.00 <-- good\n",
            "Episode 3400\tAction length: 999, Total reward: -140.72, Average reward: -62.39, Final reward: 2.53\n",
            "Episode 3433\tAction length: 233, Total reward: 264.97, Average reward: -63.74, Final reward: 100.00 <-- good\n",
            "Episode 3439\tAction length: 890, Total reward: 114.39, Average reward: -63.35, Final reward: 100.00 <-- success\n",
            "Episode 3451\tAction length: 852, Total reward: 105.72, Average reward: -63.29, Final reward: 100.00 <-- success\n",
            "Episode 3465\tAction length: 725, Total reward: 132.83, Average reward: -63.37, Final reward: 100.00 <-- success\n",
            "Episode 3500\tAction length: 999, Total reward: -25.90, Average reward: -64.09, Final reward: 2.29\n",
            "Episode 3583\tAction length: 882, Total reward: 123.38, Average reward: -68.54, Final reward: 100.00 <-- success\n",
            "Episode 3598\tAction length: 310, Total reward: 229.54, Average reward: -70.02, Final reward: 100.00 <-- good\n",
            "Episode 3600\tAction length: 877, Total reward: -190.08, Average reward: -70.13, Final reward: -100.00\n",
            "Episode 3601\tAction length: 877, Total reward: 103.11, Average reward: -69.97, Final reward: 100.00 <-- success\n",
            "Episode 3700\tAction length: 999, Total reward: -97.50, Average reward: -73.89, Final reward: 2.67.\n",
            "Episode 3712\tAction length: 667, Total reward: 160.49, Average reward: -73.42, Final reward: 100.00 <-- success\n",
            "Episode 3730\tAction length: 910, Total reward: 48.41, Average reward: -72.50, Final reward: 100.00 <-- success\n",
            "Episode 3800\tAction length: 999, Total reward: -140.78, Average reward: -71.74, Final reward: -3.58\n",
            "Episode 3808\tAction length: 862, Total reward: 65.75, Average reward: -72.09, Final reward: 100.00 <-- success\n",
            "Episode 3810\tAction length: 986, Total reward: 94.92, Average reward: -71.74, Final reward: 100.00 <-- success\n",
            "Episode 3831\tAction length: 639, Total reward: 156.79, Average reward: -72.64, Final reward: 100.00 <-- success\n",
            "Episode 3847\tAction length: 749, Total reward: 105.57, Average reward: -73.85, Final reward: 100.00 <-- success\n",
            "Episode 3865\tAction length: 408, Total reward: 191.42, Average reward: -74.98, Final reward: 100.00 <-- good\n",
            "Episode 3895\tAction length: 786, Total reward: 85.55, Average reward: -74.80, Final reward: 100.00 <-- success\n",
            "Episode 3900\tAction length: 999, Total reward: -19.04, Average reward: -75.21, Final reward: -2.70\n",
            "Episode 3960\tAction length: 481, Total reward: 185.61, Average reward: -75.00, Final reward: 100.00 <-- good\n",
            "Episode 3962\tAction length: 678, Total reward: 181.60, Average reward: -75.09, Final reward: 100.00 <-- good\n",
            "Episode 4000\tAction length: 999, Total reward: -133.32, Average reward: -75.05, Final reward: -1.61\n",
            "avgTotal: -111.0, avgFinalReward: -48.7, bestReward: 162.24082068577346\n",
            "\n",
            "Total time is 6649.281968593597 sec\n",
            "Best Reward is 162.24082068577346\n"
          ]
        }
      ],
      "source": [
        "work_name = \"lunar\"\n",
        "if DUELING: work_name += \"-Duel\"\n",
        "if PARAM_NOISE: work_name += \"-noisy\"\n",
        "work_name += \"-LR\" + str(LR) + \"-GAMMA\" + str(GAMMA)\n",
        "\n",
        "start_run_time = datetime.now().strftime(\"%m%d-%H%M\")\n",
        "work_dir = start_run_time + \"_\" + work_name\n",
        "print(work_dir)\n",
        "\n",
        "import time\n",
        "start = time.time()\n",
        "\n",
        "agent = Agent(state_size=8, action_size=4)\n",
        "agent.qnetwork_local.train()  # 訓練前，先確保 network 處在 training 模式\n",
        "total_rewards, final_rewards, best_reward = train(agent, n_episode=EPOCH, max_t=9999, work_dir=work_dir, save_every=50)\n",
        "end = time.time()\n",
        "\n",
        "print(f\"\\nTotal time is {end-start} sec\")\n",
        "print(f\"Best Reward is {best_reward}\")\n",
        "\n",
        "## Write training process\n",
        "with open(f'{work_dir}/rewards.txt', 'a') as fp:\n",
        "    for i in range(EPOCH):\n",
        "        fp.write(\"%s \" % total_rewards[i])\n",
        "    fp.write(\"\\n\")\n",
        "with open(f'{work_dir}/costs.txt', 'a') as fp:\n",
        "    for i in range(EPOCH):\n",
        "        fp.write(\"%s \" % final_rewards[i])\n",
        "    fp.write(\"\\n\")"
      ]
    },
    {
      "attachments": {},
      "cell_type": "markdown",
      "metadata": {
        "id": "vNb_tuFYhKVK"
      },
      "source": [
        "### Training Result\n",
        "During the training process, we recorded `avg_total_reward`, which represents the average total reward of episodes before updating the policy network.\n",
        "\n",
        "Theoretically, if the agent becomes better, the `avg_total_reward` will increase.\n",
        "The visualization of the training process is shown below:  \n"
      ]
    },
    {
      "attachments": {},
      "cell_type": "markdown",
      "metadata": {
        "id": "mV5jj4dThz0Y"
      },
      "source": [
        "In addition, `avg_final_reward` represents average final rewards of episodes. To be specific, final rewards is the last reward received in one episode, indicating whether the craft lands successfully or not.\n"
      ]
    },
    {
      "cell_type": "code",
      "execution_count": 23,
      "metadata": {},
      "outputs": [
        {
          "data": {
            "image/png": "[encoded data removed]",
            "text/plain": [
              "<Figure size 640x480 with 4 Axes>"
            ]
          },
          "metadata": {},
          "output_type": "display_data"
        }
      ],
      "source": [
        "import math\n",
        "\n",
        "resol=6\n",
        "colors = ['blue', 'red', 'orange', 'green', 'purple']\n",
        "fig, axarr = plt.subplots(2,2)\n",
        "plt.subplots_adjust(wspace=0.4,\n",
        "                    hspace=0.4)\n",
        "with open(f'{work_dir}/costs.txt', 'r') as fp: # costs\n",
        "    lines=fp.readlines()\n",
        "    lines=[list(map(float,line.split())) for line in lines]\n",
        "    avgs=[]\n",
        "    for i in range(len(lines)):\n",
        "        EPOCH = len(lines[i])\n",
        "        avg=[]\n",
        "        for j in range(len(lines[i])):\n",
        "            avg.append(sum(lines[i][0:(j+1)]) / (j+1))\n",
        "        avgs.append(avg)\n",
        "    for i in range(len(lines)):\n",
        "        axarr[0][0].plot(range(math.ceil(EPOCH/resol)), lines[i][0::resol], color=colors[i])\n",
        "        axarr[0][0].set_title('Each Step Reward', fontstyle='italic', fontsize='medium')\n",
        "        axarr[0][1].plot(range(EPOCH), avgs[i], color=colors[i])\n",
        "        axarr[0][1].set_title('Avg Reward', fontstyle='italic', fontsize='medium')\n",
        "fp.close()\n",
        "with open(f'{work_dir}/rewards.txt', 'r') as fp2: # rewards\n",
        "    lines=fp2.readlines()\n",
        "    lines=[list(map(float,line.split())) for line in lines]\n",
        "    avgs=[]\n",
        "    for i in range(len(lines)):\n",
        "        EPOCH = len(lines[i])\n",
        "        avg=[]\n",
        "        for j in range(len(lines[i])):\n",
        "            avg.append(sum(lines[i][0:(j+1)]) / (j+1))\n",
        "        avgs.append(avg)\n",
        "    for i in range(len(lines)):\n",
        "        axarr[1][0].plot(range(math.ceil(EPOCH/resol)), lines[i][0::resol], color=colors[i])\n",
        "        axarr[1][0].set_title('Each Step Cost', fontstyle='italic', fontsize='medium')\n",
        "        axarr[1][1].plot(range(EPOCH), avgs[i], color=colors[i])\n",
        "        axarr[1][1].set_title('Avg Reward', fontstyle='italic', fontsize='medium')\n",
        "fp2.close()\n",
        "plt.show()"
      ]
    },
    {
      "attachments": {},
      "cell_type": "markdown",
      "metadata": {
        "id": "u2HaGRVEYGQS"
      },
      "source": [
        "## Testing\n",
        "The testing result will be the average reward of 5 testing"
      ]
    },
    {
      "cell_type": "code",
      "execution_count": 24,
      "metadata": {
        "colab": {
          "base_uri": "https://localhost:8080/",
          "height": 413
        },
        "id": "5yFuUKKRYH73",
        "outputId": "01c686c0-3b85-46af-c96e-e0be4a58e9c0"
      },
      "outputs": [
        {
          "name": "stdout",
          "output_type": "stream",
          "text": [
            "170.67359761626523\n"
          ]
        },
        {
          "data": {
            "image/png": "[encoded data removed]",
            "text/plain": [
              "<Figure size 640x480 with 1 Axes>"
            ]
          },
          "metadata": {},
          "output_type": "display_data"
        }
      ],
      "source": [
        "best_dir = \"./{}/best/\".format(work_dir)\n",
        "print(f\"best_dir: {best_dir}\")\n",
        "agent.load(best_dir+'Agent_Dict.ckpt')\n",
        "\n",
        "fix(env, seed)\n",
        "agent.qnetwork_local.eval()  # set the network into evaluation mode\n",
        "agent.qnetwork_target.eval()  # set the network into evaluation mode\n",
        "NUM_OF_TEST = 5 # Do not revise this !!!\n",
        "test_total_reward = []\n",
        "action_list = []\n",
        "for i in range(NUM_OF_TEST):\n",
        "  actions = []\n",
        "  state = env.reset()\n",
        "  img = plt.imshow(env.render(mode='rgb_array'))\n",
        "  total_reward = 0\n",
        "  done = False\n",
        "  while not done:\n",
        "    action = agent.sample_action(state)\n",
        "    actions.append(action)\n",
        "    state, reward, done, _ = env.step(action)\n",
        "    total_reward += reward\n",
        "    img.set_data(env.render(mode='rgb_array'))\n",
        "    display.display(plt.gcf())\n",
        "    display.clear_output(wait=True) \n",
        "  print(total_reward)\n",
        "  test_total_reward.append(total_reward)\n",
        "  action_list.append(actions) # save the result of testing "
      ]
    },
    {
      "cell_type": "code",
      "execution_count": 25,
      "metadata": {
        "colab": {
          "base_uri": "https://localhost:8080/"
        },
        "id": "Aex7mcKr0J01",
        "outputId": "6e5aff83-5443-4e4c-8e8f-3a288c35cf82"
      },
      "outputs": [
        {
          "name": "stdout",
          "output_type": "stream",
          "text": [
            "136.9959313438328\n"
          ]
        }
      ],
      "source": [
        "print(np.mean(test_total_reward))"
      ]
    },
    {
      "attachments": {},
      "cell_type": "markdown",
      "metadata": {
        "id": "leyebGYRpqsF"
      },
      "source": [
        "Action list"
      ]
    },
    {
      "cell_type": "code",
      "execution_count": 52,
      "metadata": {
        "colab": {
          "base_uri": "https://localhost:8080/"
        },
        "id": "hGAH4YWDpp4u",
        "outputId": "0a72e940-9393-4475-ea0e-1f3f816daec0"
      },
      "outputs": [
        {
          "name": "stdout",
          "output_type": "stream",
          "text": [
            "Action list looks like  [[0, 0, 0, 0, 0, 0, 0, 0, 0, 0, 0, 0, 0, 0, 0, 0, 2, 2, 2, 2, 2, 2, 0, 2, 0, 2, 2, 2, 2, 2, 0, 2, 2, 2, 2, 2, 2, 0, 2, 2, 0, 2, 2, 2, 2, 0, 2, 0, 2, 2, 2, 0, 2, 2, 2, 0, 2, 2, 2, 2, 2, 2, 0, 2, 2, 0, 2, 2, 2, 2, 2, 2, 2, 2, 2, 2, 2, 2, 2, 2, 2, 2, 0, 2, 2, 2, 0, 2, 2, 0, 2, 2, 0, 0, 2, 2, 0, 2, 0, 2, 2, 2, 0, 2, 0, 2, 0, 0, 2, 2, 0, 2, 2, 2, 0, 2, 0, 2, 0, 2, 0, 2, 0, 0, 2, 0, 2, 2, 2, 0, 2, 0, 2, 0, 2, 2, 2, 0, 2, 0, 2, 2, 2, 2, 0, 2, 2, 0, 0, 2, 0, 1, 1, 2, 2, 2, 2, 2, 2, 2, 2, 2, 2, 2, 2, 2, 2, 0, 2, 2, 0, 2, 0, 0, 2, 2, 0, 2, 2, 2, 0, 2, 0, 2, 2, 0, 2, 0, 2, 2, 0, 2, 2, 0, 0, 0, 2, 0, 2, 2, 0, 2, 2, 2, 2, 2, 0, 2, 0, 2, 2, 0, 2, 2, 2, 2, 2, 2, 2, 2, 2, 0, 2, 0, 2, 0, 2, 2, 0, 2, 0, 0, 2, 2, 0, 2, 2, 0, 0, 2, 0, 2, 0, 0, 2, 0, 2, 0, 0, 2, 2, 0, 0, 2, 0, 0, 2, 0, 0, 2, 0, 2, 2, 0, 0, 2, 0, 0, 2, 0, 0, 2, 0, 0, 2, 0, 2, 0, 0, 2, 0, 0, 2, 0, 0, 2, 0, 0, 2, 0, 2, 0, 2, 0, 2, 2, 2, 0, 2, 0, 2, 0, 2, 2, 0, 2, 0, 2, 2, 0, 2, 0, 2, 0, 2, 0, 2, 0, 2, 0, 2, 0, 2, 0, 2, 2, 2, 0, 0, 2, 3, 3, 3, 3, 3, 3, 3, 3, 3, 2, 2, 2, 2, 2, 2, 2, 2, 2, 0, 2, 0, 2, 2, 0, 2, 0, 0, 2, 2, 2, 0, 2, 0, 2, 2, 2, 2, 2, 2, 2, 2, 2, 2, 2, 2, 0, 2, 2, 2, 2, 2, 2, 2, 2, 2, 2, 2, 2, 2, 2, 0, 0, 0, 0, 0, 0, 0, 0, 0, 2, 2, 0, 2, 0, 2, 2, 0, 0, 0, 0, 0, 0, 0, 0, 0, 0, 0, 0, 0, 0, 0, 0, 0, 0, 0, 1, 0, 0, 0, 0, 1, 1, 1, 2, 2, 2, 2, 2, 1, 2, 2, 2, 2, 1, 2, 2, 1, 2, 2, 1, 2, 2, 2, 2, 0, 0, 0, 0, 0, 0, 0, 0, 0, 0, 0, 0, 0, 3, 3, 3, 3, 3, 3, 3, 3, 3, 3, 3, 3, 3, 2, 2, 2, 2, 2, 3, 2, 2, 3, 2, 2, 2, 3, 2, 2, 2, 2, 2, 2, 2, 2, 2, 0, 2, 0, 0, 2, 0, 2, 2, 2, 2, 2, 3, 3, 3, 3, 3, 3, 3, 0, 0, 0, 0, 0, 0, 0, 0, 0, 0, 0, 0, 0, 0, 2, 2, 2, 2, 2, 2, 2, 0, 2, 2, 2, 0, 0, 0, 0, 0, 2, 0, 2, 0, 2, 0, 3, 3, 3, 3, 3, 3, 2, 0, 0, 0, 0, 0, 0, 0, 0, 0, 0, 0, 2, 2, 2, 2, 2, 2, 2, 2, 2, 2, 2, 0, 0, 0, 0, 0, 2, 0, 0, 2, 0, 0, 0, 2, 3, 3, 3, 3, 3, 0, 0, 0, 0, 0, 0, 2, 0, 2, 0, 2, 2, 2, 2, 2, 2, 2, 2, 2, 0, 0, 0, 2, 0, 3, 3, 3, 3, 3, 3, 3, 0, 0, 3, 0, 0, 0, 0, 2, 2, 0, 0, 2, 2, 2, 2, 0, 2, 2, 0, 2, 0, 0, 2, 0, 2, 3, 3, 3, 3, 3, 3, 0, 0, 0, 0, 0, 2, 2, 2, 2, 2, 2, 2, 0, 0, 0, 0, 2, 0, 3, 3, 2, 3, 3, 3, 3, 0, 0, 0, 0, 0, 0, 0, 2, 2, 2, 2, 0, 2, 2, 0, 0, 0, 2, 3, 3, 3, 3, 0, 0, 0, 0, 0, 0, 0, 0, 2, 2, 2, 2, 2, 2, 0, 0, 0, 2, 0, 2, 3, 3, 3, 3, 3, 0, 0, 0, 0, 0, 2, 2, 2, 2, 2, 2, 0, 0, 2, 0, 0, 3, 3, 0, 0, 0, 0, 0, 0, 0, 0, 0, 2, 2, 2, 2, 2, 0, 0, 2, 0, 0, 3, 3, 3, 0, 0, 0, 0, 2, 2, 0, 0, 2, 0, 2, 2, 2, 2, 2, 0, 2, 0, 2, 0, 0, 2, 2, 0, 0, 2, 0, 2, 2, 2, 0, 2, 0, 2, 0, 0, 2, 0, 2, 2, 0, 0, 0, 0, 0, 0, 0, 0, 0, 0, 0, 2, 2, 2, 2, 2, 2, 2, 2, 2, 2, 0, 2, 0, 0, 0, 0, 0, 2, 0, 0, 2, 2, 2, 0, 0, 0, 2, 0, 0, 2, 0, 0, 2, 0, 0, 2, 2, 3, 3, 3, 3, 3, 3, 2, 3, 2, 3, 2, 2, 2, 3, 2, 2, 2, 2, 2, 0, 0, 0, 0, 0, 0, 0, 0, 0, 0, 0, 0, 2, 2, 0, 0, 1, 1, 1, 1, 1, 1, 1, 1, 1, 1, 1, 1, 1, 1, 1, 1, 1, 1, 1, 1, 1, 1, 1, 1, 1, 1, 1, 1, 1, 1, 1, 1, 1, 1, 1, 1, 1, 1, 1, 1, 1, 1, 1, 1, 1, 1, 1, 1, 1, 1, 1, 1, 1, 1, 1], [1, 1, 1, 1, 1, 1, 1, 1, 1, 1, 1, 2, 2, 2, 2, 2, 2, 2, 2, 2, 2, 2, 2, 2, 0, 2, 2, 0, 0, 2, 0, 0, 3, 3, 3, 3, 3, 3, 0, 2, 0, 2, 0, 0, 0, 0, 0, 0, 0, 0, 0, 0, 2, 0, 2, 2, 0, 2, 0, 2, 2, 2, 2, 0, 2, 0, 2, 2, 2, 0, 2, 2, 2, 0, 0, 0, 2, 0, 2, 0, 2, 2, 0, 2, 2, 0, 2, 2, 2, 0, 2, 0, 2, 0, 2, 2, 2, 2, 2, 2, 0, 2, 2, 2, 2, 2, 2, 2, 1, 2, 2, 0, 2, 2, 0, 2, 2, 1, 2, 2, 0, 2, 0, 2, 1, 2, 2, 0, 2, 2, 2, 0, 2, 1, 2, 2, 0, 2, 0, 2, 2, 2, 2, 0, 1, 2, 0, 2, 2, 0, 2, 0, 2, 2, 0, 2, 0, 2, 0, 2, 2, 2, 0, 2, 2, 0, 2, 2, 2, 2, 0, 2, 0, 2, 2, 2, 0, 2, 0, 2, 0, 2, 2, 2, 2, 2, 0, 2, 0, 2, 0, 0, 2, 0, 2, 0, 2, 0, 2, 0, 2, 0, 2, 0, 2, 1, 2, 2, 0, 1, 2, 2, 0, 2, 2, 0, 2, 0, 2, 2, 2, 2, 0, 2, 2, 0, 0, 2, 2, 2, 2, 2, 0, 2, 0, 2, 2, 0, 2, 2, 2, 2, 0, 2, 2, 0, 2, 2, 0, 0, 2, 2, 2, 0, 0, 2, 0, 2, 2, 0, 2, 2, 2, 0, 2, 0, 2, 0, 2, 0, 0, 2, 2, 0, 2, 2, 0, 1, 2, 2, 2, 2, 2, 2, 0, 2, 2, 2, 2, 2, 2, 2, 0, 2, 0, 0, 2, 0, 2, 0, 0, 2, 0, 2, 0, 2, 0, 2, 2, 2, 2, 2, 0, 0, 2, 0, 2, 0, 2, 2, 0, 2, 0, 0, 2, 0, 0, 2, 0, 2, 0, 2, 0, 0, 2, 0, 2, 0, 2, 0, 2, 0, 0, 2, 0, 2, 0, 2, 2, 0, 2, 0, 2, 0, 2, 0, 2, 0, 2, 2, 0, 0, 2, 2, 0, 0, 2, 0, 2, 0, 2, 0, 2, 0, 2, 0, 2, 0, 2, 0, 2, 2, 0, 0, 2, 2, 0, 2, 2, 0, 0, 2, 0, 2, 2, 0, 2, 0, 2, 0, 2, 0, 2, 0, 2, 0, 0, 2, 0, 0, 2, 0, 2, 2, 0, 0, 2, 0, 0, 2, 2, 0, 2, 0, 0, 2, 2, 2, 0, 2, 0, 0, 2, 0, 2, 2, 0, 0, 2, 2, 0, 2, 2, 0, 2, 2, 0, 2, 0, 2, 3, 3, 3, 3, 3, 3, 3, 3, 3, 3, 3, 3, 2, 2, 2, 2, 2, 2, 2, 2, 2, 0, 2, 0, 2, 2, 2, 2, 0, 0, 2, 0, 2, 0, 2, 2, 2, 2, 2, 2, 0, 2, 2, 2, 2, 2, 2, 2, 2, 0, 2, 2, 0, 2, 2, 2, 2, 2, 2, 2, 0, 2, 2, 2, 2, 2, 2, 2, 0, 2, 2, 2, 2, 1, 2, 2, 2, 2, 2, 1, 2, 2, 2, 2, 2, 2, 2, 2, 1, 2, 2, 2, 2, 2, 2, 2, 2, 3, 3, 3, 0, 0, 0, 0, 0, 0, 0, 0, 2, 0, 2, 0, 2, 2, 3, 3, 3, 3, 3, 3, 3, 3, 3, 3, 3, 3, 2, 2, 2, 3, 2, 2, 2, 3, 2, 2, 2, 2, 2, 3, 2, 2, 2, 2, 2, 0, 0, 2, 0, 2, 0, 0, 0, 0, 2, 0, 0, 0, 2, 0, 2, 0, 2, 0, 2, 0, 2, 2, 2, 2, 2, 0, 2, 2, 0, 0, 0, 0, 0, 0, 1, 1, 1, 1, 1, 1, 1, 1, 1, 1, 1, 1, 1, 1, 1, 1, 1, 1, 1, 1, 1, 1, 1, 1, 1, 1, 1, 1, 1, 1], [1, 1, 1, 1, 1, 1, 1, 0, 0, 0, 0, 0, 2, 0, 0, 2, 0, 2, 2, 0, 0, 2, 2, 2, 2, 2, 2, 2, 2, 2, 2, 2, 2, 2, 2, 2, 2, 2, 2, 2, 2, 2, 2, 2, 2, 2, 2, 2, 2, 2, 2, 0, 2, 0, 0, 2, 2, 3, 3, 2, 2, 2, 3, 0, 2, 2, 2, 0, 2, 2, 0, 0, 2, 0, 2, 2, 0, 2, 0, 2, 0, 2, 0, 2, 2, 2, 0, 2, 2, 0, 0, 2, 2, 0, 0, 2, 0, 2, 0, 2, 2, 0, 0, 2, 0, 0, 2, 2, 2, 2, 0, 2, 0, 2, 0, 2, 2, 2, 0, 0, 2, 0, 2, 0, 2, 0, 0, 2, 2, 0, 2, 0, 0, 0, 2, 0, 0, 2, 0, 2, 2, 2, 0, 0, 2, 0, 2, 2, 2, 2, 0, 2, 2, 0, 0, 2, 0, 2, 2, 0, 0, 2, 2, 0, 2, 2, 0, 2, 2, 2, 0, 2, 0, 2, 2, 2, 2, 2, 0, 2, 0, 2, 2, 0, 2, 2, 0, 0, 2, 2, 2, 0, 0, 2, 2, 2, 0, 2, 2, 0, 2, 0, 2, 0, 2, 2, 0, 2, 0, 2, 2, 2, 2, 2, 2, 1, 2, 1, 1, 2, 1, 2, 2, 1, 2, 2, 1, 2, 2, 1, 2, 2, 2, 2, 1, 2, 1, 2, 2, 2, 2, 2, 2, 2, 2, 2, 2, 2, 1, 2, 2, 2, 2, 2, 0, 2, 2, 0, 2, 2, 3, 3, 3, 3, 2, 0, 0, 0, 2, 2, 0, 2, 0, 0, 2, 2, 2, 0, 0, 2, 0, 2, 0, 2, 2, 0, 2, 2, 0, 0, 0, 2, 2, 0, 0, 2, 2, 2, 2, 0, 2, 0, 2, 0, 0, 2, 0, 2, 0, 0, 2, 0, 2, 0, 2, 0, 2, 0, 2, 0, 2, 0, 0, 3, 3, 3, 3, 2, 3, 3, 2, 2, 2, 3, 2, 3, 2, 3, 2, 3, 2, 2, 2, 2, 2, 0, 2, 0, 2, 0, 2, 0, 2, 0, 0, 0, 0, 2, 0, 0, 2, 0, 2, 0, 0, 2, 2, 0, 2, 2, 0, 2, 2, 2, 2, 2, 2, 2, 2, 2, 2, 2, 2, 2, 2, 2, 2, 2, 2, 2, 2, 2, 0, 0, 0, 3, 3, 3, 3, 3, 3, 3, 3, 3, 3, 3, 3, 0, 0, 0, 0, 0, 0, 0, 0, 0, 0, 0, 0, 0, 0, 0, 2, 0, 2, 2, 2, 2, 2, 2, 2, 2, 2, 2, 0, 0, 0, 0, 0, 0, 0, 0, 0, 0, 0, 0, 0, 0, 0, 0, 0, 0, 0, 0, 0, 0, 0, 0, 0, 0, 0, 0, 0, 0, 0, 0, 0, 0, 0, 0, 0, 0, 0, 0, 0, 0, 0, 0, 0, 0, 0, 0, 0, 0, 0, 0, 0, 0, 0, 0, 0, 0, 0, 0], [1, 1, 1, 1, 1, 1, 1, 1, 1, 1, 1, 1, 1, 1, 2, 2, 2, 2, 2, 0, 2, 0, 0, 2, 0, 2, 0, 0, 3, 3, 3, 3, 3, 3, 3, 3, 3, 3, 3, 3, 3, 3, 3, 3, 3, 3, 3, 3, 3, 3, 3, 2, 2, 2, 2, 2, 2, 2, 2, 2, 2, 2, 2, 2, 0, 0, 2, 0, 2, 0, 0, 2, 0, 0, 0, 2, 2, 2, 2, 2, 2, 0, 2, 2, 2, 2, 0, 2, 2, 2, 2, 1, 1, 1, 2, 1, 1, 1, 2, 1, 1, 1, 1, 2, 1, 2, 1, 2, 2, 1, 2, 2, 2, 2, 1, 2, 2, 2, 1, 2, 2, 2, 2, 2, 1, 2, 2, 2, 2, 2, 2, 2, 2, 2, 1, 1, 1], [1, 1, 1, 1, 0, 0, 0, 0, 0, 0, 0, 0, 0, 0, 0, 0, 2, 2, 0, 2, 0, 2, 2, 0, 2, 2, 2, 2, 2, 2, 2, 2, 2, 2, 2, 2, 0, 2, 2, 2, 2, 0, 2, 2, 0, 2, 2, 2, 2, 2, 2, 2, 2, 2, 2, 2, 2, 2, 2, 2, 2, 0, 2, 0, 2, 2, 2, 0, 2, 0, 2, 0, 2, 2, 2, 2, 2, 0, 0, 2, 2, 2, 2, 2, 0, 2, 0, 2, 2, 0, 2, 0, 0, 2, 0, 2, 2, 2, 0, 2, 2, 0, 2, 2, 0, 2, 0, 2, 2, 0, 2, 2, 2, 0, 0, 2, 2, 2, 0, 2, 0, 2, 2, 0, 0, 2, 0, 2, 0, 2, 0, 2, 0, 0, 2, 0, 2, 0, 0, 2, 2, 2, 0, 2, 0, 2, 2, 2, 0, 2, 0, 2, 2, 0, 2, 3, 2, 3, 3, 3, 3, 3, 3, 3, 3, 2, 2, 2, 2, 2, 0, 2, 0, 0, 0, 0, 2, 0, 2, 0, 0, 2, 0, 2, 0, 2, 2, 0, 2, 2, 2, 2, 2, 0, 2, 0, 2, 2, 2, 2, 2, 2, 2, 2, 0, 2, 2, 2, 2, 2, 0, 2, 1, 1, 1, 1, 1, 1, 1, 2, 1, 2, 1, 1, 2, 2, 2, 2, 2, 2, 2, 2, 2, 2, 1, 1, 2, 2, 0, 0, 0, 0, 0, 0, 0, 0, 0, 0, 2, 2, 0, 2, 2, 2, 2, 0, 0, 2, 2, 0, 2, 2, 2, 2, 2, 2, 2, 0, 2, 2, 0, 2, 0, 0, 0, 2, 0, 2, 0, 0, 2, 2, 2, 2, 2, 2, 0, 0, 2, 2, 0, 2, 0, 2, 2, 2, 0, 0, 3, 3, 3, 3, 3, 3, 3, 3, 2, 2, 2, 3, 2, 2, 2, 3, 2, 2, 2, 2, 0, 2, 0, 2, 0, 2, 0, 2, 0, 0, 2, 2, 0, 2, 0, 0, 0, 0, 0, 0, 0, 2, 2, 2, 2, 2, 2, 2, 2, 1, 2, 1, 2, 2, 2, 2, 2, 1, 2, 2, 2, 2, 2, 2, 0, 0, 2, 2, 3, 3, 0, 0, 0, 0, 0, 0, 2, 0, 0, 2, 0, 2, 0, 2, 0, 2, 3, 3, 3, 3, 3, 3, 3, 3, 3, 3, 3, 3, 2, 2, 2, 2, 3, 2, 2, 2, 3, 2, 2, 3, 2, 3, 2, 2, 2, 2, 2, 2, 2, 2, 0, 0, 0, 0, 0, 0, 0, 0, 0, 0, 0, 0, 1, 2, 2, 1, 1, 1, 1, 1, 1, 1, 1, 1, 1, 1, 1, 1, 1, 1, 1, 1, 1, 1, 1, 1, 1, 1, 1, 1, 1, 1, 1, 1, 1, 1, 1, 1, 1, 1, 1, 1, 1, 1, 1, 1, 1, 1, 1, 1, 1, 1, 1, 1, 1, 1, 1, 1, 1, 1, 1, 1, 1, 1, 1, 1, 1, 1, 1, 1, 1, 1, 1, 1, 1, 1, 1, 1, 1, 1, 1, 1, 1, 1, 1, 1, 1, 1, 1, 1, 1, 1, 1, 1]]\n",
            "Action list's shape looks like  (5,)\n",
            "Action shape looks like  (955,)\n",
            "Action shape looks like  (660,)\n",
            "Action shape looks like  (494,)\n",
            "Action shape looks like  (137,)\n",
            "Action shape looks like  (522,)\n"
          ]
        },
        {
          "name": "stderr",
          "output_type": "stream",
          "text": [
            "/home/frankchiang/local/anaconda3/envs/ml2023_hw12/lib/python3.7/site-packages/numpy/core/fromnumeric.py:1970: VisibleDeprecationWarning: Creating an ndarray from ragged nested sequences (which is a list-or-tuple of lists-or-tuples-or ndarrays with different lengths or shapes) is deprecated. If you meant to do this, you must specify 'dtype=object' when creating the ndarray.\n",
            "  result = asarray(a).shape\n"
          ]
        }
      ],
      "source": [
        "print(\"Action list looks like \", action_list)\n",
        "print(\"Action list's shape looks like \", np.shape(action_list))\n",
        "\n",
        "for actions in action_list:\n",
        "    print(\"Action shape looks like \", np.shape(actions))"
      ]
    },
    {
      "attachments": {},
      "cell_type": "markdown",
      "metadata": {
        "id": "fNkmwucrHMen"
      },
      "source": [
        "Analysis of actions taken by agent"
      ]
    },
    {
      "cell_type": "code",
      "execution_count": 53,
      "metadata": {
        "colab": {
          "base_uri": "https://localhost:8080/"
        },
        "id": "WHdAItjj1nxw",
        "outputId": "7b7010f3-fb1a-4d6f-8012-be5aa98794a5"
      },
      "outputs": [
        {
          "name": "stdout",
          "output_type": "stream",
          "text": [
            "{0: 940, 2: 1341, 1: 276, 3: 211}\n"
          ]
        }
      ],
      "source": [
        "distribution = {}\n",
        "for actions in action_list:\n",
        "  for action in actions:\n",
        "    if action not in distribution.keys():\n",
        "      distribution[action] = 1\n",
        "    else:\n",
        "      distribution[action] += 1\n",
        "print(distribution)"
      ]
    },
    {
      "attachments": {},
      "cell_type": "markdown",
      "metadata": {
        "id": "ricE0schY75M"
      },
      "source": [
        "Saving the result of Model Testing\n"
      ]
    },
    {
      "cell_type": "code",
      "execution_count": null,
      "metadata": {
        "colab": {
          "base_uri": "https://localhost:8080/"
        },
        "id": "GZsMkGmIY42b",
        "outputId": "e9cee503-177a-462e-9298-5e5752b3e451"
      },
      "outputs": [],
      "source": [
        "# PATH = \"Action_List.npy\" # Can be modified into the name or path you want\n",
        "# np.save(PATH ,np.array(action_list)) "
      ]
    },
    {
      "attachments": {},
      "cell_type": "markdown",
      "metadata": {
        "id": "asK7WfbkaLjt"
      },
      "source": [
        "### This is the file you need to submit !!!\n",
        "Download the testing result to your device\n",
        "\n"
      ]
    },
    {
      "cell_type": "code",
      "execution_count": 54,
      "metadata": {
        "colab": {
          "base_uri": "https://localhost:8080/",
          "height": 17
        },
        "id": "c-CqyhHzaWAL",
        "outputId": "d492cd1f-d843-4eb8-9a4a-b3bd6eae04d9"
      },
      "outputs": [],
      "source": [
        "PATH=best_dir+\"Action_List-test.npy\"\n",
        "# from google.colab import files\n",
        "# files.download(PATH)"
      ]
    },
    {
      "attachments": {},
      "cell_type": "markdown",
      "metadata": {
        "id": "seT4NUmWmAZ1"
      },
      "source": [
        "# Server \n",
        "The code below simulate the environment on the judge server. Can be used for testing."
      ]
    },
    {
      "cell_type": "code",
      "execution_count": 61,
      "metadata": {
        "colab": {
          "base_uri": "https://localhost:8080/",
          "height": 481
        },
        "id": "U69c-YTxaw6b",
        "outputId": "f32f26a4-4d97-44b7-c2e9-1f69d87afb2d"
      },
      "outputs": [
        {
          "name": "stdout",
          "output_type": "stream",
          "text": [
            "Your reward is : 85.80\n",
            "Your reward is : 194.13\n",
            "Your reward is : 249.49\n",
            "Your reward is : -15.11\n",
            "Your reward is : 170.67\n"
          ]
        }
      ],
      "source": [
        "# PATH=best_dir+\"Action_List-test.npy\"\n",
        "action_list = np.load(PATH,allow_pickle=True) # The action list you upload\n",
        "seed = 2023 # Do not revise this\n",
        "fix(env, seed)\n",
        "\n",
        "agent.qnetwork_local.eval()  # set network to evaluation mode\n",
        "agent.qnetwork_target.eval()  # set network to evaluation mode\n",
        "\n",
        "test_total_reward = []\n",
        "if len(action_list) != 5:\n",
        "  print(\"Wrong format of file !!!\")\n",
        "  exit(0)\n",
        "for i, actions in enumerate(action_list):\n",
        "  state = env.reset()\n",
        "  #img = plt.imshow(env.render(mode='rgb_array'))\n",
        "  img_list = []\n",
        "  total_reward = 0\n",
        "  done = False\n",
        "  for action in actions:\n",
        "      state, reward, done, _ = env.step(action)\n",
        "      total_reward += reward\n",
        "      img_list.append(Image.fromarray(env.render(mode='rgb_array'), 'RGB'))\n",
        "      if done:\n",
        "        break\n",
        "  gif_pth = best_dir + f\"layout-{i}.gif\"\n",
        "  imageio.mimsave(gif_pth, img_list, 'GIF', duration=1000)\n",
        "  img_list[0].save(gif_pth, save_all=True, append_images=img_list)\n",
        "  print(f\"Your reward is : %.2f\"%total_reward)\n",
        "  test_total_reward.append(total_reward)"
      ]
    },
    {
      "cell_type": "code",
      "execution_count": 57,
      "metadata": {},
      "outputs": [
        {
          "name": "stdout",
          "output_type": "stream",
          "text": [
            "./0616-0220_lunar-Duel-noisy/best/\n"
          ]
        }
      ],
      "source": [
        "print(best_dir)"
      ]
    },
    {
      "attachments": {},
      "cell_type": "markdown",
      "metadata": {
        "id": "TjFBWwQP1hVe"
      },
      "source": [
        "# Your score"
      ]
    },
    {
      "cell_type": "code",
      "execution_count": 58,
      "metadata": {
        "colab": {
          "base_uri": "https://localhost:8080/"
        },
        "id": "GpJpZz3Wbm0X",
        "outputId": "08adba66-0ac6-4ba1-baf0-92ef5cbcdab7"
      },
      "outputs": [
        {
          "name": "stdout",
          "output_type": "stream",
          "text": [
            "Your final reward is : 136.99\n"
          ]
        }
      ],
      "source": [
        "print(f\"Your final reward is : %.2f\"%np.mean(test_total_reward))"
      ]
    },
    {
      "attachments": {},
      "cell_type": "markdown",
      "metadata": {
        "id": "wUBtYXG2eaqf"
      },
      "source": [
        "## Reference\n",
        "\n",
        "Below are some useful tips for you to get high score.\n",
        "\n",
        "- [DRL Lecture 1: Policy Gradient (Review)](https://youtu.be/z95ZYgPgXOY)\n",
        "- [ML Lecture 23-3: Reinforcement Learning (including Q-learning) start at 30:00](https://youtu.be/2-JNBzCq77c?t=1800)\n",
        "- [Lecture 7: Policy Gradient, David Silver](http://www0.cs.ucl.ac.uk/staff/d.silver/web/Teaching_files/pg.pdf)\n"
      ]
    }
  ],
  "metadata": {
    "colab": {
      "provenance": []
    },
    "gpuClass": "standard",
    "kernelspec": {
      "display_name": "Python 3",
      "name": "python3"
    },
    "language_info": {
      "codemirror_mode": {
        "name": "ipython",
        "version": 3
      },
      "file_extension": ".py",
      "mimetype": "text/x-python",
      "name": "python",
      "nbconvert_exporter": "python",
      "pygments_lexer": "ipython3",
      "version": "3.7.16"
    },
    "widgets": {
      "application/vnd.jupyter.widget-state+json": {
        "194b9ffbe5c8431ba02221e5f8f1e315": {
          "model_module": "@jupyter-widgets/controls",
          "model_module_version": "1.5.0",
          "model_name": "FloatProgressModel",
          "state": {
            "_dom_classes": [],
            "_model_module": "@jupyter-widgets/controls",
            "_model_module_version": "1.5.0",
            "_model_name": "FloatProgressModel",
            "_view_count": null,
            "_view_module": "@jupyter-widgets/controls",
            "_view_module_version": "1.5.0",
            "_view_name": "ProgressView",
            "bar_style": "success",
            "description": "",
            "description_tooltip": null,
            "layout": "IPY_MODEL_a86cc078ee82412393be06fbb41dc603",
            "max": 100,
            "min": 0,
            "orientation": "horizontal",
            "style": "IPY_MODEL_6af646edfbed423a893eb4ff5a80dc65",
            "value": 100
          }
        },
        "5805cbaeef104932bbc2886796b99a5c": {
          "model_module": "@jupyter-widgets/base",
          "model_module_version": "1.2.0",
          "model_name": "LayoutModel",
          "state": {
            "_model_module": "@jupyter-widgets/base",
            "_model_module_version": "1.2.0",
            "_model_name": "LayoutModel",
            "_view_count": null,
            "_view_module": "@jupyter-widgets/base",
            "_view_module_version": "1.2.0",
            "_view_name": "LayoutView",
            "align_content": null,
            "align_items": null,
            "align_self": null,
            "border": null,
            "bottom": null,
            "display": null,
            "flex": null,
            "flex_flow": null,
            "grid_area": null,
            "grid_auto_columns": null,
            "grid_auto_flow": null,
            "grid_auto_rows": null,
            "grid_column": null,
            "grid_gap": null,
            "grid_row": null,
            "grid_template_areas": null,
            "grid_template_columns": null,
            "grid_template_rows": null,
            "height": null,
            "justify_content": null,
            "justify_items": null,
            "left": null,
            "margin": null,
            "max_height": null,
            "max_width": null,
            "min_height": null,
            "min_width": null,
            "object_fit": null,
            "object_position": null,
            "order": null,
            "overflow": null,
            "overflow_x": null,
            "overflow_y": null,
            "padding": null,
            "right": null,
            "top": null,
            "visibility": null,
            "width": null
          }
        },
        "66b62bd445394f90914856c4e6ffad8a": {
          "model_module": "@jupyter-widgets/base",
          "model_module_version": "1.2.0",
          "model_name": "LayoutModel",
          "state": {
            "_model_module": "@jupyter-widgets/base",
            "_model_module_version": "1.2.0",
            "_model_name": "LayoutModel",
            "_view_count": null,
            "_view_module": "@jupyter-widgets/base",
            "_view_module_version": "1.2.0",
            "_view_name": "LayoutView",
            "align_content": null,
            "align_items": null,
            "align_self": null,
            "border": null,
            "bottom": null,
            "display": null,
            "flex": null,
            "flex_flow": null,
            "grid_area": null,
            "grid_auto_columns": null,
            "grid_auto_flow": null,
            "grid_auto_rows": null,
            "grid_column": null,
            "grid_gap": null,
            "grid_row": null,
            "grid_template_areas": null,
            "grid_template_columns": null,
            "grid_template_rows": null,
            "height": null,
            "justify_content": null,
            "justify_items": null,
            "left": null,
            "margin": null,
            "max_height": null,
            "max_width": null,
            "min_height": null,
            "min_width": null,
            "object_fit": null,
            "object_position": null,
            "order": null,
            "overflow": null,
            "overflow_x": null,
            "overflow_y": null,
            "padding": null,
            "right": null,
            "top": null,
            "visibility": null,
            "width": null
          }
        },
        "6af646edfbed423a893eb4ff5a80dc65": {
          "model_module": "@jupyter-widgets/controls",
          "model_module_version": "1.5.0",
          "model_name": "ProgressStyleModel",
          "state": {
            "_model_module": "@jupyter-widgets/controls",
            "_model_module_version": "1.5.0",
            "_model_name": "ProgressStyleModel",
            "_view_count": null,
            "_view_module": "@jupyter-widgets/base",
            "_view_module_version": "1.2.0",
            "_view_name": "StyleView",
            "bar_color": null,
            "description_width": ""
          }
        },
        "76be8412fdd94bb99c9b071764057b9b": {
          "model_module": "@jupyter-widgets/controls",
          "model_module_version": "1.5.0",
          "model_name": "DescriptionStyleModel",
          "state": {
            "_model_module": "@jupyter-widgets/controls",
            "_model_module_version": "1.5.0",
            "_model_name": "DescriptionStyleModel",
            "_view_count": null,
            "_view_module": "@jupyter-widgets/base",
            "_view_module_version": "1.2.0",
            "_view_name": "StyleView",
            "description_width": ""
          }
        },
        "a75e87122a4c4b2fa75a69b27b0f9111": {
          "model_module": "@jupyter-widgets/controls",
          "model_module_version": "1.5.0",
          "model_name": "HBoxModel",
          "state": {
            "_dom_classes": [],
            "_model_module": "@jupyter-widgets/controls",
            "_model_module_version": "1.5.0",
            "_model_name": "HBoxModel",
            "_view_count": null,
            "_view_module": "@jupyter-widgets/controls",
            "_view_module_version": "1.5.0",
            "_view_name": "HBoxView",
            "box_style": "",
            "children": [
              "IPY_MODEL_ff52d7994d7848429da4dc9078d2f228",
              "IPY_MODEL_194b9ffbe5c8431ba02221e5f8f1e315",
              "IPY_MODEL_d961617cc2924a70ae866bf25c1643bb"
            ],
            "layout": "IPY_MODEL_66b62bd445394f90914856c4e6ffad8a"
          }
        },
        "a86cc078ee82412393be06fbb41dc603": {
          "model_module": "@jupyter-widgets/base",
          "model_module_version": "1.2.0",
          "model_name": "LayoutModel",
          "state": {
            "_model_module": "@jupyter-widgets/base",
            "_model_module_version": "1.2.0",
            "_model_name": "LayoutModel",
            "_view_count": null,
            "_view_module": "@jupyter-widgets/base",
            "_view_module_version": "1.2.0",
            "_view_name": "LayoutView",
            "align_content": null,
            "align_items": null,
            "align_self": null,
            "border": null,
            "bottom": null,
            "display": null,
            "flex": null,
            "flex_flow": null,
            "grid_area": null,
            "grid_auto_columns": null,
            "grid_auto_flow": null,
            "grid_auto_rows": null,
            "grid_column": null,
            "grid_gap": null,
            "grid_row": null,
            "grid_template_areas": null,
            "grid_template_columns": null,
            "grid_template_rows": null,
            "height": null,
            "justify_content": null,
            "justify_items": null,
            "left": null,
            "margin": null,
            "max_height": null,
            "max_width": null,
            "min_height": null,
            "min_width": null,
            "object_fit": null,
            "object_position": null,
            "order": null,
            "overflow": null,
            "overflow_x": null,
            "overflow_y": null,
            "padding": null,
            "right": null,
            "top": null,
            "visibility": null,
            "width": null
          }
        },
        "ad74a83a0e534484a27a1ff7b981c62a": {
          "model_module": "@jupyter-widgets/controls",
          "model_module_version": "1.5.0",
          "model_name": "DescriptionStyleModel",
          "state": {
            "_model_module": "@jupyter-widgets/controls",
            "_model_module_version": "1.5.0",
            "_model_name": "DescriptionStyleModel",
            "_view_count": null,
            "_view_module": "@jupyter-widgets/base",
            "_view_module_version": "1.2.0",
            "_view_name": "StyleView",
            "description_width": ""
          }
        },
        "bf39b080df3c4a9c9136740f657b0f79": {
          "model_module": "@jupyter-widgets/base",
          "model_module_version": "1.2.0",
          "model_name": "LayoutModel",
          "state": {
            "_model_module": "@jupyter-widgets/base",
            "_model_module_version": "1.2.0",
            "_model_name": "LayoutModel",
            "_view_count": null,
            "_view_module": "@jupyter-widgets/base",
            "_view_module_version": "1.2.0",
            "_view_name": "LayoutView",
            "align_content": null,
            "align_items": null,
            "align_self": null,
            "border": null,
            "bottom": null,
            "display": null,
            "flex": null,
            "flex_flow": null,
            "grid_area": null,
            "grid_auto_columns": null,
            "grid_auto_flow": null,
            "grid_auto_rows": null,
            "grid_column": null,
            "grid_gap": null,
            "grid_row": null,
            "grid_template_areas": null,
            "grid_template_columns": null,
            "grid_template_rows": null,
            "height": null,
            "justify_content": null,
            "justify_items": null,
            "left": null,
            "margin": null,
            "max_height": null,
            "max_width": null,
            "min_height": null,
            "min_width": null,
            "object_fit": null,
            "object_position": null,
            "order": null,
            "overflow": null,
            "overflow_x": null,
            "overflow_y": null,
            "padding": null,
            "right": null,
            "top": null,
            "visibility": null,
            "width": null
          }
        },
        "d961617cc2924a70ae866bf25c1643bb": {
          "model_module": "@jupyter-widgets/controls",
          "model_module_version": "1.5.0",
          "model_name": "HTMLModel",
          "state": {
            "_dom_classes": [],
            "_model_module": "@jupyter-widgets/controls",
            "_model_module_version": "1.5.0",
            "_model_name": "HTMLModel",
            "_view_count": null,
            "_view_module": "@jupyter-widgets/controls",
            "_view_module_version": "1.5.0",
            "_view_name": "HTMLView",
            "description": "",
            "description_tooltip": null,
            "layout": "IPY_MODEL_5805cbaeef104932bbc2886796b99a5c",
            "placeholder": "​",
            "style": "IPY_MODEL_76be8412fdd94bb99c9b071764057b9b",
            "value": " 100/100 [01:40&lt;00:00,  2.27s/it]"
          }
        },
        "ff52d7994d7848429da4dc9078d2f228": {
          "model_module": "@jupyter-widgets/controls",
          "model_module_version": "1.5.0",
          "model_name": "HTMLModel",
          "state": {
            "_dom_classes": [],
            "_model_module": "@jupyter-widgets/controls",
            "_model_module_version": "1.5.0",
            "_model_name": "HTMLModel",
            "_view_count": null,
            "_view_module": "@jupyter-widgets/controls",
            "_view_module_version": "1.5.0",
            "_view_name": "HTMLView",
            "description": "",
            "description_tooltip": null,
            "layout": "IPY_MODEL_bf39b080df3c4a9c9136740f657b0f79",
            "placeholder": "​",
            "style": "IPY_MODEL_ad74a83a0e534484a27a1ff7b981c62a",
            "value": "Total: -179.2, Final: -100.0: 100%"
          }
        }
      }
    }
  },
  "nbformat": 4,
  "nbformat_minor": 0
}
