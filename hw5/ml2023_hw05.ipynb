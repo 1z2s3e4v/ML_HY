{
  "cells": [
    {
      "cell_type": "markdown",
      "metadata": {
        "id": "AFEKWoh3p1Mv"
      },
      "source": [
        "# Homework Description\n",
        "- English to Chinese (Traditional) Translation\n",
        "  - Input: an English sentence         (e.g.\t\ttom is a student .)\n",
        "  - Output: the Chinese translation  (e.g. \t\t湯姆 是 個 學生 。)\n",
        "\n",
        "- TODO\n",
        "    - Train a simple RNN seq2seq to acheive translation\n",
        "    - Switch to transformer model to boost performance\n",
        "    - Apply Back-translation to furthur boost performance"
      ]
    },
    {
      "cell_type": "code",
      "execution_count": 1,
      "metadata": {
        "id": "3Vf1Q79XPQ3D"
      },
      "outputs": [
        {
          "name": "stdout",
          "output_type": "stream",
          "text": [
            "Sat Apr  8 17:53:52 2023       \n",
            "+-----------------------------------------------------------------------------+\n",
            "| NVIDIA-SMI 515.48.07    Driver Version: 515.48.07    CUDA Version: 11.7     |\n",
            "|-------------------------------+----------------------+----------------------+\n",
            "| GPU  Name        Persistence-M| Bus-Id        Disp.A | Volatile Uncorr. ECC |\n",
            "| Fan  Temp  Perf  Pwr:Usage/Cap|         Memory-Usage | GPU-Util  Compute M. |\n",
            "|                               |                      |               MIG M. |\n",
            "|===============================+======================+======================|\n",
            "|   0  NVIDIA GeForce ...  Off  | 00000000:21:00.0 Off |                  N/A |\n",
            "| 30%   41C    P8    24W / 350W |      0MiB / 24576MiB |      0%      Default |\n",
            "|                               |                      |                  N/A |\n",
            "+-------------------------------+----------------------+----------------------+\n",
            "|   1  NVIDIA GeForce ...  Off  | 00000000:49:00.0 Off |                  N/A |\n",
            "| 30%   41C    P8    21W / 350W |      0MiB / 24576MiB |      0%      Default |\n",
            "|                               |                      |                  N/A |\n",
            "+-------------------------------+----------------------+----------------------+\n",
            "                                                                               \n",
            "+-----------------------------------------------------------------------------+\n",
            "| Processes:                                                                  |\n",
            "|  GPU   GI   CI        PID   Type   Process name                  GPU Memory |\n",
            "|        ID   ID                                                   Usage      |\n",
            "|=============================================================================|\n",
            "|  No running processes found                                                 |\n",
            "+-----------------------------------------------------------------------------+\n"
          ]
        }
      ],
      "source": [
        "!nvidia-smi"
      ]
    },
    {
      "cell_type": "markdown",
      "metadata": {
        "id": "59neB_Sxp5Ub"
      },
      "source": [
        "# Download and import required packages"
      ]
    },
    {
      "cell_type": "code",
      "execution_count": 2,
      "metadata": {
        "id": "rRlFbfFRpZYT"
      },
      "outputs": [
        {
          "name": "stdout",
          "output_type": "stream",
          "text": [
            "Requirement already satisfied: torch>=1.6.0 in /home/frankchiang/local/anaconda3/envs/ml2023_hw5/lib/python3.7/site-packages (1.13.1)\n",
            "Collecting editdistance\n",
            "  Downloading editdistance-0.6.2-cp37-cp37m-manylinux_2_17_x86_64.manylinux2014_x86_64.whl (282 kB)\n",
            "\u001b[2K     \u001b[90m━━━━━━━━━━━━━━━━━━━━━━━━━━━━━━━━━━━━━━━\u001b[0m \u001b[32m282.6/282.6 kB\u001b[0m \u001b[31m1.8 MB/s\u001b[0m eta \u001b[36m0:00:00\u001b[0ma \u001b[36m0:00:01\u001b[0m\n",
            "\u001b[?25hRequirement already satisfied: matplotlib in /home/frankchiang/local/anaconda3/envs/ml2023_hw5/lib/python3.7/site-packages (3.5.3)\n",
            "Collecting sacrebleu\n",
            "  Downloading sacrebleu-2.3.1-py3-none-any.whl (118 kB)\n",
            "\u001b[2K     \u001b[90m━━━━━━━━━━━━━━━━━━━━━━━━━━━━━━━━━━━━━━━\u001b[0m \u001b[32m118.9/118.9 kB\u001b[0m \u001b[31m1.5 MB/s\u001b[0m eta \u001b[36m0:00:00\u001b[0ma \u001b[36m0:00:01\u001b[0m\n",
            "\u001b[?25hCollecting sacremoses\n",
            "  Downloading sacremoses-0.0.53.tar.gz (880 kB)\n",
            "\u001b[2K     \u001b[90m━━━━━━━━━━━━━━━━━━━━━━━━━━━━━━━━━━━━━━━\u001b[0m \u001b[32m880.6/880.6 kB\u001b[0m \u001b[31m7.8 MB/s\u001b[0m eta \u001b[36m0:00:00\u001b[0m00:01\u001b[0m00:01\u001b[0m\n",
            "\u001b[?25h  Preparing metadata (setup.py) ... \u001b[?25ldone\n",
            "\u001b[?25hCollecting sentencepiece\n",
            "  Downloading sentencepiece-0.1.97-cp37-cp37m-manylinux_2_17_x86_64.manylinux2014_x86_64.whl (1.3 MB)\n",
            "\u001b[2K     \u001b[90m━━━━━━━━━━━━━━━━━━━━━━━━━━━━━━━━━━━━━━━━\u001b[0m \u001b[32m1.3/1.3 MB\u001b[0m \u001b[31m7.1 MB/s\u001b[0m eta \u001b[36m0:00:00\u001b[0m:00:01\u001b[0m00:01\u001b[0m\n",
            "\u001b[?25hRequirement already satisfied: tqdm in /home/frankchiang/local/anaconda3/envs/ml2023_hw5/lib/python3.7/site-packages (4.64.1)\n",
            "Collecting wandb\n",
            "  Downloading wandb-0.14.2-py3-none-any.whl (2.0 MB)\n",
            "\u001b[2K     \u001b[90m━━━━━━━━━━━━━━━━━━━━━━━━━━━━━━━━━━━━━━━━\u001b[0m \u001b[32m2.0/2.0 MB\u001b[0m \u001b[31m7.7 MB/s\u001b[0m eta \u001b[36m0:00:00\u001b[0m:00:01\u001b[0m00:01\u001b[0m\n",
            "\u001b[?25hRequirement already satisfied: nvidia-cuda-runtime-cu11==11.7.99 in /home/frankchiang/local/anaconda3/envs/ml2023_hw5/lib/python3.7/site-packages (from torch>=1.6.0) (11.7.99)\n",
            "Requirement already satisfied: nvidia-cuda-nvrtc-cu11==11.7.99 in /home/frankchiang/local/anaconda3/envs/ml2023_hw5/lib/python3.7/site-packages (from torch>=1.6.0) (11.7.99)\n",
            "Requirement already satisfied: nvidia-cublas-cu11==11.10.3.66 in /home/frankchiang/local/anaconda3/envs/ml2023_hw5/lib/python3.7/site-packages (from torch>=1.6.0) (11.10.3.66)\n",
            "Requirement already satisfied: nvidia-cudnn-cu11==8.5.0.96 in /home/frankchiang/local/anaconda3/envs/ml2023_hw5/lib/python3.7/site-packages (from torch>=1.6.0) (8.5.0.96)\n",
            "Requirement already satisfied: typing-extensions in /home/frankchiang/local/anaconda3/envs/ml2023_hw5/lib/python3.7/site-packages (from torch>=1.6.0) (4.5.0)\n",
            "Requirement already satisfied: setuptools in /home/frankchiang/local/anaconda3/envs/ml2023_hw5/lib/python3.7/site-packages (from nvidia-cublas-cu11==11.10.3.66->torch>=1.6.0) (65.6.3)\n",
            "Requirement already satisfied: wheel in /home/frankchiang/local/anaconda3/envs/ml2023_hw5/lib/python3.7/site-packages (from nvidia-cublas-cu11==11.10.3.66->torch>=1.6.0) (0.38.4)\n",
            "Requirement already satisfied: kiwisolver>=1.0.1 in /home/frankchiang/local/anaconda3/envs/ml2023_hw5/lib/python3.7/site-packages (from matplotlib) (1.4.4)\n",
            "Requirement already satisfied: numpy>=1.17 in /home/frankchiang/local/anaconda3/envs/ml2023_hw5/lib/python3.7/site-packages (from matplotlib) (1.21.6)\n",
            "Requirement already satisfied: packaging>=20.0 in /home/frankchiang/local/anaconda3/envs/ml2023_hw5/lib/python3.7/site-packages (from matplotlib) (23.0)\n",
            "Requirement already satisfied: fonttools>=4.22.0 in /home/frankchiang/local/anaconda3/envs/ml2023_hw5/lib/python3.7/site-packages (from matplotlib) (4.38.0)\n",
            "Requirement already satisfied: pyparsing>=2.2.1 in /home/frankchiang/local/anaconda3/envs/ml2023_hw5/lib/python3.7/site-packages (from matplotlib) (3.0.9)\n",
            "Requirement already satisfied: pillow>=6.2.0 in /home/frankchiang/local/anaconda3/envs/ml2023_hw5/lib/python3.7/site-packages (from matplotlib) (9.4.0)\n",
            "Requirement already satisfied: python-dateutil>=2.7 in /home/frankchiang/local/anaconda3/envs/ml2023_hw5/lib/python3.7/site-packages (from matplotlib) (2.8.2)\n",
            "Requirement already satisfied: cycler>=0.10 in /home/frankchiang/local/anaconda3/envs/ml2023_hw5/lib/python3.7/site-packages (from matplotlib) (0.11.0)\n",
            "Collecting portalocker\n",
            "  Downloading portalocker-2.7.0-py2.py3-none-any.whl (15 kB)\n",
            "Collecting tabulate>=0.8.9\n",
            "  Downloading tabulate-0.9.0-py3-none-any.whl (35 kB)\n",
            "Collecting regex\n",
            "  Downloading regex-2022.10.31-cp37-cp37m-manylinux_2_17_x86_64.manylinux2014_x86_64.whl (757 kB)\n",
            "\u001b[2K     \u001b[90m━━━━━━━━━━━━━━━━━━━━━━━━━━━━━━━━━━━━━━━\u001b[0m \u001b[32m757.1/757.1 kB\u001b[0m \u001b[31m7.9 MB/s\u001b[0m eta \u001b[36m0:00:00\u001b[0m00:01\u001b[0m\n",
            "\u001b[?25hCollecting lxml\n",
            "  Downloading lxml-4.9.2-cp37-cp37m-manylinux_2_17_x86_64.manylinux2014_x86_64.manylinux_2_24_x86_64.whl (6.6 MB)\n",
            "\u001b[2K     \u001b[90m━━━━━━━━━━━━━━━━━━━━━━━━━━━━━━━━━━━━━━━━\u001b[0m \u001b[32m6.6/6.6 MB\u001b[0m \u001b[31m17.0 MB/s\u001b[0m eta \u001b[36m0:00:00\u001b[0m00:01\u001b[0m00:01\u001b[0m\n",
            "\u001b[?25hCollecting colorama\n",
            "  Downloading colorama-0.4.6-py2.py3-none-any.whl (25 kB)\n",
            "Requirement already satisfied: six in /home/frankchiang/local/anaconda3/envs/ml2023_hw5/lib/python3.7/site-packages (from sacremoses) (1.16.0)\n",
            "Collecting click\n",
            "  Using cached click-8.1.3-py3-none-any.whl (96 kB)\n",
            "Requirement already satisfied: joblib in /home/frankchiang/local/anaconda3/envs/ml2023_hw5/lib/python3.7/site-packages (from sacremoses) (1.2.0)\n",
            "Requirement already satisfied: protobuf!=4.21.0,<5,>=3.12.0 in /home/frankchiang/local/anaconda3/envs/ml2023_hw5/lib/python3.7/site-packages (from wandb) (3.20.3)\n",
            "Collecting GitPython!=3.1.29,>=1.0.0\n",
            "  Downloading GitPython-3.1.31-py3-none-any.whl (184 kB)\n",
            "\u001b[2K     \u001b[90m━━━━━━━━━━━━━━━━━━━━━━━━━━━━━━━━━━━━━━━\u001b[0m \u001b[32m184.3/184.3 kB\u001b[0m \u001b[31m1.7 MB/s\u001b[0m eta \u001b[36m0:00:00\u001b[0m00:01\u001b[0m\n",
            "\u001b[?25hRequirement already satisfied: psutil>=5.0.0 in /home/frankchiang/local/anaconda3/envs/ml2023_hw5/lib/python3.7/site-packages (from wandb) (5.9.4)\n",
            "Collecting PyYAML\n",
            "  Downloading PyYAML-6.0-cp37-cp37m-manylinux_2_5_x86_64.manylinux1_x86_64.manylinux_2_12_x86_64.manylinux2010_x86_64.whl (596 kB)\n",
            "\u001b[2K     \u001b[90m━━━━━━━━━━━━━━━━━━━━━━━━━━━━━━━━━━━━━━\u001b[0m \u001b[32m596.3/596.3 kB\u001b[0m \u001b[31m21.1 MB/s\u001b[0m eta \u001b[36m0:00:00\u001b[0m\n",
            "\u001b[?25hRequirement already satisfied: requests<3,>=2.0.0 in /home/frankchiang/local/anaconda3/envs/ml2023_hw5/lib/python3.7/site-packages (from wandb) (2.28.2)\n",
            "Collecting appdirs>=1.4.3\n",
            "  Downloading appdirs-1.4.4-py2.py3-none-any.whl (9.6 kB)\n",
            "Collecting pathtools\n",
            "  Downloading pathtools-0.1.2.tar.gz (11 kB)\n",
            "  Preparing metadata (setup.py) ... \u001b[?25ldone\n",
            "\u001b[?25hCollecting sentry-sdk>=1.0.0\n",
            "  Downloading sentry_sdk-1.19.1-py2.py3-none-any.whl (199 kB)\n",
            "\u001b[2K     \u001b[90m━━━━━━━━━━━━━━━━━━━━━━━━━━━━━━━━━━━━━━━\u001b[0m \u001b[32m199.2/199.2 kB\u001b[0m \u001b[31m2.2 MB/s\u001b[0m eta \u001b[36m0:00:00\u001b[0m00:01\u001b[0m\n",
            "\u001b[?25hCollecting docker-pycreds>=0.4.0\n",
            "  Downloading docker_pycreds-0.4.0-py2.py3-none-any.whl (9.0 kB)\n",
            "Collecting setproctitle\n",
            "  Downloading setproctitle-1.3.2-cp37-cp37m-manylinux_2_5_x86_64.manylinux1_x86_64.manylinux_2_17_x86_64.manylinux2014_x86_64.whl (30 kB)\n",
            "Requirement already satisfied: importlib-metadata in /home/frankchiang/local/anaconda3/envs/ml2023_hw5/lib/python3.7/site-packages (from click->sacremoses) (6.0.0)\n",
            "Collecting gitdb<5,>=4.0.1\n",
            "  Downloading gitdb-4.0.10-py3-none-any.whl (62 kB)\n",
            "\u001b[2K     \u001b[90m━━━━━━━━━━━━━━━━━━━━━━━━━━━━━━━━━━━━━━━\u001b[0m \u001b[32m62.7/62.7 kB\u001b[0m \u001b[31m554.1 kB/s\u001b[0m eta \u001b[36m0:00:00\u001b[0m00:01\u001b[0m\n",
            "\u001b[?25hRequirement already satisfied: idna<4,>=2.5 in /home/frankchiang/local/anaconda3/envs/ml2023_hw5/lib/python3.7/site-packages (from requests<3,>=2.0.0->wandb) (3.4)\n",
            "Requirement already satisfied: certifi>=2017.4.17 in /home/frankchiang/local/anaconda3/envs/ml2023_hw5/lib/python3.7/site-packages (from requests<3,>=2.0.0->wandb) (2022.12.7)\n",
            "Requirement already satisfied: urllib3<1.27,>=1.21.1 in /home/frankchiang/local/anaconda3/envs/ml2023_hw5/lib/python3.7/site-packages (from requests<3,>=2.0.0->wandb) (1.26.14)\n",
            "Requirement already satisfied: charset-normalizer<4,>=2 in /home/frankchiang/local/anaconda3/envs/ml2023_hw5/lib/python3.7/site-packages (from requests<3,>=2.0.0->wandb) (3.0.1)\n",
            "Collecting smmap<6,>=3.0.1\n",
            "  Downloading smmap-5.0.0-py3-none-any.whl (24 kB)\n",
            "Requirement already satisfied: zipp>=0.5 in /home/frankchiang/local/anaconda3/envs/ml2023_hw5/lib/python3.7/site-packages (from importlib-metadata->click->sacremoses) (3.15.0)\n",
            "Building wheels for collected packages: sacremoses, pathtools\n",
            "  Building wheel for sacremoses (setup.py) ... \u001b[?25ldone\n",
            "\u001b[?25h  Created wheel for sacremoses: filename=sacremoses-0.0.53-py3-none-any.whl size=895241 sha256=ce2f73e4df63145e9b1354454493bdb3135e301e6fe26788d36d6bef8673fb1d\n",
            "  Stored in directory: /home/frankchiang/.cache/pip/wheels/5b/e0/77/05245143a5b31f65af6a21f7afd3219e9fa4896f918af45677\n",
            "  Building wheel for pathtools (setup.py) ... \u001b[?25ldone\n",
            "\u001b[?25h  Created wheel for pathtools: filename=pathtools-0.1.2-py3-none-any.whl size=8791 sha256=fec9496eb21aa9b4165c29f48106320e4446350bfc819ae92552e6e62a511f11\n",
            "  Stored in directory: /home/frankchiang/.cache/pip/wheels/7b/d8/86/08d5794e37091c7a918e0bb3322b7b43af55bda3b665b81e05\n",
            "Successfully built sacremoses pathtools\n",
            "Installing collected packages: sentencepiece, pathtools, appdirs, tabulate, smmap, setproctitle, sentry-sdk, regex, PyYAML, portalocker, lxml, editdistance, docker-pycreds, colorama, sacrebleu, gitdb, click, sacremoses, GitPython, wandb\n",
            "Successfully installed GitPython-3.1.31 PyYAML-6.0 appdirs-1.4.4 click-8.1.3 colorama-0.4.6 docker-pycreds-0.4.0 editdistance-0.6.2 gitdb-4.0.10 lxml-4.9.2 pathtools-0.1.2 portalocker-2.7.0 regex-2022.10.31 sacrebleu-2.3.1 sacremoses-0.0.53 sentencepiece-0.1.97 sentry-sdk-1.19.1 setproctitle-1.3.2 smmap-5.0.0 tabulate-0.9.0 wandb-0.14.2\n",
            "Collecting jupyter\n",
            "  Using cached jupyter-1.0.0-py2.py3-none-any.whl (2.7 kB)\n",
            "Requirement already satisfied: ipywidgets in /home/frankchiang/local/anaconda3/envs/ml2023_hw5/lib/python3.7/site-packages (8.0.6)\n",
            "Collecting qtconsole\n",
            "  Downloading qtconsole-5.4.2-py3-none-any.whl (121 kB)\n",
            "\u001b[2K     \u001b[90m━━━━━━━━━━━━━━━━━━━━━━━━━━━━━━━━━━━━━\u001b[0m \u001b[32m121.2/121.2 kB\u001b[0m \u001b[31m571.7 kB/s\u001b[0m eta \u001b[36m0:00:00\u001b[0ma \u001b[36m0:00:01\u001b[0m\n",
            "\u001b[?25hCollecting jupyter-console\n",
            "  Downloading jupyter_console-6.6.3-py3-none-any.whl (24 kB)\n",
            "Collecting nbconvert\n",
            "  Downloading nbconvert-7.3.0-py3-none-any.whl (284 kB)\n",
            "\u001b[2K     \u001b[90m━━━━━━━━━━━━━━━━━━━━━━━━━━━━━━━━━━━━━━━\u001b[0m \u001b[32m284.0/284.0 kB\u001b[0m \u001b[31m1.5 MB/s\u001b[0m eta \u001b[36m0:00:00\u001b[0ma \u001b[36m0:00:01\u001b[0m\n",
            "\u001b[?25hCollecting notebook\n",
            "  Downloading notebook-6.5.4-py3-none-any.whl (529 kB)\n",
            "\u001b[2K     \u001b[90m━━━━━━━━━━━━━━━━━━━━━━━━━━━━━━━━━━━━━━━\u001b[0m \u001b[32m529.8/529.8 kB\u001b[0m \u001b[31m2.3 MB/s\u001b[0m eta \u001b[36m0:00:00\u001b[0m00:01\u001b[0m00:01\u001b[0m\n",
            "\u001b[?25hRequirement already satisfied: ipykernel in /home/frankchiang/local/anaconda3/envs/ml2023_hw5/lib/python3.7/site-packages (from jupyter) (6.16.2)\n",
            "Requirement already satisfied: jupyterlab-widgets~=3.0.7 in /home/frankchiang/local/anaconda3/envs/ml2023_hw5/lib/python3.7/site-packages (from ipywidgets) (3.0.7)\n",
            "Requirement already satisfied: widgetsnbextension~=4.0.7 in /home/frankchiang/local/anaconda3/envs/ml2023_hw5/lib/python3.7/site-packages (from ipywidgets) (4.0.7)\n",
            "Requirement already satisfied: ipython>=6.1.0 in /home/frankchiang/local/anaconda3/envs/ml2023_hw5/lib/python3.7/site-packages (from ipywidgets) (7.34.0)\n",
            "Requirement already satisfied: traitlets>=4.3.1 in /home/frankchiang/local/anaconda3/envs/ml2023_hw5/lib/python3.7/site-packages (from ipywidgets) (5.9.0)\n",
            "Requirement already satisfied: packaging in /home/frankchiang/local/anaconda3/envs/ml2023_hw5/lib/python3.7/site-packages (from ipykernel->jupyter) (23.0)\n",
            "Requirement already satisfied: pyzmq>=17 in /home/frankchiang/local/anaconda3/envs/ml2023_hw5/lib/python3.7/site-packages (from ipykernel->jupyter) (25.0.0)\n",
            "Requirement already satisfied: matplotlib-inline>=0.1 in /home/frankchiang/local/anaconda3/envs/ml2023_hw5/lib/python3.7/site-packages (from ipykernel->jupyter) (0.1.6)\n",
            "Requirement already satisfied: psutil in /home/frankchiang/local/anaconda3/envs/ml2023_hw5/lib/python3.7/site-packages (from ipykernel->jupyter) (5.9.4)\n",
            "Requirement already satisfied: nest-asyncio in /home/frankchiang/local/anaconda3/envs/ml2023_hw5/lib/python3.7/site-packages (from ipykernel->jupyter) (1.5.6)\n",
            "Requirement already satisfied: tornado>=6.1 in /home/frankchiang/local/anaconda3/envs/ml2023_hw5/lib/python3.7/site-packages (from ipykernel->jupyter) (6.2)\n",
            "Requirement already satisfied: jupyter-client>=6.1.12 in /home/frankchiang/local/anaconda3/envs/ml2023_hw5/lib/python3.7/site-packages (from ipykernel->jupyter) (7.4.9)\n",
            "Requirement already satisfied: debugpy>=1.0 in /home/frankchiang/local/anaconda3/envs/ml2023_hw5/lib/python3.7/site-packages (from ipykernel->jupyter) (1.6.6)\n",
            "Requirement already satisfied: decorator in /home/frankchiang/local/anaconda3/envs/ml2023_hw5/lib/python3.7/site-packages (from ipython>=6.1.0->ipywidgets) (5.1.1)\n",
            "Requirement already satisfied: backcall in /home/frankchiang/local/anaconda3/envs/ml2023_hw5/lib/python3.7/site-packages (from ipython>=6.1.0->ipywidgets) (0.2.0)\n",
            "Requirement already satisfied: jedi>=0.16 in /home/frankchiang/local/anaconda3/envs/ml2023_hw5/lib/python3.7/site-packages (from ipython>=6.1.0->ipywidgets) (0.18.2)\n",
            "Requirement already satisfied: pexpect>4.3 in /home/frankchiang/local/anaconda3/envs/ml2023_hw5/lib/python3.7/site-packages (from ipython>=6.1.0->ipywidgets) (4.8.0)\n",
            "Requirement already satisfied: prompt-toolkit!=3.0.0,!=3.0.1,<3.1.0,>=2.0.0 in /home/frankchiang/local/anaconda3/envs/ml2023_hw5/lib/python3.7/site-packages (from ipython>=6.1.0->ipywidgets) (3.0.38)\n",
            "Requirement already satisfied: pygments in /home/frankchiang/local/anaconda3/envs/ml2023_hw5/lib/python3.7/site-packages (from ipython>=6.1.0->ipywidgets) (2.14.0)\n",
            "Requirement already satisfied: pickleshare in /home/frankchiang/local/anaconda3/envs/ml2023_hw5/lib/python3.7/site-packages (from ipython>=6.1.0->ipywidgets) (0.7.5)\n",
            "Requirement already satisfied: setuptools>=18.5 in /home/frankchiang/local/anaconda3/envs/ml2023_hw5/lib/python3.7/site-packages (from ipython>=6.1.0->ipywidgets) (65.6.3)\n",
            "Requirement already satisfied: jupyter-core!=5.0.*,>=4.12 in /home/frankchiang/local/anaconda3/envs/ml2023_hw5/lib/python3.7/site-packages (from jupyter-console->jupyter) (4.12.0)\n",
            "Collecting pandocfilters>=1.4.1\n",
            "  Downloading pandocfilters-1.5.0-py2.py3-none-any.whl (8.7 kB)\n",
            "Collecting tinycss2\n",
            "  Downloading tinycss2-1.2.1-py3-none-any.whl (21 kB)\n",
            "Requirement already satisfied: importlib-metadata>=3.6 in /home/frankchiang/local/anaconda3/envs/ml2023_hw5/lib/python3.7/site-packages (from nbconvert->jupyter) (6.0.0)\n",
            "Collecting jupyterlab-pygments\n",
            "  Downloading jupyterlab_pygments-0.2.2-py2.py3-none-any.whl (21 kB)\n",
            "Collecting defusedxml\n",
            "  Downloading defusedxml-0.7.1-py2.py3-none-any.whl (25 kB)\n",
            "Collecting nbclient>=0.5.0\n",
            "  Downloading nbclient-0.7.3-py3-none-any.whl (72 kB)\n",
            "\u001b[2K     \u001b[90m━━━━━━━━━━━━━━━━━━━━━━━━━━━━━━━━━━━━━━━\u001b[0m \u001b[32m72.4/72.4 kB\u001b[0m \u001b[31m496.8 kB/s\u001b[0m eta \u001b[36m0:00:00\u001b[0m0:01\u001b[0m\n",
            "\u001b[?25hRequirement already satisfied: beautifulsoup4 in /home/frankchiang/local/anaconda3/envs/ml2023_hw5/lib/python3.7/site-packages (from nbconvert->jupyter) (4.12.0)\n",
            "Collecting jinja2>=3.0\n",
            "  Downloading Jinja2-3.1.2-py3-none-any.whl (133 kB)\n",
            "\u001b[2K     \u001b[90m━━━━━━━━━━━━━━━━━━━━━━━━━━━━━━━━━━━━━━━\u001b[0m \u001b[32m133.1/133.1 kB\u001b[0m \u001b[31m1.1 MB/s\u001b[0m eta \u001b[36m0:00:00\u001b[0ma \u001b[36m0:00:01\u001b[0m\n",
            "\u001b[?25hCollecting mistune<3,>=2.0.3\n",
            "  Downloading mistune-2.0.5-py2.py3-none-any.whl (24 kB)\n",
            "Collecting nbformat>=5.1\n",
            "  Downloading nbformat-5.8.0-py3-none-any.whl (77 kB)\n",
            "\u001b[2K     \u001b[90m━━━━━━━━━━━━━━━━━━━━━━━━━━━━━━━━━━━━━━━\u001b[0m \u001b[32m77.4/77.4 kB\u001b[0m \u001b[31m580.4 kB/s\u001b[0m eta \u001b[36m0:00:00\u001b[0m \u001b[36m0:00:01\u001b[0m\n",
            "\u001b[?25hCollecting bleach\n",
            "  Downloading bleach-6.0.0-py3-none-any.whl (162 kB)\n",
            "\u001b[2K     \u001b[90m━━━━━━━━━━━━━━━━━━━━━━━━━━━━━━━━━━━━━━━\u001b[0m \u001b[32m162.5/162.5 kB\u001b[0m \u001b[31m1.5 MB/s\u001b[0m eta \u001b[36m0:00:00\u001b[0ma \u001b[36m0:00:01\u001b[0m\n",
            "\u001b[?25hRequirement already satisfied: markupsafe>=2.0 in /home/frankchiang/local/anaconda3/envs/ml2023_hw5/lib/python3.7/site-packages (from nbconvert->jupyter) (2.1.2)\n",
            "Collecting argon2-cffi\n",
            "  Downloading argon2_cffi-21.3.0-py3-none-any.whl (14 kB)\n",
            "Collecting prometheus-client\n",
            "  Downloading prometheus_client-0.16.0-py3-none-any.whl (122 kB)\n",
            "\u001b[2K     \u001b[90m━━━━━━━━━━━━━━━━━━━━━━━━━━━━━━━━━━━━━━━\u001b[0m \u001b[32m122.5/122.5 kB\u001b[0m \u001b[31m4.2 MB/s\u001b[0m eta \u001b[36m0:00:00\u001b[0m\n",
            "\u001b[?25hCollecting Send2Trash>=1.8.0\n",
            "  Downloading Send2Trash-1.8.0-py3-none-any.whl (18 kB)\n",
            "Collecting nbclassic>=0.4.7\n",
            "  Downloading nbclassic-0.5.5-py3-none-any.whl (10.0 MB)\n",
            "\u001b[2K     \u001b[90m━━━━━━━━━━━━━━━━━━━━━━━━━━━━━━━━━━━━━━━━\u001b[0m \u001b[32m10.0/10.0 MB\u001b[0m \u001b[31m6.9 MB/s\u001b[0m eta \u001b[36m0:00:00\u001b[0m00:01\u001b[0m0:01\u001b[0m\n",
            "\u001b[?25hCollecting terminado>=0.8.3\n",
            "  Downloading terminado-0.17.1-py3-none-any.whl (17 kB)\n",
            "Collecting ipython-genutils\n",
            "  Downloading ipython_genutils-0.2.0-py2.py3-none-any.whl (26 kB)\n",
            "Collecting qtpy>=2.0.1\n",
            "  Downloading QtPy-2.3.1-py3-none-any.whl (84 kB)\n",
            "\u001b[2K     \u001b[90m━━━━━━━━━━━━━━━━━━━━━━━━━━━━━━━━━━━━━━━━\u001b[0m \u001b[32m84.9/84.9 kB\u001b[0m \u001b[31m5.8 MB/s\u001b[0m eta \u001b[36m0:00:00\u001b[0m\n",
            "\u001b[?25hRequirement already satisfied: typing-extensions>=3.6.4 in /home/frankchiang/local/anaconda3/envs/ml2023_hw5/lib/python3.7/site-packages (from importlib-metadata>=3.6->nbconvert->jupyter) (4.5.0)\n",
            "Requirement already satisfied: zipp>=0.5 in /home/frankchiang/local/anaconda3/envs/ml2023_hw5/lib/python3.7/site-packages (from importlib-metadata>=3.6->nbconvert->jupyter) (3.15.0)\n",
            "Requirement already satisfied: parso<0.9.0,>=0.8.0 in /home/frankchiang/local/anaconda3/envs/ml2023_hw5/lib/python3.7/site-packages (from jedi>=0.16->ipython>=6.1.0->ipywidgets) (0.8.3)\n",
            "Requirement already satisfied: python-dateutil>=2.8.2 in /home/frankchiang/local/anaconda3/envs/ml2023_hw5/lib/python3.7/site-packages (from jupyter-client>=6.1.12->ipykernel->jupyter) (2.8.2)\n",
            "Requirement already satisfied: entrypoints in /home/frankchiang/local/anaconda3/envs/ml2023_hw5/lib/python3.7/site-packages (from jupyter-client>=6.1.12->ipykernel->jupyter) (0.4)\n",
            "Collecting jupyter-server>=1.8\n",
            "  Downloading jupyter_server-1.23.6-py3-none-any.whl (347 kB)\n",
            "\u001b[2K     \u001b[90m━━━━━━━━━━━━━━━━━━━━━━━━━━━━━━━━━━━━━━━\u001b[0m \u001b[32m347.4/347.4 kB\u001b[0m \u001b[31m3.1 MB/s\u001b[0m eta \u001b[36m0:00:00\u001b[0ma \u001b[36m0:00:01\u001b[0m\n",
            "\u001b[?25hCollecting notebook-shim>=0.1.0\n",
            "  Downloading notebook_shim-0.2.2-py3-none-any.whl (13 kB)\n",
            "Collecting jsonschema>=2.6\n",
            "  Downloading jsonschema-4.17.3-py3-none-any.whl (90 kB)\n",
            "\u001b[2K     \u001b[90m━━━━━━━━━━━━━━━━━━━━━━━━━━━━━━━━━━━━━━━━\u001b[0m \u001b[32m90.4/90.4 kB\u001b[0m \u001b[31m3.1 MB/s\u001b[0m eta \u001b[36m0:00:00\u001b[0m\n",
            "\u001b[?25hCollecting fastjsonschema\n",
            "  Downloading fastjsonschema-2.16.3-py3-none-any.whl (23 kB)\n",
            "Requirement already satisfied: ptyprocess>=0.5 in /home/frankchiang/local/anaconda3/envs/ml2023_hw5/lib/python3.7/site-packages (from pexpect>4.3->ipython>=6.1.0->ipywidgets) (0.7.0)\n",
            "Requirement already satisfied: wcwidth in /home/frankchiang/local/anaconda3/envs/ml2023_hw5/lib/python3.7/site-packages (from prompt-toolkit!=3.0.0,!=3.0.1,<3.1.0,>=2.0.0->ipython>=6.1.0->ipywidgets) (0.2.6)\n",
            "Collecting argon2-cffi-bindings\n",
            "  Downloading argon2_cffi_bindings-21.2.0-cp36-abi3-manylinux_2_17_x86_64.manylinux2014_x86_64.whl (86 kB)\n",
            "\u001b[2K     \u001b[90m━━━━━━━━━━━━━━━━━━━━━━━━━━━━━━━━━━━━━━━━\u001b[0m \u001b[32m86.2/86.2 kB\u001b[0m \u001b[31m7.8 MB/s\u001b[0m eta \u001b[36m0:00:00\u001b[0m\n",
            "\u001b[?25hRequirement already satisfied: soupsieve>1.2 in /home/frankchiang/local/anaconda3/envs/ml2023_hw5/lib/python3.7/site-packages (from beautifulsoup4->nbconvert->jupyter) (2.4)\n",
            "Collecting webencodings\n",
            "  Downloading webencodings-0.5.1-py2.py3-none-any.whl (11 kB)\n",
            "Requirement already satisfied: six>=1.9.0 in /home/frankchiang/local/anaconda3/envs/ml2023_hw5/lib/python3.7/site-packages (from bleach->nbconvert->jupyter) (1.16.0)\n",
            "Collecting pkgutil-resolve-name>=1.3.10\n",
            "  Downloading pkgutil_resolve_name-1.3.10-py3-none-any.whl (4.7 kB)\n",
            "Collecting importlib-resources>=1.4.0\n",
            "  Using cached importlib_resources-5.12.0-py3-none-any.whl (36 kB)\n",
            "Collecting pyrsistent!=0.17.0,!=0.17.1,!=0.17.2,>=0.14.0\n",
            "  Downloading pyrsistent-0.19.3-py3-none-any.whl (57 kB)\n",
            "\u001b[2K     \u001b[90m━━━━━━━━━━━━━━━━━━━━━━━━━━━━━━━━━━━━━━━━\u001b[0m \u001b[32m57.5/57.5 kB\u001b[0m \u001b[31m1.2 MB/s\u001b[0m eta \u001b[36m0:00:00\u001b[0mta \u001b[36m0:00:01\u001b[0m\n",
            "\u001b[?25hCollecting attrs>=17.4.0\n",
            "  Using cached attrs-22.2.0-py3-none-any.whl (60 kB)\n",
            "Collecting anyio<4,>=3.1.0\n",
            "  Downloading anyio-3.6.2-py3-none-any.whl (80 kB)\n",
            "\u001b[2K     \u001b[90m━━━━━━━━━━━━━━━━━━━━━━━━━━━━━━━━━━━━━━━\u001b[0m \u001b[32m80.6/80.6 kB\u001b[0m \u001b[31m601.2 kB/s\u001b[0m eta \u001b[36m0:00:00\u001b[0ma \u001b[36m0:00:01\u001b[0m\n",
            "\u001b[?25hCollecting websocket-client\n",
            "  Downloading websocket_client-1.5.1-py3-none-any.whl (55 kB)\n",
            "\u001b[2K     \u001b[90m━━━━━━━━━━━━━━━━━━━━━━━━━━━━━━━━━━━━━━━\u001b[0m \u001b[32m55.9/55.9 kB\u001b[0m \u001b[31m389.9 kB/s\u001b[0m eta \u001b[36m0:00:00\u001b[0ma \u001b[36m0:00:01\u001b[0m\n",
            "\u001b[?25hCollecting cffi>=1.0.1\n",
            "  Downloading cffi-1.15.1-cp37-cp37m-manylinux_2_17_x86_64.manylinux2014_x86_64.whl (427 kB)\n",
            "\u001b[2K     \u001b[90m━━━━━━━━━━━━━━━━━━━━━━━━━━━━━━━━━━━━━━\u001b[0m \u001b[32m427.9/427.9 kB\u001b[0m \u001b[31m11.1 MB/s\u001b[0m eta \u001b[36m0:00:00\u001b[0m00:01\u001b[0m\n",
            "\u001b[?25hRequirement already satisfied: idna>=2.8 in /home/frankchiang/local/anaconda3/envs/ml2023_hw5/lib/python3.7/site-packages (from anyio<4,>=3.1.0->jupyter-server>=1.8->nbclassic>=0.4.7->notebook->jupyter) (3.4)\n",
            "Collecting sniffio>=1.1\n",
            "  Downloading sniffio-1.3.0-py3-none-any.whl (10 kB)\n",
            "Collecting pycparser\n",
            "  Downloading pycparser-2.21-py2.py3-none-any.whl (118 kB)\n",
            "\u001b[2K     \u001b[90m━━━━━━━━━━━━━━━━━━━━━━━━━━━━━━━━━━━━━━━\u001b[0m \u001b[32m118.7/118.7 kB\u001b[0m \u001b[31m9.3 MB/s\u001b[0m eta \u001b[36m0:00:00\u001b[0m\n",
            "\u001b[?25hInstalling collected packages: webencodings, Send2Trash, mistune, ipython-genutils, fastjsonschema, websocket-client, tinycss2, terminado, sniffio, qtpy, pyrsistent, pycparser, prometheus-client, pkgutil-resolve-name, pandocfilters, jupyterlab-pygments, jinja2, importlib-resources, defusedxml, bleach, attrs, jsonschema, cffi, anyio, nbformat, argon2-cffi-bindings, qtconsole, nbclient, jupyter-console, argon2-cffi, nbconvert, jupyter-server, notebook-shim, nbclassic, notebook, jupyter\n",
            "Successfully installed Send2Trash-1.8.0 anyio-3.6.2 argon2-cffi-21.3.0 argon2-cffi-bindings-21.2.0 attrs-22.2.0 bleach-6.0.0 cffi-1.15.1 defusedxml-0.7.1 fastjsonschema-2.16.3 importlib-resources-5.12.0 ipython-genutils-0.2.0 jinja2-3.1.2 jsonschema-4.17.3 jupyter-1.0.0 jupyter-console-6.6.3 jupyter-server-1.23.6 jupyterlab-pygments-0.2.2 mistune-2.0.5 nbclassic-0.5.5 nbclient-0.7.3 nbconvert-7.3.0 nbformat-5.8.0 notebook-6.5.4 notebook-shim-0.2.2 pandocfilters-1.5.0 pkgutil-resolve-name-1.3.10 prometheus-client-0.16.0 pycparser-2.21 pyrsistent-0.19.3 qtconsole-5.4.2 qtpy-2.3.1 sniffio-1.3.0 terminado-0.17.1 tinycss2-1.2.1 webencodings-0.5.1 websocket-client-1.5.1\n"
          ]
        }
      ],
      "source": [
        "!pip install 'torch>=1.6.0' editdistance matplotlib sacrebleu sacremoses sentencepiece tqdm wandb\n",
        "!pip install --upgrade jupyter ipywidgets"
      ]
    },
    {
      "cell_type": "code",
      "execution_count": 3,
      "metadata": {
        "id": "fSksMTdmp-Wt"
      },
      "outputs": [
        {
          "name": "stdout",
          "output_type": "stream",
          "text": [
            "Cloning into 'fairseq'...\n",
            "remote: Enumerating objects: 34540, done.\u001b[K\n",
            "remote: Counting objects: 100% (6/6), done.\u001b[K\n",
            "remote: Compressing objects: 100% (6/6), done.\u001b[K\n",
            "remote: Total 34540 (delta 0), reused 3 (delta 0), pack-reused 34534\u001b[K\n",
            "Receiving objects: 100% (34540/34540), 24.06 MiB | 7.70 MiB/s, done.\n",
            "Resolving deltas: 100% (25109/25109), done.\n",
            "Updating files: 100% (1575/1575), done.\n",
            "Note: switching to '9a1c497'.\n",
            "\n",
            "You are in 'detached HEAD' state. You can look around, make experimental\n",
            "changes and commit them, and you can discard any commits you make in this\n",
            "state without impacting any branches by switching back to a branch.\n",
            "\n",
            "If you want to create a new branch to retain commits you create, you may\n",
            "do so (now or later) by using -c with the switch command. Example:\n",
            "\n",
            "  git switch -c <new-branch-name>\n",
            "\n",
            "Or undo this operation with:\n",
            "\n",
            "  git switch -\n",
            "\n",
            "Turn off this advice by setting config variable advice.detachedHead to false\n",
            "\n",
            "HEAD is now at 9a1c4970 Make Hydra logging work with DDP (#1568)\n",
            "Processing ./fairseq\n",
            "  Installing build dependencies ... \u001b[?25ldone\n",
            "\u001b[?25h  Getting requirements to build wheel ... \u001b[?25ldone\n",
            "\u001b[?25h  Installing backend dependencies ... \u001b[?25ldone\n",
            "\u001b[?25h  Preparing metadata (pyproject.toml) ... \u001b[?25ldone\n",
            "\u001b[?25hCollecting hydra-core<1.1\n",
            "  Downloading hydra_core-1.0.7-py3-none-any.whl (123 kB)\n",
            "\u001b[2K     \u001b[90m━━━━━━━━━━━━━━━━━━━━━━━━━━━━━━━━━━━━━\u001b[0m \u001b[32m123.8/123.8 kB\u001b[0m \u001b[31m536.1 kB/s\u001b[0m eta \u001b[36m0:00:00\u001b[0m00:01\u001b[0m00:01\u001b[0m\n",
            "\u001b[?25hRequirement already satisfied: numpy in /home/frankchiang/local/anaconda3/envs/ml2023_hw5/lib/python3.7/site-packages (from fairseq==1.0.0a0+9a1c497) (1.21.6)\n",
            "Collecting omegaconf<2.1\n",
            "  Downloading omegaconf-2.0.6-py3-none-any.whl (36 kB)\n",
            "Requirement already satisfied: sacrebleu>=1.4.12 in /home/frankchiang/local/anaconda3/envs/ml2023_hw5/lib/python3.7/site-packages (from fairseq==1.0.0a0+9a1c497) (2.3.1)\n",
            "Requirement already satisfied: torch in /home/frankchiang/local/anaconda3/envs/ml2023_hw5/lib/python3.7/site-packages (from fairseq==1.0.0a0+9a1c497) (1.13.1)\n",
            "Requirement already satisfied: tqdm in /home/frankchiang/local/anaconda3/envs/ml2023_hw5/lib/python3.7/site-packages (from fairseq==1.0.0a0+9a1c497) (4.64.1)\n",
            "Collecting cython\n",
            "  Using cached Cython-0.29.34-cp37-cp37m-manylinux_2_17_x86_64.manylinux2014_x86_64.manylinux_2_24_x86_64.whl (1.9 MB)\n",
            "Requirement already satisfied: regex in /home/frankchiang/local/anaconda3/envs/ml2023_hw5/lib/python3.7/site-packages (from fairseq==1.0.0a0+9a1c497) (2022.10.31)\n",
            "Requirement already satisfied: cffi in /home/frankchiang/local/anaconda3/envs/ml2023_hw5/lib/python3.7/site-packages (from fairseq==1.0.0a0+9a1c497) (1.15.1)\n",
            "Requirement already satisfied: importlib-resources in /home/frankchiang/local/anaconda3/envs/ml2023_hw5/lib/python3.7/site-packages (from hydra-core<1.1->fairseq==1.0.0a0+9a1c497) (5.12.0)\n",
            "Collecting antlr4-python3-runtime==4.8\n",
            "  Downloading antlr4-python3-runtime-4.8.tar.gz (112 kB)\n",
            "\u001b[2K     \u001b[90m━━━━━━━━━━━━━━━━━━━━━━━━━━━━━━━━━━━━━━━\u001b[0m \u001b[32m112.4/112.4 kB\u001b[0m \u001b[31m1.8 MB/s\u001b[0m eta \u001b[36m0:00:00\u001b[0ma \u001b[36m0:00:01\u001b[0m\n",
            "\u001b[?25h  Preparing metadata (setup.py) ... \u001b[?25ldone\n",
            "\u001b[?25hRequirement already satisfied: PyYAML>=5.1.* in /home/frankchiang/local/anaconda3/envs/ml2023_hw5/lib/python3.7/site-packages (from omegaconf<2.1->fairseq==1.0.0a0+9a1c497) (6.0)\n",
            "Requirement already satisfied: typing-extensions in /home/frankchiang/local/anaconda3/envs/ml2023_hw5/lib/python3.7/site-packages (from omegaconf<2.1->fairseq==1.0.0a0+9a1c497) (4.5.0)\n",
            "Requirement already satisfied: colorama in /home/frankchiang/local/anaconda3/envs/ml2023_hw5/lib/python3.7/site-packages (from sacrebleu>=1.4.12->fairseq==1.0.0a0+9a1c497) (0.4.6)\n",
            "Requirement already satisfied: tabulate>=0.8.9 in /home/frankchiang/local/anaconda3/envs/ml2023_hw5/lib/python3.7/site-packages (from sacrebleu>=1.4.12->fairseq==1.0.0a0+9a1c497) (0.9.0)\n",
            "Requirement already satisfied: portalocker in /home/frankchiang/local/anaconda3/envs/ml2023_hw5/lib/python3.7/site-packages (from sacrebleu>=1.4.12->fairseq==1.0.0a0+9a1c497) (2.7.0)\n",
            "Requirement already satisfied: lxml in /home/frankchiang/local/anaconda3/envs/ml2023_hw5/lib/python3.7/site-packages (from sacrebleu>=1.4.12->fairseq==1.0.0a0+9a1c497) (4.9.2)\n",
            "Requirement already satisfied: pycparser in /home/frankchiang/local/anaconda3/envs/ml2023_hw5/lib/python3.7/site-packages (from cffi->fairseq==1.0.0a0+9a1c497) (2.21)\n",
            "Requirement already satisfied: nvidia-cublas-cu11==11.10.3.66 in /home/frankchiang/local/anaconda3/envs/ml2023_hw5/lib/python3.7/site-packages (from torch->fairseq==1.0.0a0+9a1c497) (11.10.3.66)\n",
            "Requirement already satisfied: nvidia-cuda-runtime-cu11==11.7.99 in /home/frankchiang/local/anaconda3/envs/ml2023_hw5/lib/python3.7/site-packages (from torch->fairseq==1.0.0a0+9a1c497) (11.7.99)\n",
            "Requirement already satisfied: nvidia-cudnn-cu11==8.5.0.96 in /home/frankchiang/local/anaconda3/envs/ml2023_hw5/lib/python3.7/site-packages (from torch->fairseq==1.0.0a0+9a1c497) (8.5.0.96)\n",
            "Requirement already satisfied: nvidia-cuda-nvrtc-cu11==11.7.99 in /home/frankchiang/local/anaconda3/envs/ml2023_hw5/lib/python3.7/site-packages (from torch->fairseq==1.0.0a0+9a1c497) (11.7.99)\n",
            "Requirement already satisfied: setuptools in /home/frankchiang/local/anaconda3/envs/ml2023_hw5/lib/python3.7/site-packages (from nvidia-cublas-cu11==11.10.3.66->torch->fairseq==1.0.0a0+9a1c497) (65.6.3)\n",
            "Requirement already satisfied: wheel in /home/frankchiang/local/anaconda3/envs/ml2023_hw5/lib/python3.7/site-packages (from nvidia-cublas-cu11==11.10.3.66->torch->fairseq==1.0.0a0+9a1c497) (0.38.4)\n",
            "Requirement already satisfied: zipp>=3.1.0 in /home/frankchiang/local/anaconda3/envs/ml2023_hw5/lib/python3.7/site-packages (from importlib-resources->hydra-core<1.1->fairseq==1.0.0a0+9a1c497) (3.15.0)\n",
            "Building wheels for collected packages: fairseq, antlr4-python3-runtime\n",
            "  Building wheel for fairseq (pyproject.toml) ... \u001b[?25ldone\n",
            "\u001b[?25h  Created wheel for fairseq: filename=fairseq-1.0.0a0+9a1c497-cp37-cp37m-linux_x86_64.whl size=1949117 sha256=953c09879b6fa8c6fecdf925c596b846b4275b6a0f24c7d0c0ea2c86952a672c\n",
            "  Stored in directory: /tmp/pip-ephem-wheel-cache-0zgywchj/wheels/6a/e6/56/1fac162912d44270b00e72599b2e0c8f1c89baae16598a1dea\n",
            "  Building wheel for antlr4-python3-runtime (setup.py) ... \u001b[?25ldone\n",
            "\u001b[?25h  Created wheel for antlr4-python3-runtime: filename=antlr4_python3_runtime-4.8-py3-none-any.whl size=141211 sha256=2f9f88da508ade8034983a598d54893bc89ec29bf52ce22d133262266d549151\n",
            "  Stored in directory: /home/frankchiang/.cache/pip/wheels/c9/ef/75/1b8c6588a8a8a15d5a9136608a9d65172a226577e7ae89da31\n",
            "Successfully built fairseq antlr4-python3-runtime\n",
            "Installing collected packages: antlr4-python3-runtime, omegaconf, cython, hydra-core, fairseq\n",
            "Successfully installed antlr4-python3-runtime-4.8 cython-0.29.34 fairseq-1.0.0a0+9a1c497 hydra-core-1.0.7 omegaconf-2.0.6\n"
          ]
        }
      ],
      "source": [
        "!git clone https://github.com/pytorch/fairseq.git\n",
        "!cd fairseq && git checkout 9a1c497\n",
        "!pip install --upgrade ./fairseq/"
      ]
    },
    {
      "cell_type": "code",
      "execution_count": 1,
      "metadata": {
        "id": "uRLTiuIuqGNc"
      },
      "outputs": [],
      "source": [
        "import sys\n",
        "import pdb\n",
        "import pprint\n",
        "import logging\n",
        "import os\n",
        "import random\n",
        "\n",
        "import torch\n",
        "import torch.nn as nn\n",
        "import torch.nn.functional as F\n",
        "from torch.utils import data\n",
        "import numpy as np\n",
        "import tqdm.auto as tqdm\n",
        "from pathlib import Path\n",
        "from argparse import Namespace\n",
        "from fairseq import utils\n",
        "\n",
        "import matplotlib.pyplot as plt"
      ]
    },
    {
      "cell_type": "markdown",
      "metadata": {
        "id": "0n07Za1XqJzA"
      },
      "source": [
        "# Fix random seed"
      ]
    },
    {
      "cell_type": "code",
      "execution_count": 2,
      "metadata": {
        "id": "xllxxyWxqI7s"
      },
      "outputs": [],
      "source": [
        "seed = 14515123\n",
        "random.seed(seed)\n",
        "torch.manual_seed(seed)\n",
        "if torch.cuda.is_available():\n",
        "    torch.cuda.manual_seed(seed)\n",
        "    torch.cuda.manual_seed_all(seed)  \n",
        "np.random.seed(seed)  \n",
        "torch.backends.cudnn.benchmark = False\n",
        "torch.backends.cudnn.deterministic = True"
      ]
    },
    {
      "cell_type": "markdown",
      "metadata": {
        "id": "N5ORDJ-2qdYw"
      },
      "source": [
        "# Dataset\n",
        "\n",
        "## En-Zh Bilingual Parallel Corpus\n",
        "* TED2020\n",
        "    - Raw: 400,726 (sentences)   \n",
        "    - Processed: 394,052 (sentences)\n",
        "    \n",
        "\n",
        "## Testdata\n",
        "- Size: 4,000 (sentences)\n",
        "- **Chinese translation is undisclosed. The provided (.zh) file is psuedo translation, each line is a '。'**"
      ]
    },
    {
      "cell_type": "markdown",
      "metadata": {
        "id": "GQw2mY4Dqkzd"
      },
      "source": [
        "## Dataset Download"
      ]
    },
    {
      "cell_type": "code",
      "execution_count": 3,
      "metadata": {
        "id": "SXT42xQtqijD"
      },
      "outputs": [
        {
          "name": "stdout",
          "output_type": "stream",
          "text": [
            "raw.en\n",
            "raw.zh\n",
            "test.en\n",
            "test.zh\n"
          ]
        }
      ],
      "source": [
        "data_dir = './DATA/rawdata'\n",
        "dataset_name = 'ted2020'\n",
        "urls = (\n",
        "    \"https://github.com/figisiwirf/ml2023-hw5-dataset/releases/download/v1.0.1/ml2023.hw5.data.tgz\",\n",
        "    \"https://github.com/figisiwirf/ml2023-hw5-dataset/releases/download/v1.0.1/ml2023.hw5.test.tgz\"\n",
        ")\n",
        "file_names = (\n",
        "    'ted2020.tgz', # train & dev\n",
        "    'test.tgz', # test\n",
        ")\n",
        "prefix = Path(data_dir).absolute() / dataset_name\n",
        "\n",
        "prefix.mkdir(parents=True, exist_ok=True)\n",
        "for u, f in zip(urls, file_names):\n",
        "    path = prefix/f\n",
        "    if not path.exists():\n",
        "        !wget {u} -O {path}\n",
        "    if path.suffix == \".tgz\":\n",
        "        !tar -xvf {path} -C {prefix}\n",
        "    elif path.suffix == \".zip\":\n",
        "        !unzip -o {path} -d {prefix}\n",
        "!mv {prefix/'raw.en'} {prefix/'train_dev.raw.en'}\n",
        "!mv {prefix/'raw.zh'} {prefix/'train_dev.raw.zh'}\n",
        "!mv {prefix/'test.en'} {prefix/'test.raw.en'}\n",
        "!mv {prefix/'test.zh'} {prefix/'test.raw.zh'}"
      ]
    },
    {
      "cell_type": "markdown",
      "metadata": {
        "id": "YLkJwNiFrIwZ"
      },
      "source": [
        "## Language"
      ]
    },
    {
      "cell_type": "code",
      "execution_count": 4,
      "metadata": {
        "id": "_uJYkCncrKJb"
      },
      "outputs": [],
      "source": [
        "src_lang = 'en'\n",
        "tgt_lang = 'zh'\n",
        "\n",
        "data_prefix = f'{prefix}/train_dev.raw'\n",
        "test_prefix = f'{prefix}/test.raw'"
      ]
    },
    {
      "cell_type": "code",
      "execution_count": 5,
      "metadata": {
        "id": "0t2CPt1brOT3"
      },
      "outputs": [
        {
          "name": "stdout",
          "output_type": "stream",
          "text": [
            "Thank you so much, Chris.\n",
            "And it's truly a great honor to have the opportunity to come to this stage twice; I'm extremely grateful.\n",
            "I have been blown away by this conference, and I want to thank all of you for the many nice comments about what I had to say the other night.\n",
            "And I say that sincerely, partly because I need that.\n",
            "Put yourselves in my position.\n",
            "非常謝謝你，克里斯。能有這個機會第二度踏上這個演講台\n",
            "真是一大榮幸。我非常感激。\n",
            "這個研討會給我留下了極為深刻的印象，我想感謝大家 對我之前演講的好評。\n",
            "我是由衷的想這麼說，有部份原因是因為 —— 我真的有需要!\n",
            "請你們設身處地為我想一想！\n"
          ]
        }
      ],
      "source": [
        "!head {data_prefix+'.'+src_lang} -n 5\n",
        "!head {data_prefix+'.'+tgt_lang} -n 5"
      ]
    },
    {
      "cell_type": "markdown",
      "metadata": {
        "id": "pRoE9UK7r1gY"
      },
      "source": [
        "## Preprocess files"
      ]
    },
    {
      "cell_type": "code",
      "execution_count": 6,
      "metadata": {
        "id": "3tzFwtnFrle3"
      },
      "outputs": [],
      "source": [
        "import re\n",
        "\n",
        "def strQ2B(ustring):\n",
        "    \"\"\"Full width -> half width\"\"\"\n",
        "    # reference:https://ithelp.ithome.com.tw/articles/10233122\n",
        "    ss = []\n",
        "    for s in ustring:\n",
        "        rstring = \"\"\n",
        "        for uchar in s:\n",
        "            inside_code = ord(uchar)\n",
        "            if inside_code == 12288:  # Full width space: direct conversion\n",
        "                inside_code = 32\n",
        "            elif (inside_code >= 65281 and inside_code <= 65374):  # Full width chars (except space) conversion\n",
        "                inside_code -= 65248\n",
        "            rstring += chr(inside_code)\n",
        "        ss.append(rstring)\n",
        "    return ''.join(ss)\n",
        "                \n",
        "def clean_s(s, lang):\n",
        "    if lang == 'en':\n",
        "        s = re.sub(r\"\\([^()]*\\)\", \"\", s) # remove ([text])\n",
        "        s = s.replace('-', '') # remove '-'\n",
        "        s = re.sub('([.,;!?()\\\"])', r' \\1 ', s) # keep punctuation\n",
        "    elif lang == 'zh':\n",
        "        s = strQ2B(s) # Q2B\n",
        "        s = re.sub(r\"\\([^()]*\\)\", \"\", s) # remove ([text])\n",
        "        s = s.replace(' ', '')\n",
        "        s = s.replace('—', '')\n",
        "        s = s.replace('“', '\"')\n",
        "        s = s.replace('”', '\"')\n",
        "        s = s.replace('_', '')\n",
        "        s = re.sub('([。,;!?()\\\"~「」])', r' \\1 ', s) # keep punctuation\n",
        "    s = ' '.join(s.strip().split())\n",
        "    return s\n",
        "\n",
        "def len_s(s, lang):\n",
        "    if lang == 'zh':\n",
        "        return len(s)\n",
        "    return len(s.split())\n",
        "\n",
        "def clean_corpus(prefix, l1, l2, ratio=9, max_len=1000, min_len=1):\n",
        "    if Path(f'{prefix}.clean.{l1}').exists() and Path(f'{prefix}.clean.{l2}').exists():\n",
        "        print(f'{prefix}.clean.{l1} & {l2} exists. skipping clean.')\n",
        "        return\n",
        "    with open(f'{prefix}.{l1}', 'r') as l1_in_f:\n",
        "        with open(f'{prefix}.{l2}', 'r') as l2_in_f:\n",
        "            with open(f'{prefix}.clean.{l1}', 'w') as l1_out_f:\n",
        "                with open(f'{prefix}.clean.{l2}', 'w') as l2_out_f:\n",
        "                    for s1 in l1_in_f:\n",
        "                        s1 = s1.strip()\n",
        "                        s2 = l2_in_f.readline().strip()\n",
        "                        s1 = clean_s(s1, l1)\n",
        "                        s2 = clean_s(s2, l2)\n",
        "                        s1_len = len_s(s1, l1)\n",
        "                        s2_len = len_s(s2, l2)\n",
        "                        if min_len > 0: # remove short sentence\n",
        "                            if s1_len < min_len or s2_len < min_len:\n",
        "                                continue\n",
        "                        if max_len > 0: # remove long sentence\n",
        "                            if s1_len > max_len or s2_len > max_len:\n",
        "                                continue\n",
        "                        if ratio > 0: # remove by ratio of length\n",
        "                            if s1_len/s2_len > ratio or s2_len/s1_len > ratio:\n",
        "                                continue\n",
        "                        print(s1, file=l1_out_f)\n",
        "                        print(s2, file=l2_out_f)"
      ]
    },
    {
      "cell_type": "code",
      "execution_count": 7,
      "metadata": {
        "id": "h_i8b1PRr9Nf"
      },
      "outputs": [
        {
          "name": "stdout",
          "output_type": "stream",
          "text": [
            "/home/frankchiang/cource/ml/hw5/DATA/rawdata/ted2020/train_dev.raw.clean.en & zh exists. skipping clean.\n",
            "/home/frankchiang/cource/ml/hw5/DATA/rawdata/ted2020/test.raw.clean.en & zh exists. skipping clean.\n"
          ]
        }
      ],
      "source": [
        "clean_corpus(data_prefix, src_lang, tgt_lang)\n",
        "clean_corpus(test_prefix, src_lang, tgt_lang, ratio=-1, min_len=-1, max_len=-1)"
      ]
    },
    {
      "cell_type": "code",
      "execution_count": 8,
      "metadata": {
        "id": "gjT3XCy9r_rj"
      },
      "outputs": [
        {
          "name": "stdout",
          "output_type": "stream",
          "text": [
            "Thank you so much , Chris .\n",
            "And it's truly a great honor to have the opportunity to come to this stage twice ; I'm extremely grateful .\n",
            "I have been blown away by this conference , and I want to thank all of you for the many nice comments about what I had to say the other night .\n",
            "And I say that sincerely , partly because I need that .\n",
            "Put yourselves in my position .\n",
            "非常謝謝你 , 克里斯 。 能有這個機會第二度踏上這個演講台\n",
            "真是一大榮幸 。 我非常感激 。\n",
            "這個研討會給我留下了極為深刻的印象 , 我想感謝大家對我之前演講的好評 。\n",
            "我是由衷的想這麼說 , 有部份原因是因為我真的有需要 !\n",
            "請你們設身處地為我想一想 !\n"
          ]
        }
      ],
      "source": [
        "!head {data_prefix+'.clean.'+src_lang} -n 5\n",
        "!head {data_prefix+'.clean.'+tgt_lang} -n 5"
      ]
    },
    {
      "cell_type": "markdown",
      "metadata": {
        "id": "nKb4u67-sT_Z"
      },
      "source": [
        "## Split into train/valid"
      ]
    },
    {
      "cell_type": "code",
      "execution_count": 9,
      "metadata": {
        "id": "AuFKeDz3sGHL"
      },
      "outputs": [],
      "source": [
        "valid_ratio = 0.01 # 3000~4000 would suffice\n",
        "train_ratio = 1 - valid_ratio"
      ]
    },
    {
      "cell_type": "code",
      "execution_count": 10,
      "metadata": {
        "id": "QR2NVldqsXyY"
      },
      "outputs": [
        {
          "name": "stdout",
          "output_type": "stream",
          "text": [
            "train/valid splits exists. skipping split.\n"
          ]
        }
      ],
      "source": [
        "if (prefix/f'train.clean.{src_lang}').exists() \\\n",
        "and (prefix/f'train.clean.{tgt_lang}').exists() \\\n",
        "and (prefix/f'valid.clean.{src_lang}').exists() \\\n",
        "and (prefix/f'valid.clean.{tgt_lang}').exists():\n",
        "    print(f'train/valid splits exists. skipping split.')\n",
        "else:\n",
        "    line_num = sum(1 for line in open(f'{data_prefix}.clean.{src_lang}'))\n",
        "    labels = list(range(line_num))\n",
        "    random.shuffle(labels)\n",
        "    for lang in [src_lang, tgt_lang]:\n",
        "        train_f = open(os.path.join(data_dir, dataset_name, f'train.clean.{lang}'), 'w')\n",
        "        valid_f = open(os.path.join(data_dir, dataset_name, f'valid.clean.{lang}'), 'w')\n",
        "        count = 0\n",
        "        for line in open(f'{data_prefix}.clean.{lang}', 'r'):\n",
        "            if labels[count]/line_num < train_ratio:\n",
        "                train_f.write(line)\n",
        "            else:\n",
        "                valid_f.write(line)\n",
        "            count += 1\n",
        "        train_f.close()\n",
        "        valid_f.close()"
      ]
    },
    {
      "cell_type": "markdown",
      "metadata": {
        "id": "n1rwQysTsdJq"
      },
      "source": [
        "## Subword Units \n",
        "Out of vocabulary (OOV) has been a major problem in machine translation. This can be alleviated by using subword units.\n",
        "- We will use the [sentencepiece](#kudo-richardson-2018-sentencepiece) package\n",
        "- select 'unigram' or 'byte-pair encoding (BPE)' algorithm"
      ]
    },
    {
      "cell_type": "code",
      "execution_count": 11,
      "metadata": {
        "id": "Ecwllsa7sZRA"
      },
      "outputs": [
        {
          "name": "stdout",
          "output_type": "stream",
          "text": [
            "/home/frankchiang/cource/ml/hw5/DATA/rawdata/ted2020/spm8000.model exists. skipping spm_train.\n"
          ]
        }
      ],
      "source": [
        "import sentencepiece as spm\n",
        "vocab_size = 8000\n",
        "if (prefix/f'spm{vocab_size}.model').exists():\n",
        "    print(f'{prefix}/spm{vocab_size}.model exists. skipping spm_train.')\n",
        "else:\n",
        "    spm.SentencePieceTrainer.train(\n",
        "        input=','.join([f'{prefix}/train.clean.{src_lang}',\n",
        "                        f'{prefix}/valid.clean.{src_lang}',\n",
        "                        f'{prefix}/train.clean.{tgt_lang}',\n",
        "                        f'{prefix}/valid.clean.{tgt_lang}']),\n",
        "        model_prefix=prefix/f'spm{vocab_size}',\n",
        "        vocab_size=vocab_size,\n",
        "        character_coverage=1,\n",
        "        model_type='unigram', # 'bpe' works as well\n",
        "        input_sentence_size=1e6,\n",
        "        shuffle_input_sentence=True,\n",
        "        normalization_rule_name='nmt_nfkc_cf',\n",
        "    )"
      ]
    },
    {
      "cell_type": "code",
      "execution_count": 12,
      "metadata": {
        "id": "lQPRNldqse_V"
      },
      "outputs": [
        {
          "name": "stdout",
          "output_type": "stream",
          "text": [
            "/home/frankchiang/cource/ml/hw5/DATA/rawdata/ted2020/train.en exists. skipping spm_encode.\n",
            "/home/frankchiang/cource/ml/hw5/DATA/rawdata/ted2020/train.zh exists. skipping spm_encode.\n",
            "/home/frankchiang/cource/ml/hw5/DATA/rawdata/ted2020/valid.en exists. skipping spm_encode.\n",
            "/home/frankchiang/cource/ml/hw5/DATA/rawdata/ted2020/valid.zh exists. skipping spm_encode.\n"
          ]
        }
      ],
      "source": [
        "spm_model = spm.SentencePieceProcessor(model_file=str(prefix/f'spm{vocab_size}.model'))\n",
        "in_tag = {\n",
        "    'train': 'train.clean',\n",
        "    'valid': 'valid.clean',\n",
        "    'test': 'test.raw.clean',\n",
        "}\n",
        "for split in ['train', 'valid', 'test']:\n",
        "    for lang in [src_lang, tgt_lang]:\n",
        "        out_path = prefix/f'{split}.{lang}'\n",
        "        if out_path.exists():\n",
        "            print(f\"{out_path} exists. skipping spm_encode.\")\n",
        "        else:\n",
        "            with open(prefix/f'{split}.{lang}', 'w') as out_f:\n",
        "                with open(prefix/f'{in_tag[split]}.{lang}', 'r') as in_f:\n",
        "                    for line in in_f:\n",
        "                        line = line.strip()\n",
        "                        tok = spm_model.encode(line, out_type=str)\n",
        "                        print(' '.join(tok), file=out_f)"
      ]
    },
    {
      "cell_type": "code",
      "execution_count": 13,
      "metadata": {
        "id": "4j6lXHjAsjXa"
      },
      "outputs": [
        {
          "name": "stdout",
          "output_type": "stream",
          "text": [
            "▁thank ▁you ▁so ▁much ▁, ▁chris ▁.\n",
            "▁and ▁it ' s ▁tr u ly ▁a ▁great ▁ho n or ▁to ▁have ▁the ▁ op port un ity ▁to ▁come ▁to ▁this ▁st age ▁ t wi ce ▁; ▁i ' m ▁ex t re me ly ▁gr ate ful ▁.\n",
            "▁i ▁have ▁been ▁ bl own ▁away ▁by ▁this ▁con fer ence ▁, ▁and ▁i ▁want ▁to ▁thank ▁all ▁of ▁you ▁for ▁the ▁many ▁ ni ce ▁ com ment s ▁about ▁what ▁i ▁had ▁to ▁say ▁the ▁other ▁night ▁.\n",
            "▁and ▁i ▁say ▁that ▁since re ly ▁, ▁part ly ▁because ▁i ▁need ▁that ▁.\n",
            "▁put ▁your s el ve s ▁in ▁my ▁po s ition ▁.\n",
            "▁ 非常 謝 謝 你 ▁, ▁ 克 里 斯 ▁。 ▁ 能 有 這個 機會 第二 度 踏 上 這個 演講 台\n",
            "▁ 真 是 一 大 榮 幸 ▁。 ▁我 非常 感 激 ▁。\n",
            "▁這個 研 討 會 給我 留 下 了 極 為 深 刻 的 印 象 ▁, ▁我想 感 謝 大家 對我 之前 演講 的 好 評 ▁。\n",
            "▁我 是由 衷 的 想 這麼 說 ▁, ▁有 部份 原因 是因為 我 真的 有 需要 ▁!\n",
            "▁ 請 你們 設 身 處 地 為 我想 一 想 ▁!\n"
          ]
        }
      ],
      "source": [
        "!head {data_dir+'/'+dataset_name+'/train.'+src_lang} -n 5\n",
        "!head {data_dir+'/'+dataset_name+'/train.'+tgt_lang} -n 5"
      ]
    },
    {
      "cell_type": "markdown",
      "metadata": {
        "id": "59si_C0Wsms7"
      },
      "source": [
        "## Binarize the data with fairseq\n",
        "Prepare the files in pairs for both the source and target languages. \\\\\n",
        "In case a pair is unavailable, generate a pseudo pair to facilitate binarization."
      ]
    },
    {
      "cell_type": "code",
      "execution_count": 14,
      "metadata": {
        "id": "w-cHVLSpsknh"
      },
      "outputs": [
        {
          "name": "stdout",
          "output_type": "stream",
          "text": [
            "DATA/data-bin/ted2020 exists, will not overwrite!\n"
          ]
        }
      ],
      "source": [
        "binpath = Path('./DATA/data-bin', dataset_name)\n",
        "if binpath.exists():\n",
        "    print(binpath, \"exists, will not overwrite!\")\n",
        "else:\n",
        "    !python -m fairseq_cli.preprocess \\\n",
        "        --source-lang {src_lang}\\\n",
        "        --target-lang {tgt_lang}\\\n",
        "        --trainpref {prefix/'train'}\\\n",
        "        --validpref {prefix/'valid'}\\\n",
        "        --testpref {prefix/'test'}\\\n",
        "        --destdir {binpath}\\\n",
        "        --joined-dictionary\\\n",
        "        --workers 2"
      ]
    },
    {
      "cell_type": "markdown",
      "metadata": {
        "id": "szMuH1SWLPWA"
      },
      "source": [
        "# Configuration for experiments"
      ]
    },
    {
      "cell_type": "code",
      "execution_count": 15,
      "metadata": {
        "id": "5Luz3_tVLUxs"
      },
      "outputs": [],
      "source": [
        "config = Namespace(\n",
        "    datadir = \"./DATA/data-bin/ted2020\",\n",
        "    savedir = \"./checkpoints/rnn\",\n",
        "    source_lang = src_lang,\n",
        "    target_lang = tgt_lang,\n",
        "    \n",
        "    # cpu threads when fetching & processing data.\n",
        "    num_workers=64, #num_workers=2,  \n",
        "    # batch size in terms of tokens. gradient accumulation increases the effective batchsize.\n",
        "    max_tokens=256,\n",
        "    accum_steps=4, #accum_steps=2,\n",
        "    \n",
        "    # the lr s calculated from Noam lr scheduler. you can tune the maximum lr by this factor.\n",
        "    lr_factor=1.5, #lr_factor=2.,\n",
        "    lr_warmup=12000, #lr_warmup=4000,\n",
        "    \n",
        "    # clipping gradient norm helps alleviate gradient exploding\n",
        "    clip_norm=1.0, #clip_norm=1.0,\n",
        "    \n",
        "    # maximum epochs for training\n",
        "    max_epoch=150000, #max_epoch=15,\n",
        "    start_epoch=1,\n",
        "    early_stop=40, ##\n",
        "    \n",
        "    # beam size for beam search\n",
        "    beam=16, #beam=5, \n",
        "    # generate sequences of maximum length ax + b, where x is the source length\n",
        "    max_len_a=1.5, #max_len_a=1.2, \n",
        "    max_len_b=10, \n",
        "    # when decoding, post process sentence by removing sentencepiece symbols and jieba tokenization.\n",
        "    post_process = \"sentencepiece\",\n",
        "    \n",
        "    # checkpoints\n",
        "    keep_last_epochs=5,\n",
        "    resume=None, # if resume from checkpoint name (under config.savedir)\n",
        "    \n",
        "    # logging\n",
        "    use_wandb=False,\n",
        ")"
      ]
    },
    {
      "cell_type": "markdown",
      "metadata": {
        "id": "cjrJFvyQLg86"
      },
      "source": [
        "# Logging\n",
        "- logging package logs ordinary messages\n",
        "- wandb logs the loss, bleu, etc. in the training process"
      ]
    },
    {
      "cell_type": "code",
      "execution_count": 16,
      "metadata": {
        "id": "-ZiMyDWALbDk"
      },
      "outputs": [],
      "source": [
        "logging.basicConfig(\n",
        "    format=\"%(asctime)s | %(levelname)s | %(name)s | %(message)s\",\n",
        "    datefmt=\"%Y-%m-%d %H:%M:%S\",\n",
        "    level=\"INFO\", # \"DEBUG\" \"WARNING\" \"ERROR\"\n",
        "    stream=sys.stdout,\n",
        ")\n",
        "proj = \"hw5.seq2seq\"\n",
        "logger = logging.getLogger(proj)\n",
        "if config.use_wandb:\n",
        "    import wandb\n",
        "    wandb.init(project=proj, name=Path(config.savedir).stem, config=config)"
      ]
    },
    {
      "cell_type": "markdown",
      "metadata": {
        "id": "BNoSkK45Lmqc"
      },
      "source": [
        "# CUDA Environments"
      ]
    },
    {
      "cell_type": "code",
      "execution_count": 17,
      "metadata": {
        "id": "oqrsbmcoLqMl"
      },
      "outputs": [
        {
          "name": "stdout",
          "output_type": "stream",
          "text": [
            "2023-04-13 05:06:02 | INFO | fairseq.utils | ***********************CUDA enviroments for all 1 workers***********************\n",
            "2023-04-13 05:06:02 | INFO | fairseq.utils | rank   0: capabilities =  8.6  ; total memory = 23.696 GB ; name = NVIDIA GeForce RTX 3090                 \n",
            "2023-04-13 05:06:02 | INFO | fairseq.utils | ***********************CUDA enviroments for all 1 workers***********************\n"
          ]
        }
      ],
      "source": [
        "cuda_env = utils.CudaEnvironment()\n",
        "utils.CudaEnvironment.pretty_print_cuda_env_list([cuda_env])\n",
        "device = torch.device('cuda:0' if torch.cuda.is_available() else 'cpu')"
      ]
    },
    {
      "cell_type": "markdown",
      "metadata": {
        "id": "TbJuBIHLLt2D"
      },
      "source": [
        "# Dataloading"
      ]
    },
    {
      "cell_type": "markdown",
      "metadata": {
        "id": "oOpG4EBRLwe_"
      },
      "source": [
        "## We borrow the TranslationTask from fairseq\n",
        "* used to load the binarized data created above\n",
        "* well-implemented data iterator (dataloader)\n",
        "* built-in task.source_dictionary and task.target_dictionary are also handy\n",
        "* well-implemented beach search decoder"
      ]
    },
    {
      "cell_type": "code",
      "execution_count": 18,
      "metadata": {
        "id": "3gSEy1uFLvVs"
      },
      "outputs": [
        {
          "name": "stdout",
          "output_type": "stream",
          "text": [
            "2023-04-13 05:06:03 | INFO | fairseq.tasks.translation | [en] dictionary: 7992 types\n",
            "2023-04-13 05:06:03 | INFO | fairseq.tasks.translation | [zh] dictionary: 7992 types\n"
          ]
        }
      ],
      "source": [
        "from fairseq.tasks.translation import TranslationConfig, TranslationTask\n",
        "\n",
        "## setup task\n",
        "task_cfg = TranslationConfig(\n",
        "    data=config.datadir,\n",
        "    source_lang=config.source_lang,\n",
        "    target_lang=config.target_lang,\n",
        "    train_subset=\"train\",\n",
        "    required_seq_len_multiple=8,\n",
        "    dataset_impl=\"mmap\",\n",
        "    upsample_primary=1,\n",
        ")\n",
        "task = TranslationTask.setup_task(task_cfg)"
      ]
    },
    {
      "cell_type": "code",
      "execution_count": 19,
      "metadata": {
        "id": "mR7Bhov7L4IU"
      },
      "outputs": [
        {
          "name": "stdout",
          "output_type": "stream",
          "text": [
            "2023-04-13 05:06:03 | INFO | hw5.seq2seq | loading data for epoch 1\n",
            "2023-04-13 05:06:03 | INFO | fairseq.data.data_utils | loaded 390,112 examples from: ./DATA/data-bin/ted2020/train.en-zh.en\n",
            "2023-04-13 05:06:03 | INFO | fairseq.data.data_utils | loaded 390,112 examples from: ./DATA/data-bin/ted2020/train.en-zh.zh\n",
            "2023-04-13 05:06:03 | INFO | fairseq.tasks.translation | ./DATA/data-bin/ted2020 train en-zh 390112 examples\n",
            "2023-04-13 05:06:03 | INFO | fairseq.data.data_utils | loaded 3,940 examples from: ./DATA/data-bin/ted2020/valid.en-zh.en\n",
            "2023-04-13 05:06:03 | INFO | fairseq.data.data_utils | loaded 3,940 examples from: ./DATA/data-bin/ted2020/valid.en-zh.zh\n",
            "2023-04-13 05:06:03 | INFO | fairseq.tasks.translation | ./DATA/data-bin/ted2020 valid en-zh 3940 examples\n"
          ]
        }
      ],
      "source": [
        "logger.info(\"loading data for epoch 1\")\n",
        "task.load_dataset(split=\"train\", epoch=1, combine=True) # combine if you have back-translation data.\n",
        "task.load_dataset(split=\"valid\", epoch=1)"
      ]
    },
    {
      "cell_type": "code",
      "execution_count": 20,
      "metadata": {
        "id": "P0BCEm_9L6ig"
      },
      "outputs": [
        {
          "name": "stdout",
          "output_type": "stream",
          "text": [
            "{'id': 1,\n",
            " 'source': tensor([  24,   63,    5,   90, 1323,  143,  140,  184,  281,   37,    8,   81,\n",
            "         254,   11,   80,   55,   12,  376,   20,  155,   60, 1007,   98,  587,\n",
            "          76,  256,    6,   98, 1465,    7,    2]),\n",
            " 'target': tensor([ 162,  116, 3756,  364,  158, 3055, 2925,    9, 2547,    4,  596,  123,\n",
            "        1518,  455,  667,   64,  406,  566,   74, 1908, 3790,  191,   10,    2])}\n",
            "('Source: you can throw out crazy theories and not have to back it up with '\n",
            " 'data or graphs or research .')\n",
            "'Target: 你能拋開這些瘋狂的理論 , 不用數據圖表、或研究來支撐它 。'\n"
          ]
        }
      ],
      "source": [
        "sample = task.dataset(\"valid\")[1]\n",
        "pprint.pprint(sample)\n",
        "pprint.pprint(\n",
        "    \"Source: \" + \\\n",
        "    task.source_dictionary.string(\n",
        "        sample['source'],\n",
        "        config.post_process,\n",
        "    )\n",
        ")\n",
        "pprint.pprint(\n",
        "    \"Target: \" + \\\n",
        "    task.target_dictionary.string(\n",
        "        sample['target'],\n",
        "        config.post_process,\n",
        "    )\n",
        ")"
      ]
    },
    {
      "cell_type": "markdown",
      "metadata": {
        "id": "UcfCVa2FMBSE"
      },
      "source": [
        "# Dataset iterator"
      ]
    },
    {
      "cell_type": "markdown",
      "metadata": {
        "id": "yBvc-B_6MKZM"
      },
      "source": [
        "* Controls every batch to contain no more than N tokens, which optimizes GPU memory efficiency\n",
        "* Shuffles the training set for every epoch\n",
        "* Ignore sentences exceeding maximum length\n",
        "* Pad all sentences in a batch to the same length, which enables parallel computing by GPU\n",
        "* Add eos and shift one token\n",
        "    - teacher forcing: to train the model to predict the next token based on prefix, we feed the right shifted target sequence as the decoder input.\n",
        "    - generally, prepending bos to the target would do the job (as shown below)\n",
        "![seq2seq](https://i.imgur.com/0zeDyuI.png)\n",
        "    - in fairseq however, this is done by moving the eos token to the begining. Empirically, this has the same effect. For instance:\n",
        "    ```\n",
        "    # output target (target) and Decoder input (prev_output_tokens): \n",
        "                   eos = 2\n",
        "                target = 419,  711,  238,  888,  792,   60,  968,    8,    2\n",
        "    prev_output_tokens = 2,  419,  711,  238,  888,  792,   60,  968,    8\n",
        "    ```\n",
        "\n"
      ]
    },
    {
      "cell_type": "code",
      "execution_count": 21,
      "metadata": {
        "id": "OWFJFmCnMDXW"
      },
      "outputs": [
        {
          "name": "stdout",
          "output_type": "stream",
          "text": [
            "2023-04-13 05:06:04 | WARNING | fairseq.tasks.fairseq_task | 2,494 samples have invalid sizes and will be skipped, max_positions=(20, 20), first few sample ids=[1856, 2936, 3373, 3863, 918, 3540, 1246, 1791, 1790, 3250]\n"
          ]
        },
        {
          "data": {
            "text/plain": [
              "{'id': tensor([2593]),\n",
              " 'nsentences': 1,\n",
              " 'ntokens': 11,\n",
              " 'net_input': {'src_tokens': tensor([[   1,    1,    1,    1,    1,    1,   20,   14,    6,    8,  421,   16,\n",
              "             24,   18,  833,   38,    6,    4,  227,    4,   39, 2272,    7,    2]]),\n",
              "  'src_lengths': tensor([18]),\n",
              "  'prev_output_tokens': tensor([[   2,  142,  372,   29,  120,   65, 3050,    9, 3496, 1252,   10,    1,\n",
              "              1,    1,    1,    1]])},\n",
              " 'target': tensor([[ 142,  372,   29,  120,   65, 3050,    9, 3496, 1252,   10,    2,    1,\n",
              "             1,    1,    1,    1]])}"
            ]
          },
          "execution_count": 21,
          "metadata": {},
          "output_type": "execute_result"
        }
      ],
      "source": [
        "def load_data_iterator(task, split, epoch=1, max_tokens=4000, num_workers=1, cached=True):\n",
        "    batch_iterator = task.get_batch_iterator(\n",
        "        dataset=task.dataset(split),\n",
        "        max_tokens=max_tokens,\n",
        "        max_sentences=None,\n",
        "        max_positions=utils.resolve_max_positions(\n",
        "            task.max_positions(),\n",
        "            max_tokens,\n",
        "        ),\n",
        "        ignore_invalid_inputs=True,\n",
        "        seed=seed,\n",
        "        num_workers=num_workers,\n",
        "        epoch=epoch,\n",
        "        disable_iterator_cache=not cached,\n",
        "        # Set this to False to speed up. However, if set to False, changing max_tokens beyond \n",
        "        # first call of this method has no effect. \n",
        "    )\n",
        "    return batch_iterator\n",
        "\n",
        "demo_epoch_obj = load_data_iterator(task, \"valid\", epoch=1, max_tokens=20, num_workers=1, cached=False)\n",
        "demo_iter = demo_epoch_obj.next_epoch_itr(shuffle=True)\n",
        "sample = next(demo_iter)\n",
        "sample"
      ]
    },
    {
      "cell_type": "markdown",
      "metadata": {
        "id": "p86K-0g7Me4M"
      },
      "source": [
        "* each batch is a python dict, with string key and Tensor value. Contents are described below:\n",
        "```python\n",
        "batch = {\n",
        "    \"id\": id, # id for each example \n",
        "    \"nsentences\": len(samples), # batch size (sentences)\n",
        "    \"ntokens\": ntokens, # batch size (tokens)\n",
        "    \"net_input\": {\n",
        "        \"src_tokens\": src_tokens, # sequence in source language\n",
        "        \"src_lengths\": src_lengths, # sequence length of each example before padding\n",
        "        \"prev_output_tokens\": prev_output_tokens, # right shifted target, as mentioned above.\n",
        "    },\n",
        "    \"target\": target, # target sequence\n",
        "}\n",
        "```"
      ]
    },
    {
      "cell_type": "markdown",
      "metadata": {
        "id": "9EyDBE5ZMkFZ"
      },
      "source": [
        "# Model Architecture\n",
        "* We again inherit fairseq's encoder, decoder and model, so that in the testing phase we can directly leverage fairseq's beam search decoder."
      ]
    },
    {
      "cell_type": "code",
      "execution_count": 22,
      "metadata": {
        "id": "Hzh74qLIMfW_"
      },
      "outputs": [],
      "source": [
        "from fairseq.models import (\n",
        "    FairseqEncoder, \n",
        "    FairseqIncrementalDecoder,\n",
        "    FairseqEncoderDecoderModel\n",
        ")"
      ]
    },
    {
      "cell_type": "markdown",
      "metadata": {
        "id": "OI46v1z7MotH"
      },
      "source": [
        "# Encoder"
      ]
    },
    {
      "cell_type": "markdown",
      "metadata": {
        "id": "Wn0wSeLLMrbc"
      },
      "source": [
        "- The Encoder is a RNN or Transformer Encoder. The following description is for RNN. For every input token, Encoder will generate a output vector and a hidden states vector, and the hidden states vector is passed on to the next step. In other words, the Encoder sequentially reads in the input sequence, and outputs a single vector at each timestep, then finally outputs the final hidden states, or content vector, at the last timestep.\n",
        "- Parameters:\n",
        "  - *args*\n",
        "      - encoder_embed_dim: the dimension of embeddings, this compresses the one-hot vector into fixed dimensions, which achieves dimension reduction\n",
        "      - encoder_ffn_embed_dim is the dimension of hidden states and output vectors\n",
        "      - encoder_layers is the number of layers for Encoder RNN\n",
        "      - dropout determines the probability of a neuron's activation being set to 0, in order to prevent overfitting. Generally this is applied in training, and removed in testing.\n",
        "  - *dictionary*: the dictionary provided by fairseq. it's used to obtain the padding index, and in turn the encoder padding mask. \n",
        "  - *embed_tokens*: an instance of token embeddings (nn.Embedding)\n",
        "\n",
        "- Inputs: \n",
        "    - *src_tokens*: integer sequence representing english e.g. 1, 28, 29, 205, 2 \n",
        "- Outputs: \n",
        "    - *outputs*: the output of RNN at each timestep, can be furthur processed by Attention\n",
        "    - *final_hiddens*: the hidden states of each timestep, will be passed to decoder for decoding\n",
        "    - *encoder_padding_mask*: this tells the decoder which position to ignore\n"
      ]
    },
    {
      "cell_type": "code",
      "execution_count": 23,
      "metadata": {
        "id": "WcX3W4iGMq-S"
      },
      "outputs": [],
      "source": [
        "class RNNEncoder(FairseqEncoder):\n",
        "    def __init__(self, args, dictionary, embed_tokens):\n",
        "        super().__init__(dictionary)\n",
        "        self.embed_tokens = embed_tokens\n",
        "        \n",
        "        self.embed_dim = args.encoder_embed_dim\n",
        "        self.hidden_dim = args.encoder_ffn_embed_dim\n",
        "        self.num_layers = args.encoder_layers\n",
        "        \n",
        "        self.dropout_in_module = nn.Dropout(args.dropout)\n",
        "        self.rnn = nn.GRU(\n",
        "            self.embed_dim, \n",
        "            self.hidden_dim, \n",
        "            self.num_layers, \n",
        "            dropout=args.dropout, \n",
        "            batch_first=False, \n",
        "            bidirectional=True\n",
        "        )\n",
        "        self.dropout_out_module = nn.Dropout(args.dropout)\n",
        "        \n",
        "        self.padding_idx = dictionary.pad()\n",
        "        \n",
        "    def combine_bidir(self, outs, bsz: int):\n",
        "        out = outs.view(self.num_layers, 2, bsz, -1).transpose(1, 2).contiguous()\n",
        "        return out.view(self.num_layers, bsz, -1)\n",
        "\n",
        "    def forward(self, src_tokens, **unused):\n",
        "        bsz, seqlen = src_tokens.size()\n",
        "        \n",
        "        # get embeddings\n",
        "        x = self.embed_tokens(src_tokens)\n",
        "        x = self.dropout_in_module(x)\n",
        "\n",
        "        # B x T x C -> T x B x C\n",
        "        x = x.transpose(0, 1)\n",
        "        \n",
        "        # pass thru bidirectional RNN\n",
        "        h0 = x.new_zeros(2 * self.num_layers, bsz, self.hidden_dim)\n",
        "        x, final_hiddens = self.rnn(x, h0)\n",
        "        outputs = self.dropout_out_module(x)\n",
        "        # outputs = [sequence len, batch size, hid dim * directions]\n",
        "        # hidden =  [num_layers * directions, batch size  , hid dim]\n",
        "        \n",
        "        # Since Encoder is bidirectional, we need to concatenate the hidden states of two directions\n",
        "        final_hiddens = self.combine_bidir(final_hiddens, bsz)\n",
        "        # hidden =  [num_layers x batch x num_directions*hidden]\n",
        "        \n",
        "        encoder_padding_mask = src_tokens.eq(self.padding_idx).t()\n",
        "        return tuple(\n",
        "            (\n",
        "                outputs,  # seq_len x batch x hidden\n",
        "                final_hiddens,  # num_layers x batch x num_directions*hidden\n",
        "                encoder_padding_mask,  # seq_len x batch\n",
        "            )\n",
        "        )\n",
        "    \n",
        "    def reorder_encoder_out(self, encoder_out, new_order):\n",
        "        # This is used by fairseq's beam search. How and why is not particularly important here.\n",
        "        return tuple(\n",
        "            (\n",
        "                encoder_out[0].index_select(1, new_order),\n",
        "                encoder_out[1].index_select(1, new_order),\n",
        "                encoder_out[2].index_select(1, new_order),\n",
        "            )\n",
        "        )"
      ]
    },
    {
      "cell_type": "markdown",
      "metadata": {
        "id": "6ZlE_1JnMv56"
      },
      "source": [
        "## Attention"
      ]
    },
    {
      "cell_type": "markdown",
      "metadata": {
        "id": "ZSFSKt_ZMzgh"
      },
      "source": [
        "- When the input sequence is long, \"content vector\" alone cannot accurately represent the whole sequence, attention mechanism can provide the Decoder more information.\n",
        "- According to the **Decoder embeddings** of the current timestep, match the **Encoder outputs** with decoder embeddings to determine correlation, and then sum the Encoder outputs weighted by the correlation as the input to **Decoder** RNN.\n",
        "- Common attention implementations use neural network / dot product as the correlation between **query** (decoder embeddings) and **key** (Encoder outputs), followed by **softmax**  to obtain a distribution, and finally **values** (Encoder outputs) is **weighted sum**-ed by said distribution.\n",
        "\n",
        "- Parameters:\n",
        "  - *input_embed_dim*: dimensionality of key, should be that of the vector in decoder to attend others\n",
        "  - *source_embed_dim*: dimensionality of query, should be that of the vector to be attended to (encoder outputs)\n",
        "  - *output_embed_dim*: dimensionality of value, should be that of the vector after attention, expected by the next layer\n",
        "\n",
        "- Inputs: \n",
        "    - *inputs*: is the key, the vector to attend to others\n",
        "    - *encoder_outputs*:  is the query/value, the vector to be attended to\n",
        "    - *encoder_padding_mask*: this tells the decoder which position to ignore\n",
        "- Outputs: \n",
        "    - *output*: the context vector after attention\n",
        "    - *attention score*: the attention distribution\n"
      ]
    },
    {
      "cell_type": "code",
      "execution_count": 24,
      "metadata": {
        "id": "1Atf_YuCMyyF"
      },
      "outputs": [],
      "source": [
        "class AttentionLayer(nn.Module):\n",
        "    def __init__(self, input_embed_dim, source_embed_dim, output_embed_dim, bias=False):\n",
        "        super().__init__()\n",
        "\n",
        "        self.input_proj = nn.Linear(input_embed_dim, source_embed_dim, bias=bias)\n",
        "        self.output_proj = nn.Linear(\n",
        "            input_embed_dim + source_embed_dim, output_embed_dim, bias=bias\n",
        "        )\n",
        "\n",
        "    def forward(self, inputs, encoder_outputs, encoder_padding_mask):\n",
        "        # inputs: T, B, dim\n",
        "        # encoder_outputs: S x B x dim\n",
        "        # padding mask:  S x B\n",
        "        \n",
        "        # convert all to batch first\n",
        "        inputs = inputs.transpose(1,0) # B, T, dim\n",
        "        encoder_outputs = encoder_outputs.transpose(1,0) # B, S, dim\n",
        "        encoder_padding_mask = encoder_padding_mask.transpose(1,0) # B, S\n",
        "        \n",
        "        # project to the dimensionality of encoder_outputs\n",
        "        x = self.input_proj(inputs)\n",
        "\n",
        "        # compute attention\n",
        "        # (B, T, dim) x (B, dim, S) = (B, T, S)\n",
        "        attn_scores = torch.bmm(x, encoder_outputs.transpose(1,2))\n",
        "\n",
        "        # cancel the attention at positions corresponding to padding\n",
        "        if encoder_padding_mask is not None:\n",
        "            # leveraging broadcast  B, S -> (B, 1, S)\n",
        "            encoder_padding_mask = encoder_padding_mask.unsqueeze(1)\n",
        "            attn_scores = (\n",
        "                attn_scores.float()\n",
        "                .masked_fill_(encoder_padding_mask, float(\"-inf\"))\n",
        "                .type_as(attn_scores)\n",
        "            )  # FP16 support: cast to float and back\n",
        "\n",
        "        # softmax on the dimension corresponding to source sequence\n",
        "        attn_scores = F.softmax(attn_scores, dim=-1)\n",
        "\n",
        "        # shape (B, T, S) x (B, S, dim) = (B, T, dim) weighted sum\n",
        "        x = torch.bmm(attn_scores, encoder_outputs)\n",
        "\n",
        "        # (B, T, dim)\n",
        "        x = torch.cat((x, inputs), dim=-1)\n",
        "        x = torch.tanh(self.output_proj(x)) # concat + linear + tanh\n",
        "        \n",
        "        # restore shape (B, T, dim) -> (T, B, dim)\n",
        "        return x.transpose(1,0), attn_scores"
      ]
    },
    {
      "cell_type": "markdown",
      "metadata": {
        "id": "doSCOA2gM7fK"
      },
      "source": [
        "# Decoder"
      ]
    },
    {
      "cell_type": "markdown",
      "metadata": {
        "id": "2M8Vod2gNABR"
      },
      "source": [
        "* The hidden states of **Decoder** will be initialized by the final hidden states of **Encoder** (the content vector)\n",
        "* At the same time, **Decoder** will change its hidden states based on the input of the current timestep (the outputs of previous timesteps), and generates an output\n",
        "* Attention improves the performance\n",
        "* The seq2seq steps are implemented in decoder, so that later the Seq2Seq class can accept RNN and Transformer, without furthur modification.\n",
        "- Parameters:\n",
        "  - *args*\n",
        "      - decoder_embed_dim: is the dimensionality of the decoder embeddings, similar to encoder_embed_dim，\n",
        "      - decoder_ffn_embed_dim: is the dimensionality of the decoder RNN hidden states, similar to encoder_ffn_embed_dim\n",
        "      - decoder_layers: number of layers of RNN decoder\n",
        "      - share_decoder_input_output_embed: usually, the projection matrix of the decoder will share weights with the decoder input embeddings\n",
        "  - *dictionary*: the dictionary provided by fairseq\n",
        "  - *embed_tokens*: an instance of token embeddings (nn.Embedding)\n",
        "- Inputs: \n",
        "    - *prev_output_tokens*: integer sequence representing the right-shifted target e.g. 1, 28, 29, 205, 2 \n",
        "    - *encoder_out*: encoder's output.\n",
        "    - *incremental_state*: in order to speed up decoding during test time, we will save the hidden state of each timestep. see forward() for details.\n",
        "- Outputs: \n",
        "    - *outputs*: the logits (before softmax) output of decoder for each timesteps\n",
        "    - *extra*: unsused"
      ]
    },
    {
      "cell_type": "code",
      "execution_count": 25,
      "metadata": {
        "id": "QfvgqHYDM6Lp"
      },
      "outputs": [],
      "source": [
        "class RNNDecoder(FairseqIncrementalDecoder):\n",
        "    def __init__(self, args, dictionary, embed_tokens):\n",
        "        super().__init__(dictionary)\n",
        "        self.embed_tokens = embed_tokens\n",
        "        \n",
        "        assert args.decoder_layers == args.encoder_layers, f\"\"\"seq2seq rnn requires that encoder \n",
        "        and decoder have same layers of rnn. got: {args.encoder_layers, args.decoder_layers}\"\"\"\n",
        "        assert args.decoder_ffn_embed_dim == args.encoder_ffn_embed_dim*2, f\"\"\"seq2seq-rnn requires \n",
        "        that decoder hidden to be 2*encoder hidden dim. got: {args.decoder_ffn_embed_dim, args.encoder_ffn_embed_dim*2}\"\"\"\n",
        "        \n",
        "        self.embed_dim = args.decoder_embed_dim\n",
        "        self.hidden_dim = args.decoder_ffn_embed_dim\n",
        "        self.num_layers = args.decoder_layers\n",
        "        \n",
        "        \n",
        "        self.dropout_in_module = nn.Dropout(args.dropout)\n",
        "        self.rnn = nn.GRU(\n",
        "            self.embed_dim, \n",
        "            self.hidden_dim, \n",
        "            self.num_layers, \n",
        "            dropout=args.dropout, \n",
        "            batch_first=False, \n",
        "            bidirectional=False\n",
        "        )\n",
        "        self.attention = AttentionLayer(\n",
        "            self.embed_dim, self.hidden_dim, self.embed_dim, bias=False\n",
        "        ) \n",
        "        # self.attention = None\n",
        "        self.dropout_out_module = nn.Dropout(args.dropout)\n",
        "        \n",
        "        if self.hidden_dim != self.embed_dim:\n",
        "            self.project_out_dim = nn.Linear(self.hidden_dim, self.embed_dim)\n",
        "        else:\n",
        "            self.project_out_dim = None\n",
        "        \n",
        "        if args.share_decoder_input_output_embed:\n",
        "            self.output_projection = nn.Linear(\n",
        "                self.embed_tokens.weight.shape[1],\n",
        "                self.embed_tokens.weight.shape[0],\n",
        "                bias=False,\n",
        "            )\n",
        "            self.output_projection.weight = self.embed_tokens.weight\n",
        "        else:\n",
        "            self.output_projection = nn.Linear(\n",
        "                self.output_embed_dim, len(dictionary), bias=False\n",
        "            )\n",
        "            nn.init.normal_(\n",
        "                self.output_projection.weight, mean=0, std=self.output_embed_dim ** -0.5\n",
        "            )\n",
        "        \n",
        "    def forward(self, prev_output_tokens, encoder_out, incremental_state=None, **unused):\n",
        "        # extract the outputs from encoder\n",
        "        encoder_outputs, encoder_hiddens, encoder_padding_mask = encoder_out\n",
        "        # outputs:          seq_len x batch x num_directions*hidden\n",
        "        # encoder_hiddens:  num_layers x batch x num_directions*encoder_hidden\n",
        "        # padding_mask:     seq_len x batch\n",
        "        \n",
        "        if incremental_state is not None and len(incremental_state) > 0:\n",
        "            # if the information from last timestep is retained, we can continue from there instead of starting from bos\n",
        "            prev_output_tokens = prev_output_tokens[:, -1:]\n",
        "            cache_state = self.get_incremental_state(incremental_state, \"cached_state\")\n",
        "            prev_hiddens = cache_state[\"prev_hiddens\"]\n",
        "        else:\n",
        "            # incremental state does not exist, either this is training time, or the first timestep of test time\n",
        "            # prepare for seq2seq: pass the encoder_hidden to the decoder hidden states\n",
        "            prev_hiddens = encoder_hiddens\n",
        "        \n",
        "        bsz, seqlen = prev_output_tokens.size()\n",
        "        \n",
        "        # embed tokens\n",
        "        x = self.embed_tokens(prev_output_tokens)\n",
        "        x = self.dropout_in_module(x)\n",
        "\n",
        "        # B x T x C -> T x B x C\n",
        "        x = x.transpose(0, 1)\n",
        "                \n",
        "        # decoder-to-encoder attention\n",
        "        if self.attention is not None:\n",
        "            x, attn = self.attention(x, encoder_outputs, encoder_padding_mask)\n",
        "                        \n",
        "        # pass thru unidirectional RNN\n",
        "        x, final_hiddens = self.rnn(x, prev_hiddens)\n",
        "        # outputs = [sequence len, batch size, hid dim]\n",
        "        # hidden =  [num_layers * directions, batch size  , hid dim]\n",
        "        x = self.dropout_out_module(x)\n",
        "                \n",
        "        # project to embedding size (if hidden differs from embed size, and share_embedding is True, \n",
        "        # we need to do an extra projection)\n",
        "        if self.project_out_dim != None:\n",
        "            x = self.project_out_dim(x)\n",
        "        \n",
        "        # project to vocab size\n",
        "        x = self.output_projection(x)\n",
        "        \n",
        "        # T x B x C -> B x T x C\n",
        "        x = x.transpose(1, 0)\n",
        "        \n",
        "        # if incremental, record the hidden states of current timestep, which will be restored in the next timestep\n",
        "        cache_state = {\n",
        "            \"prev_hiddens\": final_hiddens,\n",
        "        }\n",
        "        self.set_incremental_state(incremental_state, \"cached_state\", cache_state)\n",
        "        \n",
        "        return x, None\n",
        "    \n",
        "    def reorder_incremental_state(\n",
        "        self,\n",
        "        incremental_state,\n",
        "        new_order,\n",
        "    ):\n",
        "        # This is used by fairseq's beam search. How and why is not particularly important here.\n",
        "        cache_state = self.get_incremental_state(incremental_state, \"cached_state\")\n",
        "        prev_hiddens = cache_state[\"prev_hiddens\"]\n",
        "        prev_hiddens = [p.index_select(0, new_order) for p in prev_hiddens]\n",
        "        cache_state = {\n",
        "            \"prev_hiddens\": torch.stack(prev_hiddens),\n",
        "        }\n",
        "        self.set_incremental_state(incremental_state, \"cached_state\", cache_state)\n",
        "        return"
      ]
    },
    {
      "cell_type": "markdown",
      "metadata": {
        "id": "UDAPmxjRNEEL"
      },
      "source": [
        "## Seq2Seq\n",
        "- Composed of **Encoder** and **Decoder**\n",
        "- Recieves inputs and pass to **Encoder** \n",
        "- Pass the outputs from **Encoder** to **Decoder**\n",
        "- **Decoder** will decode according to outputs of previous timesteps as well as **Encoder** outputs  \n",
        "- Once done decoding, return the **Decoder** outputs"
      ]
    },
    {
      "cell_type": "code",
      "execution_count": 26,
      "metadata": {
        "id": "oRwKdLa0NEU6"
      },
      "outputs": [],
      "source": [
        "class Seq2Seq(FairseqEncoderDecoderModel):\n",
        "    def __init__(self, args, encoder, decoder):\n",
        "        super().__init__(encoder, decoder)\n",
        "        self.args = args\n",
        "    \n",
        "    def forward(\n",
        "        self,\n",
        "        src_tokens,\n",
        "        src_lengths,\n",
        "        prev_output_tokens,\n",
        "        return_all_hiddens: bool = True,\n",
        "    ):\n",
        "        \"\"\"\n",
        "        Run the forward pass for an encoder-decoder model.\n",
        "        \"\"\"\n",
        "        encoder_out = self.encoder(\n",
        "            src_tokens, src_lengths=src_lengths, return_all_hiddens=return_all_hiddens\n",
        "        )\n",
        "        logits, extra = self.decoder(\n",
        "            prev_output_tokens,\n",
        "            encoder_out=encoder_out,\n",
        "            src_lengths=src_lengths,\n",
        "            return_all_hiddens=return_all_hiddens,\n",
        "        )\n",
        "        return logits, extra"
      ]
    },
    {
      "cell_type": "markdown",
      "metadata": {
        "id": "zu3C2JfqNHzk"
      },
      "source": [
        "# Model Initialization"
      ]
    },
    {
      "cell_type": "code",
      "execution_count": 27,
      "metadata": {
        "id": "nyI9FOx-NJ2m"
      },
      "outputs": [],
      "source": [
        "# # HINT: transformer architecture\n",
        "from fairseq.models.transformer import (\n",
        "    TransformerEncoder, \n",
        "    TransformerDecoder,\n",
        ")\n",
        "\n",
        "def build_model(args, task):\n",
        "    \"\"\" build a model instance based on hyperparameters \"\"\"\n",
        "    src_dict, tgt_dict = task.source_dictionary, task.target_dictionary\n",
        "\n",
        "    # token embeddings\n",
        "    encoder_embed_tokens = nn.Embedding(len(src_dict), args.encoder_embed_dim, src_dict.pad())\n",
        "    decoder_embed_tokens = nn.Embedding(len(tgt_dict), args.decoder_embed_dim, tgt_dict.pad())\n",
        "    \n",
        "    # encoder decoder\n",
        "    # HINT: TODO: switch to TransformerEncoder & TransformerDecoder\n",
        "    encoder = RNNEncoder(args, src_dict, encoder_embed_tokens)\n",
        "    decoder = RNNDecoder(args, tgt_dict, decoder_embed_tokens)\n",
        "    # encoder = TransformerEncoder(args, src_dict, encoder_embed_tokens)\n",
        "    # decoder = TransformerDecoder(args, tgt_dict, decoder_embed_tokens)\n",
        "\n",
        "    # sequence to sequence model\n",
        "    model = Seq2Seq(args, encoder, decoder)\n",
        "    \n",
        "    # initialization for seq2seq model is important, requires extra handling\n",
        "    def init_params(module):\n",
        "        from fairseq.modules import MultiheadAttention\n",
        "        if isinstance(module, nn.Linear):\n",
        "            module.weight.data.normal_(mean=0.0, std=0.02)\n",
        "            if module.bias is not None:\n",
        "                module.bias.data.zero_()\n",
        "        if isinstance(module, nn.Embedding):\n",
        "            module.weight.data.normal_(mean=0.0, std=0.02)\n",
        "            if module.padding_idx is not None:\n",
        "                module.weight.data[module.padding_idx].zero_()\n",
        "        if isinstance(module, MultiheadAttention):\n",
        "            module.q_proj.weight.data.normal_(mean=0.0, std=0.02)\n",
        "            module.k_proj.weight.data.normal_(mean=0.0, std=0.02)\n",
        "            module.v_proj.weight.data.normal_(mean=0.0, std=0.02)\n",
        "        if isinstance(module, nn.RNNBase):\n",
        "            for name, param in module.named_parameters():\n",
        "                if \"weight\" in name or \"bias\" in name:\n",
        "                    param.data.uniform_(-0.1, 0.1)\n",
        "            \n",
        "    # weight initialization\n",
        "    model.apply(init_params)\n",
        "    return model"
      ]
    },
    {
      "cell_type": "markdown",
      "metadata": {
        "id": "ce5n4eS7NQNy"
      },
      "source": [
        "## Architecture Related Configuration\n",
        "\n",
        "For strong baseline, please refer to the hyperparameters for *transformer-base* in Table 3 in [Attention is all you need](#vaswani2017)"
      ]
    },
    {
      "cell_type": "code",
      "execution_count": 28,
      "metadata": {
        "id": "Cyn30VoGNT6N"
      },
      "outputs": [],
      "source": [
        "arch_args = Namespace(\n",
        "    encoder_embed_dim=256,\n",
        "    encoder_ffn_embed_dim=512,\n",
        "    encoder_layers=1,\n",
        "    decoder_embed_dim=256,\n",
        "    decoder_ffn_embed_dim=1024,\n",
        "    decoder_layers=1,\n",
        "    share_decoder_input_output_embed=True,\n",
        "    dropout=0.3,\n",
        ")\n",
        "\n",
        "# HINT: these patches on parameters for Transformer\n",
        "def add_transformer_args(args):\n",
        "    args.encoder_attention_heads=4\n",
        "    args.encoder_normalize_before=True\n",
        "    \n",
        "    args.decoder_attention_heads=4\n",
        "    args.decoder_normalize_before=True\n",
        "    \n",
        "    args.activation_fn=\"relu\"\n",
        "    args.max_source_positions=1024\n",
        "    args.max_target_positions=1024\n",
        "    \n",
        "    \n",
        "    # patches on default parameters for Transformer (those not set above)\n",
        "    from fairseq.models.transformer import base_architecture\n",
        "    base_architecture(arch_args)\n",
        "\n",
        "# add_transformer_args(arch_args)"
      ]
    },
    {
      "cell_type": "code",
      "execution_count": 29,
      "metadata": {
        "id": "Nbb76QLCNZZZ"
      },
      "outputs": [],
      "source": [
        "if config.use_wandb:\n",
        "    wandb.config.update(vars(arch_args))"
      ]
    },
    {
      "cell_type": "code",
      "execution_count": 30,
      "metadata": {
        "id": "7ZWfxsCDNatH"
      },
      "outputs": [
        {
          "name": "stdout",
          "output_type": "stream",
          "text": [
            "2023-04-13 05:06:10 | INFO | hw5.seq2seq | Seq2Seq(\n",
            "  (encoder): RNNEncoder(\n",
            "    (embed_tokens): Embedding(7992, 256, padding_idx=1)\n",
            "    (dropout_in_module): Dropout(p=0.3, inplace=False)\n",
            "    (rnn): GRU(256, 512, dropout=0.3, bidirectional=True)\n",
            "    (dropout_out_module): Dropout(p=0.3, inplace=False)\n",
            "  )\n",
            "  (decoder): RNNDecoder(\n",
            "    (embed_tokens): Embedding(7992, 256, padding_idx=1)\n",
            "    (dropout_in_module): Dropout(p=0.3, inplace=False)\n",
            "    (rnn): GRU(256, 1024, dropout=0.3)\n",
            "    (attention): AttentionLayer(\n",
            "      (input_proj): Linear(in_features=256, out_features=1024, bias=False)\n",
            "      (output_proj): Linear(in_features=1280, out_features=256, bias=False)\n",
            "    )\n",
            "    (dropout_out_module): Dropout(p=0.3, inplace=False)\n",
            "    (project_out_dim): Linear(in_features=1024, out_features=256, bias=True)\n",
            "    (output_projection): Linear(in_features=256, out_features=7992, bias=False)\n",
            "  )\n",
            ")\n"
          ]
        },
        {
          "name": "stderr",
          "output_type": "stream",
          "text": [
            "/home/frankchiang/local/anaconda3/envs/ml2023_hw5/lib/python3.7/site-packages/torch/nn/modules/rnn.py:70: UserWarning: dropout option adds dropout after all but last recurrent layer, so non-zero dropout expects num_layers greater than 1, but got dropout=0.3 and num_layers=1\n",
            "  \"num_layers={}\".format(dropout, num_layers))\n"
          ]
        }
      ],
      "source": [
        "model = build_model(arch_args, task)\n",
        "logger.info(model)"
      ]
    },
    {
      "cell_type": "markdown",
      "metadata": {
        "id": "aHll7GRNNdqc"
      },
      "source": [
        "# Optimization"
      ]
    },
    {
      "cell_type": "markdown",
      "metadata": {
        "id": "rUB9f1WCNgMH"
      },
      "source": [
        "## Loss: Label Smoothing Regularization\n",
        "* let the model learn to generate less concentrated distribution, and prevent over-confidence\n",
        "* sometimes the ground truth may not be the only answer. thus, when calculating loss, we reserve some probability for incorrect labels\n",
        "* avoids overfitting\n",
        "\n",
        "code [source](https://fairseq.readthedocs.io/en/latest/_modules/fairseq/criterions/label_smoothed_cross_entropy.html)"
      ]
    },
    {
      "cell_type": "code",
      "execution_count": 31,
      "metadata": {
        "id": "IgspdJn0NdYF"
      },
      "outputs": [],
      "source": [
        "class LabelSmoothedCrossEntropyCriterion(nn.Module):\n",
        "    def __init__(self, smoothing, ignore_index=None, reduce=True):\n",
        "        super().__init__()\n",
        "        self.smoothing = smoothing\n",
        "        self.ignore_index = ignore_index\n",
        "        self.reduce = reduce\n",
        "    \n",
        "    def forward(self, lprobs, target):\n",
        "        if target.dim() == lprobs.dim() - 1:\n",
        "            target = target.unsqueeze(-1)\n",
        "        # nll: Negative log likelihood，the cross-entropy when target is one-hot. following line is same as F.nll_loss\n",
        "        nll_loss = -lprobs.gather(dim=-1, index=target)\n",
        "        #  reserve some probability for other labels. thus when calculating cross-entropy, \n",
        "        # equivalent to summing the log probs of all labels\n",
        "        smooth_loss = -lprobs.sum(dim=-1, keepdim=True)\n",
        "        if self.ignore_index is not None:\n",
        "            pad_mask = target.eq(self.ignore_index)\n",
        "            nll_loss.masked_fill_(pad_mask, 0.0)\n",
        "            smooth_loss.masked_fill_(pad_mask, 0.0)\n",
        "        else:\n",
        "            nll_loss = nll_loss.squeeze(-1)\n",
        "            smooth_loss = smooth_loss.squeeze(-1)\n",
        "        if self.reduce:\n",
        "            nll_loss = nll_loss.sum()\n",
        "            smooth_loss = smooth_loss.sum()\n",
        "        # when calculating cross-entropy, add the loss of other labels\n",
        "        eps_i = self.smoothing / lprobs.size(-1)\n",
        "        loss = (1.0 - self.smoothing) * nll_loss + eps_i * smooth_loss\n",
        "        return loss\n",
        "\n",
        "# generally, 0.1 is good enough\n",
        "criterion = LabelSmoothedCrossEntropyCriterion(\n",
        "    smoothing=0.1,\n",
        "    ignore_index=task.target_dictionary.pad(),\n",
        ")"
      ]
    },
    {
      "cell_type": "markdown",
      "metadata": {
        "id": "aRalDto2NkJJ"
      },
      "source": [
        "## Optimizer: Adam + lr scheduling\n",
        "Inverse square root scheduling is important to the stability when training Transformer. It's later used on RNN as well.\n",
        "Update the learning rate according to the following equation. Linearly increase the first stage, then decay proportionally to the inverse square root of timestep.\n",
        "$$lrate = d_{\\text{model}}^{-0.5}\\cdot\\min({step\\_num}^{-0.5},{step\\_num}\\cdot{warmup\\_steps}^{-1.5})$$"
      ]
    },
    {
      "cell_type": "code",
      "execution_count": 32,
      "metadata": {
        "id": "sS7tQj1ROBYm"
      },
      "outputs": [],
      "source": [
        "def get_rate(d_model, step_num, warmup_step):\n",
        "    # TODO: Change lr from constant to the equation shown above\n",
        "    #lr = 0.001\n",
        "    lr = (d_model**-0.5) * min(step_num**-0.5, step_num*(warmup_step**-1.5))\n",
        "    return lr"
      ]
    },
    {
      "cell_type": "code",
      "execution_count": 33,
      "metadata": {
        "id": "J8hoAjHPNkh3"
      },
      "outputs": [],
      "source": [
        "class NoamOpt:\n",
        "    \"Optim wrapper that implements rate.\"\n",
        "    def __init__(self, model_size, factor, warmup, optimizer):\n",
        "        self.optimizer = optimizer\n",
        "        self._step = 0\n",
        "        self.warmup = warmup\n",
        "        self.factor = factor\n",
        "        self.model_size = model_size\n",
        "        self._rate = 0\n",
        "    \n",
        "    @property\n",
        "    def param_groups(self):\n",
        "        return self.optimizer.param_groups\n",
        "        \n",
        "    def multiply_grads(self, c):\n",
        "        \"\"\"Multiplies grads by a constant *c*.\"\"\"                \n",
        "        for group in self.param_groups:\n",
        "            for p in group['params']:\n",
        "                if p.grad is not None:\n",
        "                    p.grad.data.mul_(c)\n",
        "        \n",
        "    def step(self):\n",
        "        \"Update parameters and rate\"\n",
        "        self._step += 1\n",
        "        rate = self.rate()\n",
        "        for p in self.param_groups:\n",
        "            p['lr'] = rate\n",
        "        self._rate = rate\n",
        "        self.optimizer.step()\n",
        "        \n",
        "    def rate(self, step = None):\n",
        "        \"Implement `lrate` above\"\n",
        "        if step is None:\n",
        "            step = self._step\n",
        "        return 0 if not step else self.factor * get_rate(self.model_size, step, self.warmup)"
      ]
    },
    {
      "cell_type": "markdown",
      "metadata": {
        "id": "VFJlkOMONsc6"
      },
      "source": [
        "## Scheduling Visualized"
      ]
    },
    {
      "cell_type": "code",
      "execution_count": 34,
      "metadata": {
        "id": "A135fwPCNrQs"
      },
      "outputs": [
        {
          "data": {
            "image/png": "[encoded data removed]",
            "text/plain": [
              "<Figure size 640x480 with 1 Axes>"
            ]
          },
          "metadata": {},
          "output_type": "display_data"
        }
      ],
      "source": [
        "optimizer = NoamOpt(\n",
        "    model_size=arch_args.encoder_embed_dim, \n",
        "    factor=config.lr_factor, \n",
        "    warmup=config.lr_warmup, \n",
        "    optimizer=torch.optim.AdamW(model.parameters(), lr=0, betas=(0.9, 0.98), eps=1e-9, weight_decay=0.0001))\n",
        "plt.plot(np.arange(1, 100000), [optimizer.rate(i) for i in range(1, 100000)])\n",
        "plt.legend([f\"{optimizer.model_size}:{optimizer.warmup}\"])\n",
        "None"
      ]
    },
    {
      "cell_type": "markdown",
      "metadata": {
        "id": "TOR0g-cVO5ZO"
      },
      "source": [
        "# Training Procedure"
      ]
    },
    {
      "cell_type": "markdown",
      "metadata": {
        "id": "f-0ZjbK3O8Iv"
      },
      "source": [
        "## Training"
      ]
    },
    {
      "cell_type": "code",
      "execution_count": 35,
      "metadata": {
        "id": "foal3xM1O404"
      },
      "outputs": [],
      "source": [
        "from fairseq.data import iterators\n",
        "from torch.cuda.amp import GradScaler, autocast\n",
        "\n",
        "def train_one_epoch(epoch_itr, model, task, criterion, optimizer, accum_steps=1):\n",
        "    itr = epoch_itr.next_epoch_itr(shuffle=True)\n",
        "    itr = iterators.GroupedIterator(itr, accum_steps) # gradient accumulation: update every accum_steps samples\n",
        "    \n",
        "    stats = {\"loss\": []}\n",
        "    scaler = GradScaler() # automatic mixed precision (amp) \n",
        "    \n",
        "    model.train()\n",
        "    progress = tqdm.tqdm(itr, desc=f\"train epoch {epoch_itr.epoch}\", leave=False)\n",
        "    for samples in progress:\n",
        "        model.zero_grad()\n",
        "        accum_loss = 0\n",
        "        sample_size = 0\n",
        "        # gradient accumulation: update every accum_steps samples\n",
        "        for i, sample in enumerate(samples):\n",
        "            if i == 1:\n",
        "                # emptying the CUDA cache after the first step can reduce the chance of OOM\n",
        "                torch.cuda.empty_cache()\n",
        "\n",
        "            sample = utils.move_to_cuda(sample, device=device)\n",
        "            target = sample[\"target\"]\n",
        "            sample_size_i = sample[\"ntokens\"]\n",
        "            sample_size += sample_size_i\n",
        "            \n",
        "            # mixed precision training\n",
        "            with autocast():\n",
        "                net_output = model.forward(**sample[\"net_input\"])\n",
        "                lprobs = F.log_softmax(net_output[0], -1)            \n",
        "                loss = criterion(lprobs.view(-1, lprobs.size(-1)), target.view(-1))\n",
        "                \n",
        "                # logging\n",
        "                accum_loss += loss.item()\n",
        "                # back-prop\n",
        "                scaler.scale(loss).backward()                \n",
        "        \n",
        "        scaler.unscale_(optimizer)\n",
        "        optimizer.multiply_grads(1 / (sample_size or 1.0)) # (sample_size or 1.0) handles the case of a zero gradient\n",
        "        gnorm = nn.utils.clip_grad_norm_(model.parameters(), config.clip_norm) # grad norm clipping prevents gradient exploding\n",
        "        \n",
        "        scaler.step(optimizer)\n",
        "        scaler.update()\n",
        "        \n",
        "        # logging\n",
        "        loss_print = accum_loss/sample_size\n",
        "        stats[\"loss\"].append(loss_print)\n",
        "        progress.set_postfix(loss=loss_print)\n",
        "        if config.use_wandb:\n",
        "            wandb.log({\n",
        "                \"train/loss\": loss_print,\n",
        "                \"train/grad_norm\": gnorm.item(),\n",
        "                \"train/lr\": optimizer.rate(),\n",
        "                \"train/sample_size\": sample_size,\n",
        "            })\n",
        "        \n",
        "    loss_print = np.mean(stats[\"loss\"])\n",
        "    logger.info(f\"training loss: {loss_print:.4f}\")\n",
        "    return stats"
      ]
    },
    {
      "cell_type": "markdown",
      "metadata": {
        "id": "Gt1lX3DRO_yU"
      },
      "source": [
        "## Validation & Inference\n",
        "To prevent overfitting, validation is required every epoch to validate the performance on unseen data.\n",
        "- the procedure is essensially same as training, with the addition of inference step\n",
        "- after validation we can save the model weights\n",
        "\n",
        "Validation loss alone cannot describe the actual performance of the model\n",
        "- Directly produce translation hypotheses based on current model, then calculate BLEU with the reference translation\n",
        "- We can also manually examine the hypotheses' quality\n",
        "- We use fairseq's sequence generator for beam search to generate translation hypotheses"
      ]
    },
    {
      "cell_type": "code",
      "execution_count": 36,
      "metadata": {
        "id": "2og80HYQPAKq"
      },
      "outputs": [],
      "source": [
        "# fairseq's beam search generator\n",
        "# given model and input seqeunce, produce translation hypotheses by beam search\n",
        "sequence_generator = task.build_generator([model], config)\n",
        "\n",
        "def decode(toks, dictionary):\n",
        "    # convert from Tensor to human readable sentence\n",
        "    s = dictionary.string(\n",
        "        toks.int().cpu(),\n",
        "        config.post_process,\n",
        "    )\n",
        "    return s if s else \"<unk>\"\n",
        "\n",
        "def inference_step(sample, model):\n",
        "    gen_out = sequence_generator.generate([model], sample)\n",
        "    srcs = []\n",
        "    hyps = []\n",
        "    refs = []\n",
        "    for i in range(len(gen_out)):\n",
        "        # for each sample, collect the input, hypothesis and reference, later be used to calculate BLEU\n",
        "        srcs.append(decode(\n",
        "            utils.strip_pad(sample[\"net_input\"][\"src_tokens\"][i], task.source_dictionary.pad()), \n",
        "            task.source_dictionary,\n",
        "        ))\n",
        "        hyps.append(decode(\n",
        "            gen_out[i][0][\"tokens\"], # 0 indicates using the top hypothesis in beam\n",
        "            task.target_dictionary,\n",
        "        ))\n",
        "        refs.append(decode(\n",
        "            utils.strip_pad(sample[\"target\"][i], task.target_dictionary.pad()), \n",
        "            task.target_dictionary,\n",
        "        ))\n",
        "    return srcs, hyps, refs"
      ]
    },
    {
      "cell_type": "code",
      "execution_count": 37,
      "metadata": {
        "id": "y1o7LeDkPDsd"
      },
      "outputs": [],
      "source": [
        "import shutil\n",
        "import sacrebleu\n",
        "\n",
        "def validate(model, task, criterion, log_to_wandb=True):\n",
        "    logger.info('begin validation')\n",
        "    itr = load_data_iterator(task, \"valid\", 1, config.max_tokens, config.num_workers).next_epoch_itr(shuffle=False)\n",
        "    \n",
        "    stats = {\"loss\":[], \"bleu\": 0, \"srcs\":[], \"hyps\":[], \"refs\":[]}\n",
        "    srcs = []\n",
        "    hyps = []\n",
        "    refs = []\n",
        "    \n",
        "    model.eval()\n",
        "    progress = tqdm.tqdm(itr, desc=f\"validation\", leave=False)\n",
        "    with torch.no_grad():\n",
        "        for i, sample in enumerate(progress):\n",
        "            # validation loss\n",
        "            sample = utils.move_to_cuda(sample, device=device)\n",
        "            net_output = model.forward(**sample[\"net_input\"])\n",
        "\n",
        "            lprobs = F.log_softmax(net_output[0], -1)\n",
        "            target = sample[\"target\"]\n",
        "            sample_size = sample[\"ntokens\"]\n",
        "            loss = criterion(lprobs.view(-1, lprobs.size(-1)), target.view(-1)) / sample_size\n",
        "            progress.set_postfix(valid_loss=loss.item())\n",
        "            stats[\"loss\"].append(loss)\n",
        "            \n",
        "            # do inference\n",
        "            s, h, r = inference_step(sample, model)\n",
        "            srcs.extend(s)\n",
        "            hyps.extend(h)\n",
        "            refs.extend(r)\n",
        "            \n",
        "    tok = 'zh' if task.cfg.target_lang == 'zh' else '13a'\n",
        "    stats[\"loss\"] = torch.stack(stats[\"loss\"]).mean().item()\n",
        "    stats[\"bleu\"] = sacrebleu.corpus_bleu(hyps, [refs], tokenize=tok) # 計算BLEU score\n",
        "    stats[\"srcs\"] = srcs\n",
        "    stats[\"hyps\"] = hyps\n",
        "    stats[\"refs\"] = refs\n",
        "    \n",
        "    if config.use_wandb and log_to_wandb:\n",
        "        wandb.log({\n",
        "            \"valid/loss\": stats[\"loss\"],\n",
        "            \"valid/bleu\": stats[\"bleu\"].score,\n",
        "        }, commit=False)\n",
        "    \n",
        "    showid = np.random.randint(len(hyps))\n",
        "    logger.info(\"example source: \" + srcs[showid])\n",
        "    logger.info(\"example hypothesis: \" + hyps[showid])\n",
        "    logger.info(\"example reference: \" + refs[showid])\n",
        "    \n",
        "    # show bleu results\n",
        "    logger.info(f\"validation loss:\\t{stats['loss']:.4f}\")\n",
        "    logger.info(stats[\"bleu\"].format())\n",
        "    return stats"
      ]
    },
    {
      "cell_type": "markdown",
      "metadata": {
        "id": "1sRF6nd4PGEE"
      },
      "source": [
        "# Save and Load Model Weights\n"
      ]
    },
    {
      "cell_type": "code",
      "execution_count": 38,
      "metadata": {
        "id": "edBuLlkuPGr9"
      },
      "outputs": [],
      "source": [
        "def validate_and_save(model, task, criterion, optimizer, epoch, save=True, bad_count=0):   \n",
        "    stats = validate(model, task, criterion)\n",
        "    bleu = stats['bleu']\n",
        "    loss = stats['loss']\n",
        "    if save:\n",
        "        # save epoch checkpoints\n",
        "        savedir = Path(config.savedir).absolute()\n",
        "        savedir.mkdir(parents=True, exist_ok=True)\n",
        "        \n",
        "        check = {\n",
        "            \"model\": model.state_dict(),\n",
        "            \"stats\": {\"bleu\": bleu.score, \"loss\": loss},\n",
        "            \"optim\": {\"step\": optimizer._step}\n",
        "        }\n",
        "        torch.save(check, savedir/f\"checkpoint{epoch}.pt\")\n",
        "        shutil.copy(savedir/f\"checkpoint{epoch}.pt\", savedir/f\"checkpoint_last.pt\")\n",
        "        logger.info(f\"saved epoch checkpoint: {savedir}/checkpoint{epoch}.pt\")\n",
        "    \n",
        "        # save epoch samples\n",
        "        with open(savedir/f\"samples{epoch}.{config.source_lang}-{config.target_lang}.txt\", \"w\") as f:\n",
        "            for s, h in zip(stats[\"srcs\"], stats[\"hyps\"]):\n",
        "                f.write(f\"{s}\\t{h}\\n\")\n",
        "\n",
        "        # get best valid bleu    \n",
        "        if getattr(validate_and_save, \"best_bleu\", 0) < bleu.score:\n",
        "            validate_and_save.best_bleu = bleu.score\n",
        "            torch.save(check, savedir/f\"checkpoint_best.pt\")\n",
        "            bad_count = 0\n",
        "        else:\n",
        "            bad_count += 1\n",
        "            \n",
        "        del_file = savedir / f\"checkpoint{epoch - config.keep_last_epochs}.pt\"\n",
        "        if del_file.exists():\n",
        "            del_file.unlink()\n",
        "    \n",
        "    return stats, bad_count\n",
        "\n",
        "def try_load_checkpoint(model, optimizer=None, name=None):\n",
        "    name = name if name else \"checkpoint_last.pt\"\n",
        "    checkpath = Path(config.savedir)/name\n",
        "    if checkpath.exists():\n",
        "        check = torch.load(checkpath)\n",
        "        model.load_state_dict(check[\"model\"])\n",
        "        stats = check[\"stats\"]\n",
        "        step = \"unknown\"\n",
        "        if optimizer != None:\n",
        "            optimizer._step = step = check[\"optim\"][\"step\"]\n",
        "        logger.info(f\"loaded checkpoint {checkpath}: step={step} loss={stats['loss']} bleu={stats['bleu']}\")\n",
        "    else:\n",
        "        logger.info(f\"no checkpoints found at {checkpath}!\")"
      ]
    },
    {
      "cell_type": "markdown",
      "metadata": {
        "id": "KyIFpibfPJ5u"
      },
      "source": [
        "# Main\n",
        "## Training loop"
      ]
    },
    {
      "cell_type": "code",
      "execution_count": 39,
      "metadata": {
        "id": "hu7RZbCUPKQr"
      },
      "outputs": [],
      "source": [
        "model = model.to(device=device)\n",
        "criterion = criterion.to(device=device)"
      ]
    },
    {
      "cell_type": "code",
      "execution_count": 40,
      "metadata": {
        "id": "5xxlJxU2PeAo"
      },
      "outputs": [
        {
          "name": "stdout",
          "output_type": "stream",
          "text": [
            "2023-04-13 05:06:26 | INFO | hw5.seq2seq | task: TranslationTask\n",
            "2023-04-13 05:06:26 | INFO | hw5.seq2seq | encoder: RNNEncoder\n",
            "2023-04-13 05:06:26 | INFO | hw5.seq2seq | decoder: RNNDecoder\n",
            "2023-04-13 05:06:26 | INFO | hw5.seq2seq | criterion: LabelSmoothedCrossEntropyCriterion\n",
            "2023-04-13 05:06:26 | INFO | hw5.seq2seq | optimizer: NoamOpt\n",
            "2023-04-13 05:06:26 | INFO | hw5.seq2seq | num. model params: 11,247,872 (num. trained: 11,247,872)\n",
            "2023-04-13 05:06:26 | INFO | hw5.seq2seq | max tokens per batch = 256, accumulate steps = 4\n"
          ]
        }
      ],
      "source": [
        "logger.info(\"task: {}\".format(task.__class__.__name__))\n",
        "logger.info(\"encoder: {}\".format(model.encoder.__class__.__name__))\n",
        "logger.info(\"decoder: {}\".format(model.decoder.__class__.__name__))\n",
        "logger.info(\"criterion: {}\".format(criterion.__class__.__name__))\n",
        "logger.info(\"optimizer: {}\".format(optimizer.__class__.__name__))\n",
        "logger.info(\n",
        "    \"num. model params: {:,} (num. trained: {:,})\".format(\n",
        "        sum(p.numel() for p in model.parameters()),\n",
        "        sum(p.numel() for p in model.parameters() if p.requires_grad),\n",
        "    )\n",
        ")\n",
        "logger.info(f\"max tokens per batch = {config.max_tokens}, accumulate steps = {config.accum_steps}\")"
      ]
    },
    {
      "cell_type": "code",
      "execution_count": 41,
      "metadata": {
        "id": "MSPRqpQUPfaX"
      },
      "outputs": [
        {
          "name": "stdout",
          "output_type": "stream",
          "text": [
            "2023-04-13 05:06:26 | WARNING | fairseq.tasks.fairseq_task | 99 samples have invalid sizes and will be skipped, max_positions=(256, 256), first few sample ids=[88282, 382624, 365306, 238657, 79845, 78526, 124051, 61324, 308615, 297444]\n",
            "2023-04-13 05:06:27 | INFO | hw5.seq2seq | loaded checkpoint checkpoints/rnn/checkpoint_last.pt: step=1210856 loss=3.936180830001831 bleu=18.895392817451942\n"
          ]
        },
        {
          "data": {
            "application/vnd.jupyter.widget-view+json": {
              "model_id": "83eb216c192f4d0c9703217ff9653678",
              "version_major": 2,
              "version_minor": 0
            },
            "text/plain": [
              "train epoch 1:   0%|          | 0/13271 [00:00<?, ?it/s]"
            ]
          },
          "metadata": {},
          "output_type": "display_data"
        },
        {
          "name": "stdout",
          "output_type": "stream",
          "text": [
            "2023-04-13 05:14:44 | INFO | hw5.seq2seq | training loss: 3.9209\n",
            "2023-04-13 05:14:44 | INFO | hw5.seq2seq | begin validation\n",
            "2023-04-13 05:14:44 | WARNING | fairseq.tasks.fairseq_task | 2 samples have invalid sizes and will be skipped, max_positions=(256, 256), first few sample ids=[1645, 1224]\n"
          ]
        },
        {
          "data": {
            "application/vnd.jupyter.widget-view+json": {
              "model_id": "40ca39a7629644c1ae71b2db829041d1",
              "version_major": 2,
              "version_minor": 0
            },
            "text/plain": [
              "validation:   0%|          | 0/538 [00:00<?, ?it/s]"
            ]
          },
          "metadata": {},
          "output_type": "display_data"
        },
        {
          "name": "stdout",
          "output_type": "stream",
          "text": [
            "2023-04-13 05:15:31 | INFO | hw5.seq2seq | example source: there are actually two tails .\n",
            "2023-04-13 05:15:31 | INFO | hw5.seq2seq | example hypothesis: 其實有兩個尾巴 。\n",
            "2023-04-13 05:15:31 | INFO | hw5.seq2seq | example reference: 慧尾其實有兩條 。\n",
            "2023-04-13 05:15:31 | INFO | hw5.seq2seq | validation loss:\t3.9415\n",
            "2023-04-13 05:15:31 | INFO | hw5.seq2seq | BLEU = 18.77 52.5/27.2/15.2/8.9 (BP = 0.894 ratio = 0.900 hyp_len = 98700 ref_len = 109719)\n",
            "2023-04-13 05:15:32 | INFO | hw5.seq2seq | saved epoch checkpoint: /home/frankchiang/cource/ml/hw5/checkpoints/rnn/checkpoint1.pt\n",
            "2023-04-13 05:15:32 | INFO | hw5.seq2seq | end of epoch 1\n"
          ]
        },
        {
          "data": {
            "application/vnd.jupyter.widget-view+json": {
              "model_id": "217d974cf8e540a4a2a4827ef4519211",
              "version_major": 2,
              "version_minor": 0
            },
            "text/plain": [
              "train epoch 2:   0%|          | 0/13271 [00:00<?, ?it/s]"
            ]
          },
          "metadata": {},
          "output_type": "display_data"
        },
        {
          "name": "stdout",
          "output_type": "stream",
          "text": [
            "2023-04-13 05:23:46 | INFO | hw5.seq2seq | training loss: 3.9186\n",
            "2023-04-13 05:23:46 | INFO | hw5.seq2seq | begin validation\n"
          ]
        },
        {
          "data": {
            "application/vnd.jupyter.widget-view+json": {
              "model_id": "f2f3dbeedd084ba18c0e2874f9d6f7df",
              "version_major": 2,
              "version_minor": 0
            },
            "text/plain": [
              "validation:   0%|          | 0/538 [00:00<?, ?it/s]"
            ]
          },
          "metadata": {},
          "output_type": "display_data"
        },
        {
          "name": "stdout",
          "output_type": "stream",
          "text": [
            "2023-04-13 05:24:34 | INFO | hw5.seq2seq | example source: that was the future , right ?\n",
            "2023-04-13 05:24:34 | INFO | hw5.seq2seq | example hypothesis: 這是未來 , 對吧 ?\n",
            "2023-04-13 05:24:34 | INFO | hw5.seq2seq | example reference: 但那就是未來 , 對吧 ?\n",
            "2023-04-13 05:24:34 | INFO | hw5.seq2seq | validation loss:\t3.9427\n",
            "2023-04-13 05:24:34 | INFO | hw5.seq2seq | BLEU = 18.67 51.7/26.5/14.7/8.6 (BP = 0.915 ratio = 0.919 hyp_len = 100808 ref_len = 109719)\n",
            "2023-04-13 05:24:35 | INFO | hw5.seq2seq | saved epoch checkpoint: /home/frankchiang/cource/ml/hw5/checkpoints/rnn/checkpoint2.pt\n",
            "2023-04-13 05:24:35 | INFO | hw5.seq2seq | end of epoch 2\n"
          ]
        },
        {
          "data": {
            "application/vnd.jupyter.widget-view+json": {
              "model_id": "f493ccc656fd4719b272660c189e25c4",
              "version_major": 2,
              "version_minor": 0
            },
            "text/plain": [
              "train epoch 3:   0%|          | 0/13271 [00:00<?, ?it/s]"
            ]
          },
          "metadata": {},
          "output_type": "display_data"
        },
        {
          "name": "stdout",
          "output_type": "stream",
          "text": [
            "2023-04-13 05:32:50 | INFO | hw5.seq2seq | training loss: 3.9187\n",
            "2023-04-13 05:32:50 | INFO | hw5.seq2seq | begin validation\n"
          ]
        },
        {
          "data": {
            "application/vnd.jupyter.widget-view+json": {
              "model_id": "153e2719759a441fb963cf7837ef1e27",
              "version_major": 2,
              "version_minor": 0
            },
            "text/plain": [
              "validation:   0%|          | 0/538 [00:00<?, ?it/s]"
            ]
          },
          "metadata": {},
          "output_type": "display_data"
        },
        {
          "name": "stdout",
          "output_type": "stream",
          "text": [
            "2023-04-13 05:33:38 | INFO | hw5.seq2seq | example source: uber and didi use crowdsource for driving .\n",
            "2023-04-13 05:33:38 | INFO | hw5.seq2seq | example hypothesis: uber和i使用群眾來源開車 。\n",
            "2023-04-13 05:33:38 | INFO | hw5.seq2seq | example reference: uber和didi用群眾外包做駕駛 ,\n",
            "2023-04-13 05:33:38 | INFO | hw5.seq2seq | validation loss:\t3.9400\n",
            "2023-04-13 05:33:38 | INFO | hw5.seq2seq | BLEU = 18.89 51.7/26.6/14.8/8.7 (BP = 0.922 ratio = 0.925 hyp_len = 101488 ref_len = 109719)\n",
            "2023-04-13 05:33:39 | INFO | hw5.seq2seq | saved epoch checkpoint: /home/frankchiang/cource/ml/hw5/checkpoints/rnn/checkpoint3.pt\n",
            "2023-04-13 05:33:39 | INFO | hw5.seq2seq | end of epoch 3\n"
          ]
        },
        {
          "data": {
            "application/vnd.jupyter.widget-view+json": {
              "model_id": "6e9b216669f94c2ea394e036db9ca3dd",
              "version_major": 2,
              "version_minor": 0
            },
            "text/plain": [
              "train epoch 4:   0%|          | 0/13271 [00:00<?, ?it/s]"
            ]
          },
          "metadata": {},
          "output_type": "display_data"
        },
        {
          "name": "stdout",
          "output_type": "stream",
          "text": [
            "2023-04-13 05:41:54 | INFO | hw5.seq2seq | training loss: 3.9194\n",
            "2023-04-13 05:41:54 | INFO | hw5.seq2seq | begin validation\n"
          ]
        },
        {
          "data": {
            "application/vnd.jupyter.widget-view+json": {
              "model_id": "d5b785029343436abe3764e5e9433a08",
              "version_major": 2,
              "version_minor": 0
            },
            "text/plain": [
              "validation:   0%|          | 0/538 [00:00<?, ?it/s]"
            ]
          },
          "metadata": {},
          "output_type": "display_data"
        },
        {
          "name": "stdout",
          "output_type": "stream",
          "text": [
            "2023-04-13 05:42:43 | INFO | hw5.seq2seq | example source: i know .\n",
            "2023-04-13 05:42:43 | INFO | hw5.seq2seq | example hypothesis: 我知道 。\n",
            "2023-04-13 05:42:43 | INFO | hw5.seq2seq | example reference: 我知道 。\n",
            "2023-04-13 05:42:43 | INFO | hw5.seq2seq | validation loss:\t3.9413\n",
            "2023-04-13 05:42:43 | INFO | hw5.seq2seq | BLEU = 18.90 51.9/26.8/14.9/8.7 (BP = 0.916 ratio = 0.919 hyp_len = 100824 ref_len = 109719)\n",
            "2023-04-13 05:42:44 | INFO | hw5.seq2seq | saved epoch checkpoint: /home/frankchiang/cource/ml/hw5/checkpoints/rnn/checkpoint4.pt\n",
            "2023-04-13 05:42:44 | INFO | hw5.seq2seq | end of epoch 4\n"
          ]
        },
        {
          "data": {
            "application/vnd.jupyter.widget-view+json": {
              "model_id": "aa1647647f7d47c1a4cb9721a2eee5ed",
              "version_major": 2,
              "version_minor": 0
            },
            "text/plain": [
              "train epoch 5:   0%|          | 0/13271 [00:00<?, ?it/s]"
            ]
          },
          "metadata": {},
          "output_type": "display_data"
        },
        {
          "name": "stdout",
          "output_type": "stream",
          "text": [
            "2023-04-13 05:50:58 | INFO | hw5.seq2seq | training loss: 3.9194\n",
            "2023-04-13 05:50:58 | INFO | hw5.seq2seq | begin validation\n"
          ]
        },
        {
          "data": {
            "application/vnd.jupyter.widget-view+json": {
              "model_id": "7f55eb0b805446b7bca799ee044a20f7",
              "version_major": 2,
              "version_minor": 0
            },
            "text/plain": [
              "validation:   0%|          | 0/538 [00:00<?, ?it/s]"
            ]
          },
          "metadata": {},
          "output_type": "display_data"
        },
        {
          "name": "stdout",
          "output_type": "stream",
          "text": [
            "2023-04-13 05:51:48 | INFO | hw5.seq2seq | example source: this is the house where the shooting took place .\n",
            "2023-04-13 05:51:48 | INFO | hw5.seq2seq | example hypothesis: 這是房子拍攝的房子 。\n",
            "2023-04-13 05:51:48 | INFO | hw5.seq2seq | example reference: 這是槍擊案地點的房子 。\n",
            "2023-04-13 05:51:48 | INFO | hw5.seq2seq | validation loss:\t3.9385\n",
            "2023-04-13 05:51:48 | INFO | hw5.seq2seq | BLEU = 19.01 51.2/26.3/14.7/8.6 (BP = 0.936 ratio = 0.938 hyp_len = 102897 ref_len = 109719)\n",
            "2023-04-13 05:51:49 | INFO | hw5.seq2seq | saved epoch checkpoint: /home/frankchiang/cource/ml/hw5/checkpoints/rnn/checkpoint5.pt\n",
            "2023-04-13 05:51:49 | INFO | hw5.seq2seq | end of epoch 5\n"
          ]
        },
        {
          "data": {
            "application/vnd.jupyter.widget-view+json": {
              "model_id": "45a66b9913eb43f39229cbc21c07bfad",
              "version_major": 2,
              "version_minor": 0
            },
            "text/plain": [
              "train epoch 6:   0%|          | 0/13271 [00:00<?, ?it/s]"
            ]
          },
          "metadata": {},
          "output_type": "display_data"
        },
        {
          "name": "stdout",
          "output_type": "stream",
          "text": [
            "2023-04-13 06:00:03 | INFO | hw5.seq2seq | training loss: 3.9195\n",
            "2023-04-13 06:00:03 | INFO | hw5.seq2seq | begin validation\n"
          ]
        },
        {
          "data": {
            "application/vnd.jupyter.widget-view+json": {
              "model_id": "0648b27b35634950adf159067e4fc270",
              "version_major": 2,
              "version_minor": 0
            },
            "text/plain": [
              "validation:   0%|          | 0/538 [00:00<?, ?it/s]"
            ]
          },
          "metadata": {},
          "output_type": "display_data"
        },
        {
          "name": "stdout",
          "output_type": "stream",
          "text": [
            "2023-04-13 06:00:51 | INFO | hw5.seq2seq | example source: here is the thing .\n",
            "2023-04-13 06:00:51 | INFO | hw5.seq2seq | example hypothesis: 重點是:\n",
            "2023-04-13 06:00:51 | INFO | hw5.seq2seq | example reference: 因為\n",
            "2023-04-13 06:00:51 | INFO | hw5.seq2seq | validation loss:\t3.9396\n",
            "2023-04-13 06:00:51 | INFO | hw5.seq2seq | BLEU = 18.71 52.2/26.8/14.9/8.7 (BP = 0.908 ratio = 0.912 hyp_len = 100072 ref_len = 109719)\n",
            "2023-04-13 06:00:51 | INFO | hw5.seq2seq | saved epoch checkpoint: /home/frankchiang/cource/ml/hw5/checkpoints/rnn/checkpoint6.pt\n",
            "2023-04-13 06:00:51 | INFO | hw5.seq2seq | end of epoch 6\n"
          ]
        },
        {
          "data": {
            "application/vnd.jupyter.widget-view+json": {
              "model_id": "a8ba3db894804ac1a1a68f7e0474be56",
              "version_major": 2,
              "version_minor": 0
            },
            "text/plain": [
              "train epoch 7:   0%|          | 0/13271 [00:00<?, ?it/s]"
            ]
          },
          "metadata": {},
          "output_type": "display_data"
        },
        {
          "name": "stdout",
          "output_type": "stream",
          "text": [
            "2023-04-13 06:09:07 | INFO | hw5.seq2seq | training loss: 3.9186\n",
            "2023-04-13 06:09:07 | INFO | hw5.seq2seq | begin validation\n"
          ]
        },
        {
          "data": {
            "application/vnd.jupyter.widget-view+json": {
              "model_id": "b76762dcf4ab454fab08462e2b7312ec",
              "version_major": 2,
              "version_minor": 0
            },
            "text/plain": [
              "validation:   0%|          | 0/538 [00:00<?, ?it/s]"
            ]
          },
          "metadata": {},
          "output_type": "display_data"
        },
        {
          "name": "stdout",
          "output_type": "stream",
          "text": [
            "2023-04-13 06:09:55 | INFO | hw5.seq2seq | example source: and the only way that mathematicians know how to model this structure is with crochet . it happens to be a fact .\n",
            "2023-04-13 06:09:55 | INFO | hw5.seq2seq | example hypothesis: 數學家們知道如何模擬這個結構的結構 。 它真的會發生 。\n",
            "2023-04-13 06:09:55 | INFO | hw5.seq2seq | example reference: 也是數學家認為唯一能展現此幾何的方式就是針織這是個事實\n",
            "2023-04-13 06:09:55 | INFO | hw5.seq2seq | validation loss:\t3.9387\n",
            "2023-04-13 06:09:55 | INFO | hw5.seq2seq | BLEU = 18.99 51.7/26.5/14.7/8.6 (BP = 0.931 ratio = 0.933 hyp_len = 102379 ref_len = 109719)\n",
            "2023-04-13 06:09:56 | INFO | hw5.seq2seq | saved epoch checkpoint: /home/frankchiang/cource/ml/hw5/checkpoints/rnn/checkpoint7.pt\n",
            "2023-04-13 06:09:56 | INFO | hw5.seq2seq | end of epoch 7\n"
          ]
        },
        {
          "data": {
            "application/vnd.jupyter.widget-view+json": {
              "model_id": "8fb5fd7a4f82466eabf10308e43a82d8",
              "version_major": 2,
              "version_minor": 0
            },
            "text/plain": [
              "train epoch 8:   0%|          | 0/13271 [00:00<?, ?it/s]"
            ]
          },
          "metadata": {},
          "output_type": "display_data"
        },
        {
          "name": "stdout",
          "output_type": "stream",
          "text": [
            "2023-04-13 06:18:13 | INFO | hw5.seq2seq | training loss: 3.9185\n",
            "2023-04-13 06:18:13 | INFO | hw5.seq2seq | begin validation\n"
          ]
        },
        {
          "data": {
            "application/vnd.jupyter.widget-view+json": {
              "model_id": "d5c632d567e644a89572efb410b73ad8",
              "version_major": 2,
              "version_minor": 0
            },
            "text/plain": [
              "validation:   0%|          | 0/538 [00:00<?, ?it/s]"
            ]
          },
          "metadata": {},
          "output_type": "display_data"
        },
        {
          "name": "stdout",
          "output_type": "stream",
          "text": [
            "2023-04-13 06:19:01 | INFO | hw5.seq2seq | example source: kb: where are we ? where are we ?\n",
            "2023-04-13 06:19:01 | INFO | hw5.seq2seq | example hypothesis: kb:我們在哪裡 ? 我們在哪 ?\n",
            "2023-04-13 06:19:01 | INFO | hw5.seq2seq | example reference: kb:我們在哪 ? 我們在哪 ?\n",
            "2023-04-13 06:19:01 | INFO | hw5.seq2seq | validation loss:\t3.9408\n",
            "2023-04-13 06:19:01 | INFO | hw5.seq2seq | BLEU = 19.05 52.0/26.9/15.0/8.8 (BP = 0.918 ratio = 0.922 hyp_len = 101118 ref_len = 109719)\n",
            "2023-04-13 06:19:02 | INFO | hw5.seq2seq | saved epoch checkpoint: /home/frankchiang/cource/ml/hw5/checkpoints/rnn/checkpoint8.pt\n",
            "2023-04-13 06:19:03 | INFO | hw5.seq2seq | end of epoch 8\n"
          ]
        },
        {
          "data": {
            "application/vnd.jupyter.widget-view+json": {
              "model_id": "f1d4acb590a0475faabca233b77fc2ce",
              "version_major": 2,
              "version_minor": 0
            },
            "text/plain": [
              "train epoch 9:   0%|          | 0/13271 [00:00<?, ?it/s]"
            ]
          },
          "metadata": {},
          "output_type": "display_data"
        },
        {
          "name": "stdout",
          "output_type": "stream",
          "text": [
            "2023-04-13 06:27:17 | INFO | hw5.seq2seq | training loss: 3.9195\n",
            "2023-04-13 06:27:17 | INFO | hw5.seq2seq | begin validation\n"
          ]
        },
        {
          "data": {
            "application/vnd.jupyter.widget-view+json": {
              "model_id": "c5e3fd744be14480bd8b5bed0d2e13c6",
              "version_major": 2,
              "version_minor": 0
            },
            "text/plain": [
              "validation:   0%|          | 0/538 [00:00<?, ?it/s]"
            ]
          },
          "metadata": {},
          "output_type": "display_data"
        },
        {
          "name": "stdout",
          "output_type": "stream",
          "text": [
            "2023-04-13 06:28:07 | INFO | hw5.seq2seq | example source: [without humor we are all dead] whatever one thought of that satirical magazine , however one felt about those particular cartoons , we all sensed that something fundamental was at stake , that citizens of free societies actually , citizens of any society need humor as much as the air we breathe .\n",
            "2023-04-13 06:28:07 | INFO | hw5.seq2seq | example hypothesis: 無論我們所謂的 「 無論 」 是什麼 , 對於這些特殊的漫畫 , 我們都知道 , 所有社會的幽默 , 都被認為是無所謂的 , 公民社會需要幽默的公民 , 對於那些特別的漫畫 , 我們都知道 , 所有社會需要幽默的公民 , 像是我們所謂的公民社會的需求 。\n",
            "2023-04-13 06:28:07 | INFO | hw5.seq2seq | example reference: 〔沒有幽默 , 我們都等於死了〕不論大家對那諷刺雜誌有什麼看法 , 不論大家對那些漫畫有什麼樣的感受 , 我們都能感覺到 , 有某種很根本的東西在危急關頭 , 自由社會的公民 , 甚或任何社會的公民 , 需要幽默就如同需要呼吸空氣一樣 。\n",
            "2023-04-13 06:28:07 | INFO | hw5.seq2seq | validation loss:\t3.9382\n",
            "2023-04-13 06:28:07 | INFO | hw5.seq2seq | BLEU = 19.09 50.9/26.1/14.5/8.5 (BP = 0.950 ratio = 0.952 hyp_len = 104402 ref_len = 109719)\n",
            "2023-04-13 06:28:08 | INFO | hw5.seq2seq | saved epoch checkpoint: /home/frankchiang/cource/ml/hw5/checkpoints/rnn/checkpoint9.pt\n",
            "2023-04-13 06:28:09 | INFO | hw5.seq2seq | end of epoch 9\n"
          ]
        },
        {
          "data": {
            "application/vnd.jupyter.widget-view+json": {
              "model_id": "28e80fb00a78434b8b2e3f78cde80ea2",
              "version_major": 2,
              "version_minor": 0
            },
            "text/plain": [
              "train epoch 10:   0%|          | 0/13271 [00:00<?, ?it/s]"
            ]
          },
          "metadata": {},
          "output_type": "display_data"
        },
        {
          "name": "stdout",
          "output_type": "stream",
          "text": [
            "2023-04-13 06:36:23 | INFO | hw5.seq2seq | training loss: 3.9192\n",
            "2023-04-13 06:36:23 | INFO | hw5.seq2seq | begin validation\n"
          ]
        },
        {
          "data": {
            "application/vnd.jupyter.widget-view+json": {
              "model_id": "9ddd830de9854964b49e512544846a98",
              "version_major": 2,
              "version_minor": 0
            },
            "text/plain": [
              "validation:   0%|          | 0/538 [00:00<?, ?it/s]"
            ]
          },
          "metadata": {},
          "output_type": "display_data"
        },
        {
          "name": "stdout",
          "output_type": "stream",
          "text": [
            "2023-04-13 06:37:11 | INFO | hw5.seq2seq | example source: i would change depending on the places i would go the title of the exhibition .\n",
            "2023-04-13 06:37:11 | INFO | hw5.seq2seq | example hypothesis: 我將改變取決於我所展現的展覽中 。\n",
            "2023-04-13 06:37:11 | INFO | hw5.seq2seq | example reference: 我會改變---我的創作隨著旅行的地方、畫展的主題而改變 。\n",
            "2023-04-13 06:37:11 | INFO | hw5.seq2seq | validation loss:\t3.9381\n",
            "2023-04-13 06:37:11 | INFO | hw5.seq2seq | BLEU = 18.88 52.0/26.7/14.8/8.7 (BP = 0.919 ratio = 0.922 hyp_len = 101160 ref_len = 109719)\n",
            "2023-04-13 06:37:12 | INFO | hw5.seq2seq | saved epoch checkpoint: /home/frankchiang/cource/ml/hw5/checkpoints/rnn/checkpoint10.pt\n",
            "2023-04-13 06:37:12 | INFO | hw5.seq2seq | end of epoch 10\n"
          ]
        },
        {
          "data": {
            "application/vnd.jupyter.widget-view+json": {
              "model_id": "27fa632e71c74ffd85696a542e386b72",
              "version_major": 2,
              "version_minor": 0
            },
            "text/plain": [
              "train epoch 11:   0%|          | 0/13271 [00:00<?, ?it/s]"
            ]
          },
          "metadata": {},
          "output_type": "display_data"
        },
        {
          "name": "stdout",
          "output_type": "stream",
          "text": [
            "2023-04-13 06:45:27 | INFO | hw5.seq2seq | training loss: 3.9191\n",
            "2023-04-13 06:45:27 | INFO | hw5.seq2seq | begin validation\n"
          ]
        },
        {
          "data": {
            "application/vnd.jupyter.widget-view+json": {
              "model_id": "b891c3e9c9334c54af5eddced810078e",
              "version_major": 2,
              "version_minor": 0
            },
            "text/plain": [
              "validation:   0%|          | 0/538 [00:00<?, ?it/s]"
            ]
          },
          "metadata": {},
          "output_type": "display_data"
        },
        {
          "name": "stdout",
          "output_type": "stream",
          "text": [
            "2023-04-13 06:46:15 | INFO | hw5.seq2seq | example source: and even though , through his peripheral vision , he can see that he's in this lab space , he should be able to see that he's not actually on the street , but he feels like he's there with those people .\n",
            "2023-04-13 06:46:15 | INFO | hw5.seq2seq | example hypothesis: 儘管如此 , 在這個實驗室空間裡 , 他可以看見他在這個實驗室空間裡 , 但他覺得自己和那些人一樣 。\n",
            "2023-04-13 06:46:15 | INFO | hw5.seq2seq | example reference: 然而即便藉由他的餘光他能夠看出他是在實驗室裡 , 他應該能夠看出他根本不在街上 , 但是他感覺自己好像和那些人一起在那邊一樣 ,\n",
            "2023-04-13 06:46:15 | INFO | hw5.seq2seq | validation loss:\t3.9414\n",
            "2023-04-13 06:46:15 | INFO | hw5.seq2seq | BLEU = 18.94 51.9/26.8/14.9/8.7 (BP = 0.918 ratio = 0.921 hyp_len = 101081 ref_len = 109719)\n",
            "2023-04-13 06:46:16 | INFO | hw5.seq2seq | saved epoch checkpoint: /home/frankchiang/cource/ml/hw5/checkpoints/rnn/checkpoint11.pt\n",
            "2023-04-13 06:46:16 | INFO | hw5.seq2seq | end of epoch 11\n"
          ]
        },
        {
          "data": {
            "application/vnd.jupyter.widget-view+json": {
              "model_id": "83502c9f14ee4b178d5e869fdf1a89cb",
              "version_major": 2,
              "version_minor": 0
            },
            "text/plain": [
              "train epoch 12:   0%|          | 0/13271 [00:00<?, ?it/s]"
            ]
          },
          "metadata": {},
          "output_type": "display_data"
        },
        {
          "name": "stdout",
          "output_type": "stream",
          "text": [
            "2023-04-13 06:54:32 | INFO | hw5.seq2seq | training loss: 3.9193\n",
            "2023-04-13 06:54:32 | INFO | hw5.seq2seq | begin validation\n"
          ]
        },
        {
          "data": {
            "application/vnd.jupyter.widget-view+json": {
              "model_id": "af5bb07581e745f698a659c72cbd9fd8",
              "version_major": 2,
              "version_minor": 0
            },
            "text/plain": [
              "validation:   0%|          | 0/538 [00:00<?, ?it/s]"
            ]
          },
          "metadata": {},
          "output_type": "display_data"
        },
        {
          "name": "stdout",
          "output_type": "stream",
          "text": [
            "2023-04-13 06:55:20 | INFO | hw5.seq2seq | example source: just quickly on the results .\n",
            "2023-04-13 06:55:20 | INFO | hw5.seq2seq | example hypothesis: 簡單地說明一下結果 。\n",
            "2023-04-13 06:55:20 | INFO | hw5.seq2seq | example reference: 很快說明我們的結果 。\n",
            "2023-04-13 06:55:20 | INFO | hw5.seq2seq | validation loss:\t3.9408\n",
            "2023-04-13 06:55:20 | INFO | hw5.seq2seq | BLEU = 18.89 52.4/27.2/15.2/9.0 (BP = 0.900 ratio = 0.905 hyp_len = 99300 ref_len = 109719)\n",
            "2023-04-13 06:55:21 | INFO | hw5.seq2seq | saved epoch checkpoint: /home/frankchiang/cource/ml/hw5/checkpoints/rnn/checkpoint12.pt\n",
            "2023-04-13 06:55:21 | INFO | hw5.seq2seq | end of epoch 12\n"
          ]
        },
        {
          "data": {
            "application/vnd.jupyter.widget-view+json": {
              "model_id": "1d4a088d85374b35a1e473cf1a7d50bb",
              "version_major": 2,
              "version_minor": 0
            },
            "text/plain": [
              "train epoch 13:   0%|          | 0/13271 [00:00<?, ?it/s]"
            ]
          },
          "metadata": {},
          "output_type": "display_data"
        },
        {
          "name": "stdout",
          "output_type": "stream",
          "text": [
            "2023-04-13 07:03:36 | INFO | hw5.seq2seq | training loss: 3.9197\n",
            "2023-04-13 07:03:36 | INFO | hw5.seq2seq | begin validation\n"
          ]
        },
        {
          "data": {
            "application/vnd.jupyter.widget-view+json": {
              "model_id": "2636721e625b43ae9c7a194c9a671461",
              "version_major": 2,
              "version_minor": 0
            },
            "text/plain": [
              "validation:   0%|          | 0/538 [00:00<?, ?it/s]"
            ]
          },
          "metadata": {},
          "output_type": "display_data"
        },
        {
          "name": "stdout",
          "output_type": "stream",
          "text": [
            "2023-04-13 07:04:24 | INFO | hw5.seq2seq | example source: it's called color .\n",
            "2023-04-13 07:04:24 | INFO | hw5.seq2seq | example hypothesis: 它叫做顏色 。\n",
            "2023-04-13 07:04:24 | INFO | hw5.seq2seq | example reference: 它叫做顏色 。\n",
            "2023-04-13 07:04:24 | INFO | hw5.seq2seq | validation loss:\t3.9398\n",
            "2023-04-13 07:04:24 | INFO | hw5.seq2seq | BLEU = 19.12 51.9/26.9/15.0/8.8 (BP = 0.923 ratio = 0.926 hyp_len = 101593 ref_len = 109719)\n",
            "2023-04-13 07:04:25 | INFO | hw5.seq2seq | saved epoch checkpoint: /home/frankchiang/cource/ml/hw5/checkpoints/rnn/checkpoint13.pt\n",
            "2023-04-13 07:04:26 | INFO | hw5.seq2seq | end of epoch 13\n"
          ]
        },
        {
          "data": {
            "application/vnd.jupyter.widget-view+json": {
              "model_id": "e358ed6f79cc48bab8a81929f859fae2",
              "version_major": 2,
              "version_minor": 0
            },
            "text/plain": [
              "train epoch 14:   0%|          | 0/13271 [00:00<?, ?it/s]"
            ]
          },
          "metadata": {},
          "output_type": "display_data"
        },
        {
          "name": "stdout",
          "output_type": "stream",
          "text": [
            "2023-04-13 07:12:41 | INFO | hw5.seq2seq | training loss: 3.9196\n",
            "2023-04-13 07:12:41 | INFO | hw5.seq2seq | begin validation\n"
          ]
        },
        {
          "data": {
            "application/vnd.jupyter.widget-view+json": {
              "model_id": "95f6cad095b7456dac0510f5052e95e6",
              "version_major": 2,
              "version_minor": 0
            },
            "text/plain": [
              "validation:   0%|          | 0/538 [00:00<?, ?it/s]"
            ]
          },
          "metadata": {},
          "output_type": "display_data"
        },
        {
          "name": "stdout",
          "output_type": "stream",
          "text": [
            "2023-04-13 07:13:30 | INFO | hw5.seq2seq | example source: this is a calf in captivity making an imitation of that trainer's whistle .\n",
            "2023-04-13 07:13:30 | INFO | hw5.seq2seq | example hypothesis: 這是一個微小的模仿 , 捕捉到訓練者的模仿 。\n",
            "2023-04-13 07:13:30 | INFO | hw5.seq2seq | example reference: 這是一隻人工飼養的小海豚模仿的教練的哨聲\n",
            "2023-04-13 07:13:30 | INFO | hw5.seq2seq | validation loss:\t3.9425\n",
            "2023-04-13 07:13:30 | INFO | hw5.seq2seq | BLEU = 19.04 51.4/26.4/14.7/8.6 (BP = 0.935 ratio = 0.937 hyp_len = 102791 ref_len = 109719)\n",
            "2023-04-13 07:13:30 | INFO | hw5.seq2seq | saved epoch checkpoint: /home/frankchiang/cource/ml/hw5/checkpoints/rnn/checkpoint14.pt\n",
            "2023-04-13 07:13:30 | INFO | hw5.seq2seq | end of epoch 14\n"
          ]
        },
        {
          "data": {
            "application/vnd.jupyter.widget-view+json": {
              "model_id": "5596562780134aa3a46fbbebaae275b8",
              "version_major": 2,
              "version_minor": 0
            },
            "text/plain": [
              "train epoch 15:   0%|          | 0/13271 [00:00<?, ?it/s]"
            ]
          },
          "metadata": {},
          "output_type": "display_data"
        },
        {
          "name": "stdout",
          "output_type": "stream",
          "text": [
            "2023-04-13 07:21:47 | INFO | hw5.seq2seq | training loss: 3.9192\n",
            "2023-04-13 07:21:47 | INFO | hw5.seq2seq | begin validation\n"
          ]
        },
        {
          "data": {
            "application/vnd.jupyter.widget-view+json": {
              "model_id": "0775ececfbf0439091a1b0cc141d5da1",
              "version_major": 2,
              "version_minor": 0
            },
            "text/plain": [
              "validation:   0%|          | 0/538 [00:00<?, ?it/s]"
            ]
          },
          "metadata": {},
          "output_type": "display_data"
        },
        {
          "name": "stdout",
          "output_type": "stream",
          "text": [
            "2023-04-13 07:22:34 | INFO | hw5.seq2seq | example source: so if the museum in toronto went out and collected a tyrannosaur , a big one , then the museum in ottawa wanted a bigger one , and a better one .\n",
            "2023-04-13 07:22:34 | INFO | hw5.seq2seq | example hypothesis: 所以 , 如果博物館的博物館在加拿大的博物館 , 去找更多的博物館 , 大部份的博物館 , 就會更美好 。\n",
            "2023-04-13 07:22:34 | INFO | hw5.seq2seq | example reference: 所以如果多倫多的博物館蒐集到一副暴龍的骸骨 , 大隻的暴龍那麼渥太華的博物館就想要一隻更大更好的暴龍\n",
            "2023-04-13 07:22:34 | INFO | hw5.seq2seq | validation loss:\t3.9442\n",
            "2023-04-13 07:22:34 | INFO | hw5.seq2seq | BLEU = 18.83 52.2/26.9/15.0/8.7 (BP = 0.909 ratio = 0.913 hyp_len = 100175 ref_len = 109719)\n",
            "2023-04-13 07:22:35 | INFO | hw5.seq2seq | saved epoch checkpoint: /home/frankchiang/cource/ml/hw5/checkpoints/rnn/checkpoint15.pt\n",
            "2023-04-13 07:22:35 | INFO | hw5.seq2seq | end of epoch 15\n"
          ]
        },
        {
          "data": {
            "application/vnd.jupyter.widget-view+json": {
              "model_id": "a7047939bc1e4b1c8ccb950608820057",
              "version_major": 2,
              "version_minor": 0
            },
            "text/plain": [
              "train epoch 16:   0%|          | 0/13271 [00:00<?, ?it/s]"
            ]
          },
          "metadata": {},
          "output_type": "display_data"
        },
        {
          "name": "stdout",
          "output_type": "stream",
          "text": [
            "2023-04-13 07:30:50 | INFO | hw5.seq2seq | training loss: 3.9197\n",
            "2023-04-13 07:30:50 | INFO | hw5.seq2seq | begin validation\n"
          ]
        },
        {
          "data": {
            "application/vnd.jupyter.widget-view+json": {
              "model_id": "06ee9f5d0e974548a61e92dc86f5e6ad",
              "version_major": 2,
              "version_minor": 0
            },
            "text/plain": [
              "validation:   0%|          | 0/538 [00:00<?, ?it/s]"
            ]
          },
          "metadata": {},
          "output_type": "display_data"
        },
        {
          "name": "stdout",
          "output_type": "stream",
          "text": [
            "2023-04-13 07:31:38 | INFO | hw5.seq2seq | example source: so what does that mean ?\n",
            "2023-04-13 07:31:38 | INFO | hw5.seq2seq | example hypothesis: 那是什麼意思 ?\n",
            "2023-04-13 07:31:38 | INFO | hw5.seq2seq | example reference: 這意味著什麼 ?\n",
            "2023-04-13 07:31:38 | INFO | hw5.seq2seq | validation loss:\t3.9430\n",
            "2023-04-13 07:31:38 | INFO | hw5.seq2seq | BLEU = 18.78 52.1/26.8/14.9/8.7 (BP = 0.909 ratio = 0.913 hyp_len = 100129 ref_len = 109719)\n",
            "2023-04-13 07:31:38 | INFO | hw5.seq2seq | saved epoch checkpoint: /home/frankchiang/cource/ml/hw5/checkpoints/rnn/checkpoint16.pt\n",
            "2023-04-13 07:31:38 | INFO | hw5.seq2seq | end of epoch 16\n"
          ]
        },
        {
          "data": {
            "application/vnd.jupyter.widget-view+json": {
              "model_id": "5348746fda4e4c769170e83daa40b84b",
              "version_major": 2,
              "version_minor": 0
            },
            "text/plain": [
              "train epoch 17:   0%|          | 0/13271 [00:00<?, ?it/s]"
            ]
          },
          "metadata": {},
          "output_type": "display_data"
        },
        {
          "name": "stdout",
          "output_type": "stream",
          "text": [
            "2023-04-13 07:39:52 | INFO | hw5.seq2seq | training loss: 3.9196\n",
            "2023-04-13 07:39:52 | INFO | hw5.seq2seq | begin validation\n"
          ]
        },
        {
          "data": {
            "application/vnd.jupyter.widget-view+json": {
              "model_id": "e247767699cb4ecaa5979125375d86a6",
              "version_major": 2,
              "version_minor": 0
            },
            "text/plain": [
              "validation:   0%|          | 0/538 [00:00<?, ?it/s]"
            ]
          },
          "metadata": {},
          "output_type": "display_data"
        },
        {
          "name": "stdout",
          "output_type": "stream",
          "text": [
            "2023-04-13 07:40:40 | INFO | hw5.seq2seq | example source: on the floor , a stylized compass gave the direction to each immigration detention center , accompanied by the distance and the name of the immigration facility .\n",
            "2023-04-13 07:40:40 | INFO | hw5.seq2seq | example hypothesis: 在地板上 , 身為移民機構的每個移民中心 , 都被距離和移民中心的距離給移民 。\n",
            "2023-04-13 07:40:40 | INFO | hw5.seq2seq | example reference: 底部有一個特製的指南針 , 指向每一個移民拘留中心 , 同時顯示出距離和移民署的名字 。\n",
            "2023-04-13 07:40:40 | INFO | hw5.seq2seq | validation loss:\t3.9433\n",
            "2023-04-13 07:40:40 | INFO | hw5.seq2seq | BLEU = 18.73 51.9/26.7/14.8/8.6 (BP = 0.912 ratio = 0.916 hyp_len = 100492 ref_len = 109719)\n",
            "2023-04-13 07:40:41 | INFO | hw5.seq2seq | saved epoch checkpoint: /home/frankchiang/cource/ml/hw5/checkpoints/rnn/checkpoint17.pt\n",
            "2023-04-13 07:40:41 | INFO | hw5.seq2seq | end of epoch 17\n"
          ]
        },
        {
          "data": {
            "application/vnd.jupyter.widget-view+json": {
              "model_id": "9265b7eaaca044da96523cf63a20fadb",
              "version_major": 2,
              "version_minor": 0
            },
            "text/plain": [
              "train epoch 18:   0%|          | 0/13271 [00:00<?, ?it/s]"
            ]
          },
          "metadata": {},
          "output_type": "display_data"
        },
        {
          "name": "stdout",
          "output_type": "stream",
          "text": [
            "2023-04-13 07:48:56 | INFO | hw5.seq2seq | training loss: 3.9194\n",
            "2023-04-13 07:48:56 | INFO | hw5.seq2seq | begin validation\n"
          ]
        },
        {
          "data": {
            "application/vnd.jupyter.widget-view+json": {
              "model_id": "20584f485b4e48858cbaf748c0823232",
              "version_major": 2,
              "version_minor": 0
            },
            "text/plain": [
              "validation:   0%|          | 0/538 [00:00<?, ?it/s]"
            ]
          },
          "metadata": {},
          "output_type": "display_data"
        },
        {
          "name": "stdout",
          "output_type": "stream",
          "text": [
            "2023-04-13 07:49:44 | INFO | hw5.seq2seq | example source: generally , it's kind of a fuzzy threedimensional geometry .\n",
            "2023-04-13 07:49:44 | INFO | hw5.seq2seq | example hypothesis: 一般來說 , 這是一個令人難以置信的三維空間 。\n",
            "2023-04-13 07:49:44 | INFO | hw5.seq2seq | example reference: 總而言之 , 這是一個模糊的三維幾何世界 。\n",
            "2023-04-13 07:49:44 | INFO | hw5.seq2seq | validation loss:\t3.9442\n",
            "2023-04-13 07:49:44 | INFO | hw5.seq2seq | BLEU = 18.86 51.9/26.7/14.8/8.7 (BP = 0.917 ratio = 0.921 hyp_len = 101002 ref_len = 109719)\n",
            "2023-04-13 07:49:45 | INFO | hw5.seq2seq | saved epoch checkpoint: /home/frankchiang/cource/ml/hw5/checkpoints/rnn/checkpoint18.pt\n",
            "2023-04-13 07:49:45 | INFO | hw5.seq2seq | end of epoch 18\n"
          ]
        },
        {
          "data": {
            "application/vnd.jupyter.widget-view+json": {
              "model_id": "b44bb96d2e8a47008485ec3f1343045a",
              "version_major": 2,
              "version_minor": 0
            },
            "text/plain": [
              "train epoch 19:   0%|          | 0/13271 [00:00<?, ?it/s]"
            ]
          },
          "metadata": {},
          "output_type": "display_data"
        },
        {
          "name": "stdout",
          "output_type": "stream",
          "text": [
            "2023-04-13 07:58:02 | INFO | hw5.seq2seq | training loss: 3.9187\n",
            "2023-04-13 07:58:02 | INFO | hw5.seq2seq | begin validation\n"
          ]
        },
        {
          "data": {
            "application/vnd.jupyter.widget-view+json": {
              "model_id": "a0259c85c15c468f8a0d7d55aba285a9",
              "version_major": 2,
              "version_minor": 0
            },
            "text/plain": [
              "validation:   0%|          | 0/538 [00:00<?, ?it/s]"
            ]
          },
          "metadata": {},
          "output_type": "display_data"
        },
        {
          "name": "stdout",
          "output_type": "stream",
          "text": [
            "2023-04-13 07:58:50 | INFO | hw5.seq2seq | example source: when the visual cortex is deprived of input from the eyes , even temporarily , the brain still tries to create a coherent picture , but the limits of its abilities become a lot more obvious .\n",
            "2023-04-13 07:58:50 | INFO | hw5.seq2seq | example hypothesis: 當視覺皮質在視覺皮層下降低時 , 大腦仍然會試著建立一個相似的圖表 , 但它的限制很明顯 。\n",
            "2023-04-13 07:58:50 | INFO | hw5.seq2seq | example reference: 當視覺皮層得不到來自眼睛的輸入資料時 , 即使只有一下下 , 大腦仍然會試圖創造出一個協調連貫的圖像 , 但就能很明顯發現 , 它的能力有限 。\n",
            "2023-04-13 07:58:50 | INFO | hw5.seq2seq | validation loss:\t3.9449\n",
            "2023-04-13 07:58:50 | INFO | hw5.seq2seq | BLEU = 18.89 51.7/26.6/14.8/8.6 (BP = 0.924 ratio = 0.927 hyp_len = 101706 ref_len = 109719)\n",
            "2023-04-13 07:58:51 | INFO | hw5.seq2seq | saved epoch checkpoint: /home/frankchiang/cource/ml/hw5/checkpoints/rnn/checkpoint19.pt\n",
            "2023-04-13 07:58:51 | INFO | hw5.seq2seq | end of epoch 19\n"
          ]
        },
        {
          "data": {
            "application/vnd.jupyter.widget-view+json": {
              "model_id": "27fa1b71bf3343a59a2cd15ea5fb1bb5",
              "version_major": 2,
              "version_minor": 0
            },
            "text/plain": [
              "train epoch 20:   0%|          | 0/13271 [00:00<?, ?it/s]"
            ]
          },
          "metadata": {},
          "output_type": "display_data"
        },
        {
          "name": "stdout",
          "output_type": "stream",
          "text": [
            "2023-04-13 08:07:06 | INFO | hw5.seq2seq | training loss: 3.9181\n",
            "2023-04-13 08:07:06 | INFO | hw5.seq2seq | begin validation\n"
          ]
        },
        {
          "data": {
            "application/vnd.jupyter.widget-view+json": {
              "model_id": "15d7300a43064207a3891ec3696dafc4",
              "version_major": 2,
              "version_minor": 0
            },
            "text/plain": [
              "validation:   0%|          | 0/538 [00:00<?, ?it/s]"
            ]
          },
          "metadata": {},
          "output_type": "display_data"
        },
        {
          "name": "stdout",
          "output_type": "stream",
          "text": [
            "2023-04-13 08:07:53 | INFO | hw5.seq2seq | example source: in the u . s . only one percent of the people are actually farmers .\n",
            "2023-04-13 08:07:53 | INFO | hw5.seq2seq | example hypothesis: 在美國 , 只有1%的人是農夫 。\n",
            "2023-04-13 08:07:53 | INFO | hw5.seq2seq | example reference: 美國則只有百分之一的人口務農 。\n",
            "2023-04-13 08:07:53 | INFO | hw5.seq2seq | validation loss:\t3.9432\n",
            "2023-04-13 08:07:53 | INFO | hw5.seq2seq | BLEU = 18.86 52.1/26.9/15.0/8.8 (BP = 0.909 ratio = 0.913 hyp_len = 100185 ref_len = 109719)\n",
            "2023-04-13 08:07:54 | INFO | hw5.seq2seq | saved epoch checkpoint: /home/frankchiang/cource/ml/hw5/checkpoints/rnn/checkpoint20.pt\n",
            "2023-04-13 08:07:54 | INFO | hw5.seq2seq | end of epoch 20\n"
          ]
        },
        {
          "data": {
            "application/vnd.jupyter.widget-view+json": {
              "model_id": "e24e38fb53264cb6ba1fb1af1dc58c59",
              "version_major": 2,
              "version_minor": 0
            },
            "text/plain": [
              "train epoch 21:   0%|          | 0/13271 [00:00<?, ?it/s]"
            ]
          },
          "metadata": {},
          "output_type": "display_data"
        },
        {
          "name": "stdout",
          "output_type": "stream",
          "text": [
            "2023-04-13 08:16:07 | INFO | hw5.seq2seq | training loss: 3.9182\n",
            "2023-04-13 08:16:07 | INFO | hw5.seq2seq | begin validation\n"
          ]
        },
        {
          "data": {
            "application/vnd.jupyter.widget-view+json": {
              "model_id": "c436cc259f4843938640aec940bf7cd3",
              "version_major": 2,
              "version_minor": 0
            },
            "text/plain": [
              "validation:   0%|          | 0/538 [00:00<?, ?it/s]"
            ]
          },
          "metadata": {},
          "output_type": "display_data"
        },
        {
          "name": "stdout",
          "output_type": "stream",
          "text": [
            "2023-04-13 08:16:56 | INFO | hw5.seq2seq | example source: and this is absolutely crucial to the monotheisms , too .\n",
            "2023-04-13 08:16:56 | INFO | hw5.seq2seq | example hypothesis: 這絕對是對恐怖主義也很重要 。\n",
            "2023-04-13 08:16:56 | INFO | hw5.seq2seq | example reference: 這對於一神論者來說也是重要的\n",
            "2023-04-13 08:16:56 | INFO | hw5.seq2seq | validation loss:\t3.9424\n",
            "2023-04-13 08:16:56 | INFO | hw5.seq2seq | BLEU = 18.76 51.2/26.2/14.5/8.4 (BP = 0.933 ratio = 0.935 hyp_len = 102606 ref_len = 109719)\n",
            "2023-04-13 08:16:56 | INFO | hw5.seq2seq | saved epoch checkpoint: /home/frankchiang/cource/ml/hw5/checkpoints/rnn/checkpoint21.pt\n",
            "2023-04-13 08:16:57 | INFO | hw5.seq2seq | end of epoch 21\n"
          ]
        },
        {
          "data": {
            "application/vnd.jupyter.widget-view+json": {
              "model_id": "b2297c6aac494fba95cc8307b84f2686",
              "version_major": 2,
              "version_minor": 0
            },
            "text/plain": [
              "train epoch 22:   0%|          | 0/13271 [00:00<?, ?it/s]"
            ]
          },
          "metadata": {},
          "output_type": "display_data"
        },
        {
          "name": "stdout",
          "output_type": "stream",
          "text": [
            "2023-04-13 08:25:12 | INFO | hw5.seq2seq | training loss: 3.9182\n",
            "2023-04-13 08:25:12 | INFO | hw5.seq2seq | begin validation\n"
          ]
        },
        {
          "data": {
            "application/vnd.jupyter.widget-view+json": {
              "model_id": "21746427cca6458a8ef883c800c5b26a",
              "version_major": 2,
              "version_minor": 0
            },
            "text/plain": [
              "validation:   0%|          | 0/538 [00:00<?, ?it/s]"
            ]
          },
          "metadata": {},
          "output_type": "display_data"
        },
        {
          "name": "stdout",
          "output_type": "stream",
          "text": [
            "2023-04-13 08:26:00 | INFO | hw5.seq2seq | example source: institutions only have two tools: carrots and sticks .\n",
            "2023-04-13 08:26:00 | INFO | hw5.seq2seq | example hypothesis: 機構只有兩個工具:木材和黏土 。\n",
            "2023-04-13 08:26:00 | INFO | hw5.seq2seq | example reference: 機構只有兩種工具:胡蘿蔔跟棍子 。\n",
            "2023-04-13 08:26:00 | INFO | hw5.seq2seq | validation loss:\t3.9440\n",
            "2023-04-13 08:26:00 | INFO | hw5.seq2seq | BLEU = 18.82 51.4/26.3/14.6/8.5 (BP = 0.929 ratio = 0.932 hyp_len = 102241 ref_len = 109719)\n",
            "2023-04-13 08:26:01 | INFO | hw5.seq2seq | saved epoch checkpoint: /home/frankchiang/cource/ml/hw5/checkpoints/rnn/checkpoint22.pt\n",
            "2023-04-13 08:26:01 | INFO | hw5.seq2seq | end of epoch 22\n"
          ]
        },
        {
          "data": {
            "application/vnd.jupyter.widget-view+json": {
              "model_id": "3bf994c9f47a499a8f3fc18ed355c37e",
              "version_major": 2,
              "version_minor": 0
            },
            "text/plain": [
              "train epoch 23:   0%|          | 0/13271 [00:00<?, ?it/s]"
            ]
          },
          "metadata": {},
          "output_type": "display_data"
        },
        {
          "name": "stdout",
          "output_type": "stream",
          "text": [
            "2023-04-13 08:34:16 | INFO | hw5.seq2seq | training loss: 3.9171\n",
            "2023-04-13 08:34:16 | INFO | hw5.seq2seq | begin validation\n"
          ]
        },
        {
          "data": {
            "application/vnd.jupyter.widget-view+json": {
              "model_id": "2e26e9bbdea2407c940c2be25cac42ed",
              "version_major": 2,
              "version_minor": 0
            },
            "text/plain": [
              "validation:   0%|          | 0/538 [00:00<?, ?it/s]"
            ]
          },
          "metadata": {},
          "output_type": "display_data"
        },
        {
          "name": "stdout",
          "output_type": "stream",
          "text": [
            "2023-04-13 08:35:04 | INFO | hw5.seq2seq | example source: hydrogen atoms smash together to form helium , accompanied by a great release of energy , strong enough to counteract the shrinking force of the gravity .\n",
            "2023-04-13 08:35:04 | INFO | hw5.seq2seq | example hypothesis: 氫原子會被釋放能量強大的能量 , 結合 , 結合了所有能量的強點 , 結合了大量的能量 。\n",
            "2023-04-13 08:35:04 | INFO | hw5.seq2seq | example reference: 氫原子融合為氦同時釋放巨大能量大得可對抗向內拉扯的引力\n",
            "2023-04-13 08:35:04 | INFO | hw5.seq2seq | validation loss:\t3.9447\n",
            "2023-04-13 08:35:04 | INFO | hw5.seq2seq | BLEU = 18.99 51.9/26.8/15.0/8.9 (BP = 0.916 ratio = 0.920 hyp_len = 100888 ref_len = 109719)\n",
            "2023-04-13 08:35:05 | INFO | hw5.seq2seq | saved epoch checkpoint: /home/frankchiang/cource/ml/hw5/checkpoints/rnn/checkpoint23.pt\n",
            "2023-04-13 08:35:05 | INFO | hw5.seq2seq | end of epoch 23\n"
          ]
        },
        {
          "data": {
            "application/vnd.jupyter.widget-view+json": {
              "model_id": "aa2df95c187b41278f6674205b988bb7",
              "version_major": 2,
              "version_minor": 0
            },
            "text/plain": [
              "train epoch 24:   0%|          | 0/13271 [00:00<?, ?it/s]"
            ]
          },
          "metadata": {},
          "output_type": "display_data"
        },
        {
          "name": "stdout",
          "output_type": "stream",
          "text": [
            "2023-04-13 08:43:22 | INFO | hw5.seq2seq | training loss: 3.9172\n",
            "2023-04-13 08:43:22 | INFO | hw5.seq2seq | begin validation\n"
          ]
        },
        {
          "data": {
            "application/vnd.jupyter.widget-view+json": {
              "model_id": "6ecc730ccb9646a8b83f946525886de7",
              "version_major": 2,
              "version_minor": 0
            },
            "text/plain": [
              "validation:   0%|          | 0/538 [00:00<?, ?it/s]"
            ]
          },
          "metadata": {},
          "output_type": "display_data"
        },
        {
          "name": "stdout",
          "output_type": "stream",
          "text": [
            "2023-04-13 08:44:11 | INFO | hw5.seq2seq | example source: we nurture water in our wombs for nine months .\n",
            "2023-04-13 08:44:11 | INFO | hw5.seq2seq | example hypothesis: 我們培養水 , 九個月後 。\n",
            "2023-04-13 08:44:11 | INFO | hw5.seq2seq | example reference: 我們的子宮裡孕育著水長達九個月 。\n",
            "2023-04-13 08:44:11 | INFO | hw5.seq2seq | validation loss:\t3.9416\n",
            "2023-04-13 08:44:11 | INFO | hw5.seq2seq | BLEU = 18.98 51.4/26.4/14.7/8.6 (BP = 0.931 ratio = 0.933 hyp_len = 102362 ref_len = 109719)\n",
            "2023-04-13 08:44:11 | INFO | hw5.seq2seq | saved epoch checkpoint: /home/frankchiang/cource/ml/hw5/checkpoints/rnn/checkpoint24.pt\n",
            "2023-04-13 08:44:11 | INFO | hw5.seq2seq | end of epoch 24\n"
          ]
        },
        {
          "data": {
            "application/vnd.jupyter.widget-view+json": {
              "model_id": "2281597861634171b82067a48afc7d0e",
              "version_major": 2,
              "version_minor": 0
            },
            "text/plain": [
              "train epoch 25:   0%|          | 0/13271 [00:00<?, ?it/s]"
            ]
          },
          "metadata": {},
          "output_type": "display_data"
        },
        {
          "name": "stdout",
          "output_type": "stream",
          "text": [
            "2023-04-13 08:52:26 | INFO | hw5.seq2seq | training loss: 3.9154\n",
            "2023-04-13 08:52:26 | INFO | hw5.seq2seq | begin validation\n"
          ]
        },
        {
          "data": {
            "application/vnd.jupyter.widget-view+json": {
              "model_id": "ece8cd2c3c1e4418b97d6ae6511acee3",
              "version_major": 2,
              "version_minor": 0
            },
            "text/plain": [
              "validation:   0%|          | 0/538 [00:00<?, ?it/s]"
            ]
          },
          "metadata": {},
          "output_type": "display_data"
        },
        {
          "name": "stdout",
          "output_type": "stream",
          "text": [
            "2023-04-13 08:53:14 | INFO | hw5.seq2seq | example source: but , i personally found it wonderful .\n",
            "2023-04-13 08:53:14 | INFO | hw5.seq2seq | example hypothesis: 但 , 我個人發現它很棒 。\n",
            "2023-04-13 08:53:14 | INFO | hw5.seq2seq | example reference: 就我個人而言 , 我很欣賞 。\n",
            "2023-04-13 08:53:14 | INFO | hw5.seq2seq | validation loss:\t3.9450\n",
            "2023-04-13 08:53:14 | INFO | hw5.seq2seq | BLEU = 18.82 51.7/26.6/14.8/8.6 (BP = 0.920 ratio = 0.923 hyp_len = 101254 ref_len = 109719)\n",
            "2023-04-13 08:53:15 | INFO | hw5.seq2seq | saved epoch checkpoint: /home/frankchiang/cource/ml/hw5/checkpoints/rnn/checkpoint25.pt\n",
            "2023-04-13 08:53:15 | INFO | hw5.seq2seq | end of epoch 25\n"
          ]
        },
        {
          "data": {
            "application/vnd.jupyter.widget-view+json": {
              "model_id": "784410c2af3b47678b4b4779db5fcea4",
              "version_major": 2,
              "version_minor": 0
            },
            "text/plain": [
              "train epoch 26:   0%|          | 0/13271 [00:00<?, ?it/s]"
            ]
          },
          "metadata": {},
          "output_type": "display_data"
        },
        {
          "name": "stdout",
          "output_type": "stream",
          "text": [
            "2023-04-13 09:01:32 | INFO | hw5.seq2seq | training loss: 3.9159\n",
            "2023-04-13 09:01:32 | INFO | hw5.seq2seq | begin validation\n"
          ]
        },
        {
          "data": {
            "application/vnd.jupyter.widget-view+json": {
              "model_id": "3a714823d15d4e9a935b1121c47c2ae8",
              "version_major": 2,
              "version_minor": 0
            },
            "text/plain": [
              "validation:   0%|          | 0/538 [00:00<?, ?it/s]"
            ]
          },
          "metadata": {},
          "output_type": "display_data"
        },
        {
          "name": "stdout",
          "output_type": "stream",
          "text": [
            "2023-04-13 09:02:20 | INFO | hw5.seq2seq | example source: and they've already found that by being more intelligent about better propeller design , you can reduce that noise by 90 percent .\n",
            "2023-04-13 09:02:20 | INFO | hw5.seq2seq | example hypothesis: 他們已經發現 , 更聰明的設計 , 可以減少噪音的90% 。\n",
            "2023-04-13 09:02:20 | INFO | hw5.seq2seq | example reference: 並且他們已經發現 , 通過更智慧的、更好的螺旋槳設計就能減少百分之九十的噪音 。\n",
            "2023-04-13 09:02:20 | INFO | hw5.seq2seq | validation loss:\t3.9403\n",
            "2023-04-13 09:02:20 | INFO | hw5.seq2seq | BLEU = 19.05 51.1/26.3/14.6/8.5 (BP = 0.942 ratio = 0.944 hyp_len = 103547 ref_len = 109719)\n",
            "2023-04-13 09:02:22 | INFO | hw5.seq2seq | saved epoch checkpoint: /home/frankchiang/cource/ml/hw5/checkpoints/rnn/checkpoint26.pt\n",
            "2023-04-13 09:02:22 | INFO | hw5.seq2seq | end of epoch 26\n"
          ]
        },
        {
          "data": {
            "application/vnd.jupyter.widget-view+json": {
              "model_id": "02e21ea1fd9b4de19ca1695a3eeb679a",
              "version_major": 2,
              "version_minor": 0
            },
            "text/plain": [
              "train epoch 27:   0%|          | 0/13271 [00:00<?, ?it/s]"
            ]
          },
          "metadata": {},
          "output_type": "display_data"
        },
        {
          "name": "stdout",
          "output_type": "stream",
          "text": [
            "2023-04-13 09:10:38 | INFO | hw5.seq2seq | training loss: 3.9149\n",
            "2023-04-13 09:10:38 | INFO | hw5.seq2seq | begin validation\n"
          ]
        },
        {
          "data": {
            "application/vnd.jupyter.widget-view+json": {
              "model_id": "380146e9d2ef4e8eb3ab29b8b0d6bfd4",
              "version_major": 2,
              "version_minor": 0
            },
            "text/plain": [
              "validation:   0%|          | 0/538 [00:00<?, ?it/s]"
            ]
          },
          "metadata": {},
          "output_type": "display_data"
        },
        {
          "name": "stdout",
          "output_type": "stream",
          "text": [
            "2023-04-13 09:11:26 | INFO | hw5.seq2seq | example source: he turns . he begins to make his way to me .\n",
            "2023-04-13 09:11:26 | INFO | hw5.seq2seq | example hypothesis: 他開始轉向我 。\n",
            "2023-04-13 09:11:26 | INFO | hw5.seq2seq | example reference: 他轉身 , 開始朝我而來 。\n",
            "2023-04-13 09:11:26 | INFO | hw5.seq2seq | validation loss:\t3.9432\n",
            "2023-04-13 09:11:26 | INFO | hw5.seq2seq | BLEU = 18.99 52.2/27.1/15.2/8.9 (BP = 0.909 ratio = 0.913 hyp_len = 100196 ref_len = 109719)\n",
            "2023-04-13 09:11:27 | INFO | hw5.seq2seq | saved epoch checkpoint: /home/frankchiang/cource/ml/hw5/checkpoints/rnn/checkpoint27.pt\n",
            "2023-04-13 09:11:27 | INFO | hw5.seq2seq | end of epoch 27\n"
          ]
        },
        {
          "data": {
            "application/vnd.jupyter.widget-view+json": {
              "model_id": "f164bf3e30684cab8455530822949bad",
              "version_major": 2,
              "version_minor": 0
            },
            "text/plain": [
              "train epoch 28:   0%|          | 0/13271 [00:00<?, ?it/s]"
            ]
          },
          "metadata": {},
          "output_type": "display_data"
        },
        {
          "name": "stdout",
          "output_type": "stream",
          "text": [
            "2023-04-13 09:19:43 | INFO | hw5.seq2seq | training loss: 3.9144\n",
            "2023-04-13 09:19:43 | INFO | hw5.seq2seq | begin validation\n"
          ]
        },
        {
          "data": {
            "application/vnd.jupyter.widget-view+json": {
              "model_id": "1a09ea9d407243b3a73875f7095d4152",
              "version_major": 2,
              "version_minor": 0
            },
            "text/plain": [
              "validation:   0%|          | 0/538 [00:00<?, ?it/s]"
            ]
          },
          "metadata": {},
          "output_type": "display_data"
        },
        {
          "name": "stdout",
          "output_type": "stream",
          "text": [
            "2023-04-13 09:20:31 | INFO | hw5.seq2seq | example source: but it has a terrible catch , and the catch is that this system is destined to collapse .\n",
            "2023-04-13 09:20:31 | INFO | hw5.seq2seq | example hypothesis: 但有個很糟糕的捕捉 , 這個系統絕對不會崩壞 。\n",
            "2023-04-13 09:20:31 | INFO | hw5.seq2seq | example reference: 但這有一個嚴重的隱患 。 這個隱患是該系統遲早崩潰\n",
            "2023-04-13 09:20:31 | INFO | hw5.seq2seq | validation loss:\t3.9398\n",
            "2023-04-13 09:20:31 | INFO | hw5.seq2seq | BLEU = 19.01 51.5/26.5/14.7/8.6 (BP = 0.932 ratio = 0.935 hyp_len = 102539 ref_len = 109719)\n",
            "2023-04-13 09:20:32 | INFO | hw5.seq2seq | saved epoch checkpoint: /home/frankchiang/cource/ml/hw5/checkpoints/rnn/checkpoint28.pt\n",
            "2023-04-13 09:20:32 | INFO | hw5.seq2seq | end of epoch 28\n"
          ]
        },
        {
          "data": {
            "application/vnd.jupyter.widget-view+json": {
              "model_id": "3c52eaedf45d4b07bff1986041b817c8",
              "version_major": 2,
              "version_minor": 0
            },
            "text/plain": [
              "train epoch 29:   0%|          | 0/13271 [00:00<?, ?it/s]"
            ]
          },
          "metadata": {},
          "output_type": "display_data"
        },
        {
          "name": "stdout",
          "output_type": "stream",
          "text": [
            "2023-04-13 09:28:48 | INFO | hw5.seq2seq | training loss: 3.9142\n",
            "2023-04-13 09:28:48 | INFO | hw5.seq2seq | begin validation\n"
          ]
        },
        {
          "data": {
            "application/vnd.jupyter.widget-view+json": {
              "model_id": "ef0434a536044f55b45ed377277109a1",
              "version_major": 2,
              "version_minor": 0
            },
            "text/plain": [
              "validation:   0%|          | 0/538 [00:00<?, ?it/s]"
            ]
          },
          "metadata": {},
          "output_type": "display_data"
        },
        {
          "name": "stdout",
          "output_type": "stream",
          "text": [
            "2023-04-13 09:29:36 | INFO | hw5.seq2seq | example source: and finally , an observer in the future marveling at a beautiful structure in the environment may find it almost impossible to tell whether this structure has been created by a natural process or an artificial one .\n",
            "2023-04-13 09:29:36 | INFO | hw5.seq2seq | example hypothesis: 最後 , 在未來的環境中 , 觀察到這個結構的結構 , 會被自然過程或人工智慧所創造出來的結構是不可思議的 。\n",
            "2023-04-13 09:29:36 | INFO | hw5.seq2seq | example reference: 最後 , 當未來的人對這些美麗的建築讚嘆不已時將分不出來這個建築是自然生成的 ? 還是人造的 ?\n",
            "2023-04-13 09:29:36 | INFO | hw5.seq2seq | validation loss:\t3.9430\n",
            "2023-04-13 09:29:36 | INFO | hw5.seq2seq | BLEU = 18.92 51.9/26.7/14.9/8.8 (BP = 0.918 ratio = 0.921 hyp_len = 101071 ref_len = 109719)\n",
            "2023-04-13 09:29:37 | INFO | hw5.seq2seq | saved epoch checkpoint: /home/frankchiang/cource/ml/hw5/checkpoints/rnn/checkpoint29.pt\n",
            "2023-04-13 09:29:37 | INFO | hw5.seq2seq | end of epoch 29\n"
          ]
        },
        {
          "data": {
            "application/vnd.jupyter.widget-view+json": {
              "model_id": "51f564505127448b93eec3d289d20662",
              "version_major": 2,
              "version_minor": 0
            },
            "text/plain": [
              "train epoch 30:   0%|          | 0/13271 [00:00<?, ?it/s]"
            ]
          },
          "metadata": {},
          "output_type": "display_data"
        },
        {
          "name": "stdout",
          "output_type": "stream",
          "text": [
            "2023-04-13 09:37:49 | INFO | hw5.seq2seq | training loss: 3.9143\n",
            "2023-04-13 09:37:49 | INFO | hw5.seq2seq | begin validation\n"
          ]
        },
        {
          "data": {
            "application/vnd.jupyter.widget-view+json": {
              "model_id": "6e189caff6f941f78f892cf591b8d3bb",
              "version_major": 2,
              "version_minor": 0
            },
            "text/plain": [
              "validation:   0%|          | 0/538 [00:00<?, ?it/s]"
            ]
          },
          "metadata": {},
          "output_type": "display_data"
        },
        {
          "name": "stdout",
          "output_type": "stream",
          "text": [
            "2023-04-13 09:38:37 | INFO | hw5.seq2seq | example source: it's a liquid that is completely black .\n",
            "2023-04-13 09:38:37 | INFO | hw5.seq2seq | example hypothesis: 這是一個液體 , 完全是黑色 。\n",
            "2023-04-13 09:38:37 | INFO | hw5.seq2seq | example reference: 它是一種極黑的液體\n",
            "2023-04-13 09:38:37 | INFO | hw5.seq2seq | validation loss:\t3.9409\n",
            "2023-04-13 09:38:37 | INFO | hw5.seq2seq | BLEU = 18.91 51.7/26.6/14.8/8.7 (BP = 0.922 ratio = 0.925 hyp_len = 101457 ref_len = 109719)\n",
            "2023-04-13 09:38:38 | INFO | hw5.seq2seq | saved epoch checkpoint: /home/frankchiang/cource/ml/hw5/checkpoints/rnn/checkpoint30.pt\n",
            "2023-04-13 09:38:38 | INFO | hw5.seq2seq | end of epoch 30\n"
          ]
        },
        {
          "data": {
            "application/vnd.jupyter.widget-view+json": {
              "model_id": "001056c5f4aa42c8b79258efaf0c3a16",
              "version_major": 2,
              "version_minor": 0
            },
            "text/plain": [
              "train epoch 31:   0%|          | 0/13271 [00:00<?, ?it/s]"
            ]
          },
          "metadata": {},
          "output_type": "display_data"
        },
        {
          "name": "stdout",
          "output_type": "stream",
          "text": [
            "2023-04-13 09:46:55 | INFO | hw5.seq2seq | training loss: 3.9138\n",
            "2023-04-13 09:46:55 | INFO | hw5.seq2seq | begin validation\n"
          ]
        },
        {
          "data": {
            "application/vnd.jupyter.widget-view+json": {
              "model_id": "9bd1cc3b78b94b04a2bffd74546f0963",
              "version_major": 2,
              "version_minor": 0
            },
            "text/plain": [
              "validation:   0%|          | 0/538 [00:00<?, ?it/s]"
            ]
          },
          "metadata": {},
          "output_type": "display_data"
        },
        {
          "name": "stdout",
          "output_type": "stream",
          "text": [
            "2023-04-13 09:47:44 | INFO | hw5.seq2seq | example source: also , research within the continent is a lot easier to conduct due to widespread poverty , endemic diseases and inadequate health care systems .\n",
            "2023-04-13 09:47:44 | INFO | hw5.seq2seq | example hypothesis: 此外 , 研究於廣泛貧窮的國家 , 大陸的健康照護系統是很容易的 。\n",
            "2023-04-13 09:47:44 | INFO | hw5.seq2seq | example reference: 另外 , 在非洲大陸內很容易在普遍貧窮、地方疾病與衛生保健系統不足的地區進行研究\n",
            "2023-04-13 09:47:44 | INFO | hw5.seq2seq | validation loss:\t3.9458\n",
            "2023-04-13 09:47:44 | INFO | hw5.seq2seq | BLEU = 19.03 51.7/26.7/14.8/8.7 (BP = 0.927 ratio = 0.930 hyp_len = 102010 ref_len = 109719)\n",
            "2023-04-13 09:47:45 | INFO | hw5.seq2seq | saved epoch checkpoint: /home/frankchiang/cource/ml/hw5/checkpoints/rnn/checkpoint31.pt\n",
            "2023-04-13 09:47:45 | INFO | hw5.seq2seq | end of epoch 31\n"
          ]
        },
        {
          "data": {
            "application/vnd.jupyter.widget-view+json": {
              "model_id": "806101ae751b4c6d9b1a1eaf180060c7",
              "version_major": 2,
              "version_minor": 0
            },
            "text/plain": [
              "train epoch 32:   0%|          | 0/13271 [00:00<?, ?it/s]"
            ]
          },
          "metadata": {},
          "output_type": "display_data"
        },
        {
          "name": "stdout",
          "output_type": "stream",
          "text": [
            "2023-04-13 09:56:03 | INFO | hw5.seq2seq | training loss: 3.9135\n",
            "2023-04-13 09:56:03 | INFO | hw5.seq2seq | begin validation\n"
          ]
        },
        {
          "data": {
            "application/vnd.jupyter.widget-view+json": {
              "model_id": "1d09fb7eb4c64da69ca4117e6de46c09",
              "version_major": 2,
              "version_minor": 0
            },
            "text/plain": [
              "validation:   0%|          | 0/538 [00:00<?, ?it/s]"
            ]
          },
          "metadata": {},
          "output_type": "display_data"
        },
        {
          "name": "stdout",
          "output_type": "stream",
          "text": [
            "2023-04-13 09:56:51 | INFO | hw5.seq2seq | example source: and i say this out of affection for them: there's something curious about professors .\n",
            "2023-04-13 09:56:51 | INFO | hw5.seq2seq | example hypothesis: 我對他們說:這對教授有好奇怪的事 。\n",
            "2023-04-13 09:56:51 | INFO | hw5.seq2seq | example reference: 在我的經驗裏 , 教授們是有點難以理解的\n",
            "2023-04-13 09:56:51 | INFO | hw5.seq2seq | validation loss:\t3.9428\n",
            "2023-04-13 09:56:51 | INFO | hw5.seq2seq | BLEU = 18.96 52.0/26.8/14.9/8.7 (BP = 0.919 ratio = 0.922 hyp_len = 101192 ref_len = 109719)\n",
            "2023-04-13 09:56:52 | INFO | hw5.seq2seq | saved epoch checkpoint: /home/frankchiang/cource/ml/hw5/checkpoints/rnn/checkpoint32.pt\n",
            "2023-04-13 09:56:52 | INFO | hw5.seq2seq | end of epoch 32\n"
          ]
        },
        {
          "data": {
            "application/vnd.jupyter.widget-view+json": {
              "model_id": "f9d57b367f12486a8829eb54e21150a2",
              "version_major": 2,
              "version_minor": 0
            },
            "text/plain": [
              "train epoch 33:   0%|          | 0/13271 [00:00<?, ?it/s]"
            ]
          },
          "metadata": {},
          "output_type": "display_data"
        },
        {
          "name": "stdout",
          "output_type": "stream",
          "text": [
            "2023-04-13 10:05:08 | INFO | hw5.seq2seq | training loss: 3.9136\n",
            "2023-04-13 10:05:08 | INFO | hw5.seq2seq | begin validation\n"
          ]
        },
        {
          "data": {
            "application/vnd.jupyter.widget-view+json": {
              "model_id": "1d3fa81dba9242c8a2eb8ce793941557",
              "version_major": 2,
              "version_minor": 0
            },
            "text/plain": [
              "validation:   0%|          | 0/538 [00:00<?, ?it/s]"
            ]
          },
          "metadata": {},
          "output_type": "display_data"
        },
        {
          "name": "stdout",
          "output_type": "stream",
          "text": [
            "2023-04-13 10:05:56 | INFO | hw5.seq2seq | example source: back in 2003 , the uk government carried out a survey .\n",
            "2023-04-13 10:05:56 | INFO | hw5.seq2seq | example hypothesis: 在2003年 , 英國政府做了一項調查 。\n",
            "2023-04-13 10:05:56 | INFO | hw5.seq2seq | example reference: 在2003年 , 英國政府進行了一項調查 。\n",
            "2023-04-13 10:05:56 | INFO | hw5.seq2seq | validation loss:\t3.9399\n",
            "2023-04-13 10:05:56 | INFO | hw5.seq2seq | BLEU = 18.99 51.5/26.6/14.8/8.7 (BP = 0.927 ratio = 0.930 hyp_len = 102012 ref_len = 109719)\n",
            "2023-04-13 10:05:57 | INFO | hw5.seq2seq | saved epoch checkpoint: /home/frankchiang/cource/ml/hw5/checkpoints/rnn/checkpoint33.pt\n",
            "2023-04-13 10:05:57 | INFO | hw5.seq2seq | end of epoch 33\n"
          ]
        },
        {
          "data": {
            "application/vnd.jupyter.widget-view+json": {
              "model_id": "1652a24ff93f46a1b2a4aaca3bc8326a",
              "version_major": 2,
              "version_minor": 0
            },
            "text/plain": [
              "train epoch 34:   0%|          | 0/13271 [00:00<?, ?it/s]"
            ]
          },
          "metadata": {},
          "output_type": "display_data"
        },
        {
          "name": "stdout",
          "output_type": "stream",
          "text": [
            "2023-04-13 10:14:12 | INFO | hw5.seq2seq | training loss: 3.9136\n",
            "2023-04-13 10:14:12 | INFO | hw5.seq2seq | begin validation\n"
          ]
        },
        {
          "data": {
            "application/vnd.jupyter.widget-view+json": {
              "model_id": "8d5885ded2b14c228351eb74fa6f8fd1",
              "version_major": 2,
              "version_minor": 0
            },
            "text/plain": [
              "validation:   0%|          | 0/538 [00:00<?, ?it/s]"
            ]
          },
          "metadata": {},
          "output_type": "display_data"
        },
        {
          "name": "stdout",
          "output_type": "stream",
          "text": [
            "2023-04-13 10:14:58 | INFO | hw5.seq2seq | example source: it's a piece of public mischief .\n",
            "2023-04-13 10:14:58 | INFO | hw5.seq2seq | example hypothesis: 這是一場公眾的表演 。\n",
            "2023-04-13 10:14:58 | INFO | hw5.seq2seq | example reference: 這個案例是一樁政府<unk><unk>的鬧劇 。\n",
            "2023-04-13 10:14:58 | INFO | hw5.seq2seq | validation loss:\t3.9475\n",
            "2023-04-13 10:14:58 | INFO | hw5.seq2seq | BLEU = 18.64 53.0/27.4/15.3/9.0 (BP = 0.882 ratio = 0.888 hyp_len = 97449 ref_len = 109719)\n",
            "2023-04-13 10:14:59 | INFO | hw5.seq2seq | saved epoch checkpoint: /home/frankchiang/cource/ml/hw5/checkpoints/rnn/checkpoint34.pt\n",
            "2023-04-13 10:14:59 | INFO | hw5.seq2seq | end of epoch 34\n"
          ]
        },
        {
          "data": {
            "application/vnd.jupyter.widget-view+json": {
              "model_id": "d5275846a62246a9aadae2c40f49e2b3",
              "version_major": 2,
              "version_minor": 0
            },
            "text/plain": [
              "train epoch 35:   0%|          | 0/13271 [00:00<?, ?it/s]"
            ]
          },
          "metadata": {},
          "output_type": "display_data"
        },
        {
          "name": "stdout",
          "output_type": "stream",
          "text": [
            "2023-04-13 10:23:14 | INFO | hw5.seq2seq | training loss: 3.9138\n",
            "2023-04-13 10:23:14 | INFO | hw5.seq2seq | begin validation\n"
          ]
        },
        {
          "data": {
            "application/vnd.jupyter.widget-view+json": {
              "model_id": "f95b9fd239dd44698cbf650ca485c649",
              "version_major": 2,
              "version_minor": 0
            },
            "text/plain": [
              "validation:   0%|          | 0/538 [00:00<?, ?it/s]"
            ]
          },
          "metadata": {},
          "output_type": "display_data"
        },
        {
          "name": "stdout",
          "output_type": "stream",
          "text": [
            "2023-04-13 10:24:02 | INFO | hw5.seq2seq | example source: in that case , our letter to the court might suggest that that probationer get handouts of important information .\n",
            "2023-04-13 10:24:02 | INFO | hw5.seq2seq | example hypothesis: 在這個案例中 , 我們的信給法庭可能會建議 , 法庭會提供重要的資訊 。\n",
            "2023-04-13 10:24:02 | INFO | hw5.seq2seq | example reference: 在那種情況下 , 我們可能會在給法院的信中建議發給緩刑者條列重要訊息的講義 。\n",
            "2023-04-13 10:24:02 | INFO | hw5.seq2seq | validation loss:\t3.9441\n",
            "2023-04-13 10:24:02 | INFO | hw5.seq2seq | BLEU = 19.03 51.8/26.8/14.9/8.7 (BP = 0.924 ratio = 0.927 hyp_len = 101729 ref_len = 109719)\n",
            "2023-04-13 10:24:03 | INFO | hw5.seq2seq | saved epoch checkpoint: /home/frankchiang/cource/ml/hw5/checkpoints/rnn/checkpoint35.pt\n",
            "2023-04-13 10:24:03 | INFO | hw5.seq2seq | end of epoch 35\n"
          ]
        },
        {
          "data": {
            "application/vnd.jupyter.widget-view+json": {
              "model_id": "3347a3e06dbf4fb990c6d06bfca952a8",
              "version_major": 2,
              "version_minor": 0
            },
            "text/plain": [
              "train epoch 36:   0%|          | 0/13271 [00:00<?, ?it/s]"
            ]
          },
          "metadata": {},
          "output_type": "display_data"
        },
        {
          "name": "stdout",
          "output_type": "stream",
          "text": [
            "2023-04-13 10:32:20 | INFO | hw5.seq2seq | training loss: 3.9145\n",
            "2023-04-13 10:32:20 | INFO | hw5.seq2seq | begin validation\n"
          ]
        },
        {
          "data": {
            "application/vnd.jupyter.widget-view+json": {
              "model_id": "d5adeb9c8ce3434f8ca33250c956a77d",
              "version_major": 2,
              "version_minor": 0
            },
            "text/plain": [
              "validation:   0%|          | 0/538 [00:00<?, ?it/s]"
            ]
          },
          "metadata": {},
          "output_type": "display_data"
        },
        {
          "name": "stdout",
          "output_type": "stream",
          "text": [
            "2023-04-13 10:33:07 | INFO | hw5.seq2seq | example source: people have murdered those that they loved , believing that they were murdering an imposter .\n",
            "2023-04-13 10:33:07 | INFO | hw5.seq2seq | example hypothesis: 人們被愛 , 相信他們所愛的人 , 相信他們被愛 , 相信他們是謀殺 。\n",
            "2023-04-13 10:33:07 | INFO | hw5.seq2seq | example reference: 他們把他們最愛的人給殺害因為他們相信他們殺害的是一位冒充者\n",
            "2023-04-13 10:33:07 | INFO | hw5.seq2seq | validation loss:\t3.9432\n",
            "2023-04-13 10:33:07 | INFO | hw5.seq2seq | BLEU = 18.72 52.4/27.1/15.1/8.8 (BP = 0.897 ratio = 0.902 hyp_len = 98965 ref_len = 109719)\n",
            "2023-04-13 10:33:08 | INFO | hw5.seq2seq | saved epoch checkpoint: /home/frankchiang/cource/ml/hw5/checkpoints/rnn/checkpoint36.pt\n",
            "2023-04-13 10:33:08 | INFO | hw5.seq2seq | end of epoch 36\n"
          ]
        },
        {
          "data": {
            "application/vnd.jupyter.widget-view+json": {
              "model_id": "4715de6a93b14609b196a3edcfa9b10d",
              "version_major": 2,
              "version_minor": 0
            },
            "text/plain": [
              "train epoch 37:   0%|          | 0/13271 [00:00<?, ?it/s]"
            ]
          },
          "metadata": {},
          "output_type": "display_data"
        },
        {
          "name": "stdout",
          "output_type": "stream",
          "text": [
            "2023-04-13 10:41:23 | INFO | hw5.seq2seq | training loss: 3.9152\n",
            "2023-04-13 10:41:23 | INFO | hw5.seq2seq | begin validation\n"
          ]
        },
        {
          "data": {
            "application/vnd.jupyter.widget-view+json": {
              "model_id": "1fb089196bfc4b02afeab66a768cde2b",
              "version_major": 2,
              "version_minor": 0
            },
            "text/plain": [
              "validation:   0%|          | 0/538 [00:00<?, ?it/s]"
            ]
          },
          "metadata": {},
          "output_type": "display_data"
        },
        {
          "name": "stdout",
          "output_type": "stream",
          "text": [
            "2023-04-13 10:42:12 | INFO | hw5.seq2seq | example source: it’s almost always advantageous for a female to continue reproducing , even if she also cares for her existing children and grandchildren .\n",
            "2023-04-13 10:42:12 | INFO | hw5.seq2seq | example hypothesis: 幾乎總是適合女性來持續繁殖 , 即使她也照顧孩子和孫子 。\n",
            "2023-04-13 10:42:12 | INFO | hw5.seq2seq | example reference: 雌性動物持續繁殖 , 幾乎都是比較有利的 , 即使牠也得同時照顧既有的孩子和孫子 。\n",
            "2023-04-13 10:42:12 | INFO | hw5.seq2seq | validation loss:\t3.9447\n",
            "2023-04-13 10:42:12 | INFO | hw5.seq2seq | BLEU = 18.74 52.0/26.8/14.8/8.6 (BP = 0.914 ratio = 0.917 hyp_len = 100621 ref_len = 109719)\n",
            "2023-04-13 10:42:13 | INFO | hw5.seq2seq | saved epoch checkpoint: /home/frankchiang/cource/ml/hw5/checkpoints/rnn/checkpoint37.pt\n",
            "2023-04-13 10:42:13 | INFO | hw5.seq2seq | end of epoch 37\n"
          ]
        },
        {
          "data": {
            "application/vnd.jupyter.widget-view+json": {
              "model_id": "7723235ee49347908b908d19294aeb60",
              "version_major": 2,
              "version_minor": 0
            },
            "text/plain": [
              "train epoch 38:   0%|          | 0/13271 [00:00<?, ?it/s]"
            ]
          },
          "metadata": {},
          "output_type": "display_data"
        },
        {
          "name": "stdout",
          "output_type": "stream",
          "text": [
            "2023-04-13 10:50:27 | INFO | hw5.seq2seq | training loss: 3.9159\n",
            "2023-04-13 10:50:27 | INFO | hw5.seq2seq | begin validation\n"
          ]
        },
        {
          "data": {
            "application/vnd.jupyter.widget-view+json": {
              "model_id": "bd955a3497984c3caea1a32666ab559a",
              "version_major": 2,
              "version_minor": 0
            },
            "text/plain": [
              "validation:   0%|          | 0/538 [00:00<?, ?it/s]"
            ]
          },
          "metadata": {},
          "output_type": "display_data"
        },
        {
          "name": "stdout",
          "output_type": "stream",
          "text": [
            "2023-04-13 10:51:15 | INFO | hw5.seq2seq | example source: i said , \" i know all that what day is it ? \"\n",
            "2023-04-13 10:51:15 | INFO | hw5.seq2seq | example hypothesis: 我說: 「 我知道那天是怎麼回事 ? 」\n",
            "2023-04-13 10:51:15 | INFO | hw5.seq2seq | example reference: 我說: \" 我知道--今天是幾日 ? \"\n",
            "2023-04-13 10:51:15 | INFO | hw5.seq2seq | validation loss:\t3.9468\n",
            "2023-04-13 10:51:15 | INFO | hw5.seq2seq | BLEU = 18.83 51.8/26.6/14.7/8.6 (BP = 0.922 ratio = 0.925 hyp_len = 101518 ref_len = 109719)\n",
            "2023-04-13 10:51:16 | INFO | hw5.seq2seq | saved epoch checkpoint: /home/frankchiang/cource/ml/hw5/checkpoints/rnn/checkpoint38.pt\n",
            "2023-04-13 10:51:16 | INFO | hw5.seq2seq | end of epoch 38\n"
          ]
        },
        {
          "data": {
            "application/vnd.jupyter.widget-view+json": {
              "model_id": "bc90db5e8ed24cbfa42f02e0bcf4136a",
              "version_major": 2,
              "version_minor": 0
            },
            "text/plain": [
              "train epoch 39:   0%|          | 0/13271 [00:00<?, ?it/s]"
            ]
          },
          "metadata": {},
          "output_type": "display_data"
        },
        {
          "name": "stdout",
          "output_type": "stream",
          "text": [
            "2023-04-13 10:59:32 | INFO | hw5.seq2seq | training loss: 3.9167\n",
            "2023-04-13 10:59:32 | INFO | hw5.seq2seq | begin validation\n"
          ]
        },
        {
          "data": {
            "application/vnd.jupyter.widget-view+json": {
              "model_id": "eb5e63c363f14f6aaa168bb998a1f999",
              "version_major": 2,
              "version_minor": 0
            },
            "text/plain": [
              "validation:   0%|          | 0/538 [00:00<?, ?it/s]"
            ]
          },
          "metadata": {},
          "output_type": "display_data"
        },
        {
          "name": "stdout",
          "output_type": "stream",
          "text": [
            "2023-04-13 11:00:20 | INFO | hw5.seq2seq | example source: the third story is the idea that technology can solve everything , that technology can somehow get us through this completely .\n",
            "2023-04-13 11:00:20 | INFO | hw5.seq2seq | example hypothesis: 第三個故事是科技可以解決一切 , 科技能解決一切 , 科技能解決一切 , 科技能解決一切 。\n",
            "2023-04-13 11:00:20 | INFO | hw5.seq2seq | example reference: 第三種想法是:科技可以解決所有問題科技可以帶領我們完全客服困難\n",
            "2023-04-13 11:00:20 | INFO | hw5.seq2seq | validation loss:\t3.9434\n",
            "2023-04-13 11:00:20 | INFO | hw5.seq2seq | BLEU = 18.95 52.1/26.9/14.9/8.7 (BP = 0.917 ratio = 0.920 hyp_len = 100942 ref_len = 109719)\n",
            "2023-04-13 11:00:21 | INFO | hw5.seq2seq | saved epoch checkpoint: /home/frankchiang/cource/ml/hw5/checkpoints/rnn/checkpoint39.pt\n",
            "2023-04-13 11:00:21 | INFO | hw5.seq2seq | end of epoch 39\n"
          ]
        },
        {
          "data": {
            "application/vnd.jupyter.widget-view+json": {
              "model_id": "9d6452c96049449eb9a5eccb63a5f529",
              "version_major": 2,
              "version_minor": 0
            },
            "text/plain": [
              "train epoch 40:   0%|          | 0/13271 [00:00<?, ?it/s]"
            ]
          },
          "metadata": {},
          "output_type": "display_data"
        },
        {
          "name": "stdout",
          "output_type": "stream",
          "text": [
            "2023-04-13 11:08:37 | INFO | hw5.seq2seq | training loss: 3.9183\n",
            "2023-04-13 11:08:37 | INFO | hw5.seq2seq | begin validation\n"
          ]
        },
        {
          "data": {
            "application/vnd.jupyter.widget-view+json": {
              "model_id": "62c787679a47433cb7e26a5644c4731a",
              "version_major": 2,
              "version_minor": 0
            },
            "text/plain": [
              "validation:   0%|          | 0/538 [00:00<?, ?it/s]"
            ]
          },
          "metadata": {},
          "output_type": "display_data"
        },
        {
          "name": "stdout",
          "output_type": "stream",
          "text": [
            "2023-04-13 11:09:25 | INFO | hw5.seq2seq | example source: so , in a way , i like them so much because they're nice to me .\n",
            "2023-04-13 11:09:25 | INFO | hw5.seq2seq | example hypothesis: 所以 , 在某種程度上 , 我喜歡他們這麼多 , 因為它們對我來說很棒 。\n",
            "2023-04-13 11:09:25 | INFO | hw5.seq2seq | example reference: 所以 , 某方面 , 我喜歡他們 , 因為他們對我很好\n",
            "2023-04-13 11:09:25 | INFO | hw5.seq2seq | validation loss:\t3.9457\n",
            "2023-04-13 11:09:25 | INFO | hw5.seq2seq | BLEU = 18.81 51.8/26.6/14.7/8.6 (BP = 0.921 ratio = 0.924 hyp_len = 101327 ref_len = 109719)\n",
            "2023-04-13 11:09:26 | INFO | hw5.seq2seq | saved epoch checkpoint: /home/frankchiang/cource/ml/hw5/checkpoints/rnn/checkpoint40.pt\n",
            "2023-04-13 11:09:26 | INFO | hw5.seq2seq | end of epoch 40\n"
          ]
        },
        {
          "data": {
            "application/vnd.jupyter.widget-view+json": {
              "model_id": "53755e2cc02b4a7c84bdce6efea90039",
              "version_major": 2,
              "version_minor": 0
            },
            "text/plain": [
              "train epoch 41:   0%|          | 0/13271 [00:00<?, ?it/s]"
            ]
          },
          "metadata": {},
          "output_type": "display_data"
        },
        {
          "name": "stdout",
          "output_type": "stream",
          "text": [
            "2023-04-13 11:17:40 | INFO | hw5.seq2seq | training loss: 3.9193\n",
            "2023-04-13 11:17:40 | INFO | hw5.seq2seq | begin validation\n"
          ]
        },
        {
          "data": {
            "application/vnd.jupyter.widget-view+json": {
              "model_id": "1228f8747f58476fa2c8eedd0c6e63b5",
              "version_major": 2,
              "version_minor": 0
            },
            "text/plain": [
              "validation:   0%|          | 0/538 [00:00<?, ?it/s]"
            ]
          },
          "metadata": {},
          "output_type": "display_data"
        },
        {
          "name": "stdout",
          "output_type": "stream",
          "text": [
            "2023-04-13 11:18:28 | INFO | hw5.seq2seq | example source: but what about our ability to sense and control these things ?\n",
            "2023-04-13 11:18:28 | INFO | hw5.seq2seq | example hypothesis: 但是我們能感受及控制這些東西的能力呢 ?\n",
            "2023-04-13 11:18:28 | INFO | hw5.seq2seq | example reference: 但是我們感知和控制這些東西的能力呢 ?\n",
            "2023-04-13 11:18:28 | INFO | hw5.seq2seq | validation loss:\t3.9477\n",
            "2023-04-13 11:18:28 | INFO | hw5.seq2seq | BLEU = 18.81 52.0/26.8/14.9/8.7 (BP = 0.911 ratio = 0.915 hyp_len = 100396 ref_len = 109719)\n",
            "2023-04-13 11:18:29 | INFO | hw5.seq2seq | saved epoch checkpoint: /home/frankchiang/cource/ml/hw5/checkpoints/rnn/checkpoint41.pt\n",
            "2023-04-13 11:18:29 | INFO | hw5.seq2seq | end of epoch 41\n"
          ]
        },
        {
          "data": {
            "application/vnd.jupyter.widget-view+json": {
              "model_id": "a0041b1bf08f4a77bddb9b2fdf491437",
              "version_major": 2,
              "version_minor": 0
            },
            "text/plain": [
              "train epoch 42:   0%|          | 0/13271 [00:00<?, ?it/s]"
            ]
          },
          "metadata": {},
          "output_type": "display_data"
        },
        {
          "name": "stdout",
          "output_type": "stream",
          "text": [
            "2023-04-13 11:26:46 | INFO | hw5.seq2seq | training loss: 3.9206\n",
            "2023-04-13 11:26:46 | INFO | hw5.seq2seq | begin validation\n"
          ]
        },
        {
          "data": {
            "application/vnd.jupyter.widget-view+json": {
              "model_id": "94f2c925ca0f42d28af2becd23354459",
              "version_major": 2,
              "version_minor": 0
            },
            "text/plain": [
              "validation:   0%|          | 0/538 [00:00<?, ?it/s]"
            ]
          },
          "metadata": {},
          "output_type": "display_data"
        },
        {
          "name": "stdout",
          "output_type": "stream",
          "text": [
            "2023-04-13 11:27:34 | INFO | hw5.seq2seq | example source: sure , she had aged a little .\n",
            "2023-04-13 11:27:34 | INFO | hw5.seq2seq | example hypothesis: 當然 , 她已經很小了 。\n",
            "2023-04-13 11:27:34 | INFO | hw5.seq2seq | example reference: 當然 , 她老了一些 。\n",
            "2023-04-13 11:27:34 | INFO | hw5.seq2seq | validation loss:\t3.9454\n",
            "2023-04-13 11:27:34 | INFO | hw5.seq2seq | BLEU = 18.90 51.7/26.6/14.8/8.7 (BP = 0.921 ratio = 0.924 hyp_len = 101351 ref_len = 109719)\n",
            "2023-04-13 11:27:35 | INFO | hw5.seq2seq | saved epoch checkpoint: /home/frankchiang/cource/ml/hw5/checkpoints/rnn/checkpoint42.pt\n",
            "2023-04-13 11:27:35 | INFO | hw5.seq2seq | end of epoch 42\n"
          ]
        },
        {
          "data": {
            "application/vnd.jupyter.widget-view+json": {
              "model_id": "ed416bf7534049c397d8f12a04b02509",
              "version_major": 2,
              "version_minor": 0
            },
            "text/plain": [
              "train epoch 43:   0%|          | 0/13271 [00:00<?, ?it/s]"
            ]
          },
          "metadata": {},
          "output_type": "display_data"
        },
        {
          "name": "stdout",
          "output_type": "stream",
          "text": [
            "2023-04-13 11:35:51 | INFO | hw5.seq2seq | training loss: 3.9217\n",
            "2023-04-13 11:35:51 | INFO | hw5.seq2seq | begin validation\n"
          ]
        },
        {
          "data": {
            "application/vnd.jupyter.widget-view+json": {
              "model_id": "fb58b77aeed5498c8d6bfabfa6e92b29",
              "version_major": 2,
              "version_minor": 0
            },
            "text/plain": [
              "validation:   0%|          | 0/538 [00:00<?, ?it/s]"
            ]
          },
          "metadata": {},
          "output_type": "display_data"
        },
        {
          "name": "stdout",
          "output_type": "stream",
          "text": [
            "2023-04-13 11:36:39 | INFO | hw5.seq2seq | example source: i'd like to try something new .\n",
            "2023-04-13 11:36:39 | INFO | hw5.seq2seq | example hypothesis: 我想嘗試新的東西 。\n",
            "2023-04-13 11:36:39 | INFO | hw5.seq2seq | example reference: 我想嘗試一個新東西 ,\n",
            "2023-04-13 11:36:39 | INFO | hw5.seq2seq | validation loss:\t3.9444\n",
            "2023-04-13 11:36:39 | INFO | hw5.seq2seq | BLEU = 18.82 51.8/26.8/14.9/8.7 (BP = 0.914 ratio = 0.917 hyp_len = 100629 ref_len = 109719)\n",
            "2023-04-13 11:36:40 | INFO | hw5.seq2seq | saved epoch checkpoint: /home/frankchiang/cource/ml/hw5/checkpoints/rnn/checkpoint43.pt\n",
            "2023-04-13 11:36:40 | INFO | hw5.seq2seq | end of epoch 43\n"
          ]
        },
        {
          "data": {
            "application/vnd.jupyter.widget-view+json": {
              "model_id": "10869ea05149430387c0d71b60d5a762",
              "version_major": 2,
              "version_minor": 0
            },
            "text/plain": [
              "train epoch 44:   0%|          | 0/13271 [00:00<?, ?it/s]"
            ]
          },
          "metadata": {},
          "output_type": "display_data"
        },
        {
          "name": "stdout",
          "output_type": "stream",
          "text": [
            "2023-04-13 11:44:54 | INFO | hw5.seq2seq | training loss: 3.9218\n",
            "2023-04-13 11:44:54 | INFO | hw5.seq2seq | begin validation\n"
          ]
        },
        {
          "data": {
            "application/vnd.jupyter.widget-view+json": {
              "model_id": "15d183d9f1ba445ea4b1de80a54b11e2",
              "version_major": 2,
              "version_minor": 0
            },
            "text/plain": [
              "validation:   0%|          | 0/538 [00:00<?, ?it/s]"
            ]
          },
          "metadata": {},
          "output_type": "display_data"
        },
        {
          "name": "stdout",
          "output_type": "stream",
          "text": [
            "2023-04-13 11:45:42 | INFO | hw5.seq2seq | example source: jd: it varies .\n",
            "2023-04-13 11:45:42 | INFO | hw5.seq2seq | example hypothesis: jd:它變了 。\n",
            "2023-04-13 11:45:42 | INFO | hw5.seq2seq | example reference: 多:不一定 。\n",
            "2023-04-13 11:45:42 | INFO | hw5.seq2seq | validation loss:\t3.9491\n",
            "2023-04-13 11:45:42 | INFO | hw5.seq2seq | BLEU = 18.72 52.2/27.0/15.1/8.8 (BP = 0.901 ratio = 0.905 hyp_len = 99347 ref_len = 109719)\n",
            "2023-04-13 11:45:43 | INFO | hw5.seq2seq | saved epoch checkpoint: /home/frankchiang/cource/ml/hw5/checkpoints/rnn/checkpoint44.pt\n",
            "2023-04-13 11:45:43 | INFO | hw5.seq2seq | end of epoch 44\n"
          ]
        },
        {
          "data": {
            "application/vnd.jupyter.widget-view+json": {
              "model_id": "d45282a3df3d42c490e8f9650dda2dbc",
              "version_major": 2,
              "version_minor": 0
            },
            "text/plain": [
              "train epoch 45:   0%|          | 0/13271 [00:00<?, ?it/s]"
            ]
          },
          "metadata": {},
          "output_type": "display_data"
        },
        {
          "name": "stdout",
          "output_type": "stream",
          "text": [
            "2023-04-13 11:54:01 | INFO | hw5.seq2seq | training loss: 3.9233\n",
            "2023-04-13 11:54:01 | INFO | hw5.seq2seq | begin validation\n"
          ]
        },
        {
          "data": {
            "application/vnd.jupyter.widget-view+json": {
              "model_id": "34b6f7c5057f445086642570bc7a85d0",
              "version_major": 2,
              "version_minor": 0
            },
            "text/plain": [
              "validation:   0%|          | 0/538 [00:00<?, ?it/s]"
            ]
          },
          "metadata": {},
          "output_type": "display_data"
        },
        {
          "name": "stdout",
          "output_type": "stream",
          "text": [
            "2023-04-13 11:54:49 | INFO | hw5.seq2seq | example source: if we can somehow encourage these molecules to talk to each other and make the right shapes and compete , they will start to form cells that will replicate and compete .\n",
            "2023-04-13 11:54:49 | INFO | hw5.seq2seq | example hypothesis: 如果我們能把這些分子互相交談 , 互相交流 , 製造正確的形狀和競爭 , 它們就會開始形成細胞可以複製和競爭 。\n",
            "2023-04-13 11:54:49 | INFO | hw5.seq2seq | example reference: 如果我們可以鼓勵這些分子彼此交流並且做成正確的形狀和競爭它們就會開始形成細胞這些細胞會複製和競爭\n",
            "2023-04-13 11:54:49 | INFO | hw5.seq2seq | validation loss:\t3.9508\n",
            "2023-04-13 11:54:49 | INFO | hw5.seq2seq | BLEU = 18.74 52.2/26.9/15.0/8.8 (BP = 0.904 ratio = 0.909 hyp_len = 99686 ref_len = 109719)\n",
            "2023-04-13 11:54:49 | INFO | hw5.seq2seq | saved epoch checkpoint: /home/frankchiang/cource/ml/hw5/checkpoints/rnn/checkpoint45.pt\n",
            "2023-04-13 11:54:49 | INFO | hw5.seq2seq | end of epoch 45\n"
          ]
        },
        {
          "data": {
            "application/vnd.jupyter.widget-view+json": {
              "model_id": "63e8ff2b07744603ab3d2199f4098519",
              "version_major": 2,
              "version_minor": 0
            },
            "text/plain": [
              "train epoch 46:   0%|          | 0/13271 [00:00<?, ?it/s]"
            ]
          },
          "metadata": {},
          "output_type": "display_data"
        },
        {
          "name": "stdout",
          "output_type": "stream",
          "text": [
            "2023-04-13 12:03:06 | INFO | hw5.seq2seq | training loss: 3.9243\n",
            "2023-04-13 12:03:06 | INFO | hw5.seq2seq | begin validation\n"
          ]
        },
        {
          "data": {
            "application/vnd.jupyter.widget-view+json": {
              "model_id": "5d0695c0e930470ba80333aa90eb0b51",
              "version_major": 2,
              "version_minor": 0
            },
            "text/plain": [
              "validation:   0%|          | 0/538 [00:00<?, ?it/s]"
            ]
          },
          "metadata": {},
          "output_type": "display_data"
        },
        {
          "name": "stdout",
          "output_type": "stream",
          "text": [
            "2023-04-13 12:03:54 | INFO | hw5.seq2seq | example source: the things on the lefthand side of the diagram , those are the boxes .\n",
            "2023-04-13 12:03:54 | INFO | hw5.seq2seq | example hypothesis: 左邊的圖片就是盒子 。\n",
            "2023-04-13 12:03:54 | INFO | hw5.seq2seq | example reference: 圖左邊的這些那些是方框.\n",
            "2023-04-13 12:03:54 | INFO | hw5.seq2seq | validation loss:\t3.9479\n",
            "2023-04-13 12:03:54 | INFO | hw5.seq2seq | BLEU = 18.93 51.9/26.8/15.0/8.8 (BP = 0.916 ratio = 0.920 hyp_len = 100890 ref_len = 109719)\n",
            "2023-04-13 12:03:55 | INFO | hw5.seq2seq | saved epoch checkpoint: /home/frankchiang/cource/ml/hw5/checkpoints/rnn/checkpoint46.pt\n",
            "2023-04-13 12:03:55 | INFO | hw5.seq2seq | end of epoch 46\n"
          ]
        },
        {
          "data": {
            "application/vnd.jupyter.widget-view+json": {
              "model_id": "b6d6acc9b92246f4b97ecb8039d1d371",
              "version_major": 2,
              "version_minor": 0
            },
            "text/plain": [
              "train epoch 47:   0%|          | 0/13271 [00:00<?, ?it/s]"
            ]
          },
          "metadata": {},
          "output_type": "display_data"
        },
        {
          "name": "stdout",
          "output_type": "stream",
          "text": [
            "2023-04-13 12:12:10 | INFO | hw5.seq2seq | training loss: 3.9251\n",
            "2023-04-13 12:12:10 | INFO | hw5.seq2seq | begin validation\n"
          ]
        },
        {
          "data": {
            "application/vnd.jupyter.widget-view+json": {
              "model_id": "965e55685e8f44d880e95ef54e2b7b28",
              "version_major": 2,
              "version_minor": 0
            },
            "text/plain": [
              "validation:   0%|          | 0/538 [00:00<?, ?it/s]"
            ]
          },
          "metadata": {},
          "output_type": "display_data"
        },
        {
          "name": "stdout",
          "output_type": "stream",
          "text": [
            "2023-04-13 12:12:57 | INFO | hw5.seq2seq | example source: they look a little bit more like a cross between a wookiee and a pig .\n",
            "2023-04-13 12:12:57 | INFO | hw5.seq2seq | example hypothesis: 牠們看起來有點像在樹木和狗之間之間的交叉 。\n",
            "2023-04-13 12:12:57 | INFO | hw5.seq2seq | example reference: 牠們比較像武技獸及豬的混種 。\n",
            "2023-04-13 12:12:57 | INFO | hw5.seq2seq | validation loss:\t3.9530\n",
            "2023-04-13 12:12:57 | INFO | hw5.seq2seq | BLEU = 18.70 52.5/27.2/15.1/8.9 (BP = 0.893 ratio = 0.899 hyp_len = 98584 ref_len = 109719)\n",
            "2023-04-13 12:12:58 | INFO | hw5.seq2seq | saved epoch checkpoint: /home/frankchiang/cource/ml/hw5/checkpoints/rnn/checkpoint47.pt\n",
            "2023-04-13 12:12:58 | INFO | hw5.seq2seq | end of epoch 47\n"
          ]
        },
        {
          "data": {
            "application/vnd.jupyter.widget-view+json": {
              "model_id": "9ccfa56a924a41bb89353ee895e200ed",
              "version_major": 2,
              "version_minor": 0
            },
            "text/plain": [
              "train epoch 48:   0%|          | 0/13271 [00:00<?, ?it/s]"
            ]
          },
          "metadata": {},
          "output_type": "display_data"
        },
        {
          "name": "stdout",
          "output_type": "stream",
          "text": [
            "2023-04-13 12:21:14 | INFO | hw5.seq2seq | training loss: 3.9261\n",
            "2023-04-13 12:21:14 | INFO | hw5.seq2seq | begin validation\n"
          ]
        },
        {
          "data": {
            "application/vnd.jupyter.widget-view+json": {
              "model_id": "9d7eea247a4749d5807288b4270d8fc5",
              "version_major": 2,
              "version_minor": 0
            },
            "text/plain": [
              "validation:   0%|          | 0/538 [00:00<?, ?it/s]"
            ]
          },
          "metadata": {},
          "output_type": "display_data"
        },
        {
          "name": "stdout",
          "output_type": "stream",
          "text": [
            "2023-04-13 12:22:02 | INFO | hw5.seq2seq | example source: thank you .\n",
            "2023-04-13 12:22:02 | INFO | hw5.seq2seq | example hypothesis: 謝謝 。\n",
            "2023-04-13 12:22:02 | INFO | hw5.seq2seq | example reference: 謝謝你 。\n",
            "2023-04-13 12:22:02 | INFO | hw5.seq2seq | validation loss:\t3.9510\n",
            "2023-04-13 12:22:02 | INFO | hw5.seq2seq | BLEU = 18.82 52.1/27.0/15.0/8.8 (BP = 0.907 ratio = 0.911 hyp_len = 99935 ref_len = 109719)\n",
            "2023-04-13 12:22:03 | INFO | hw5.seq2seq | saved epoch checkpoint: /home/frankchiang/cource/ml/hw5/checkpoints/rnn/checkpoint48.pt\n",
            "2023-04-13 12:22:03 | INFO | hw5.seq2seq | end of epoch 48\n"
          ]
        },
        {
          "data": {
            "application/vnd.jupyter.widget-view+json": {
              "model_id": "877bbdd153d54c5e8afff5be0302eb58",
              "version_major": 2,
              "version_minor": 0
            },
            "text/plain": [
              "train epoch 49:   0%|          | 0/13271 [00:00<?, ?it/s]"
            ]
          },
          "metadata": {},
          "output_type": "display_data"
        },
        {
          "name": "stdout",
          "output_type": "stream",
          "text": [
            "2023-04-13 12:30:21 | INFO | hw5.seq2seq | training loss: 3.9252\n",
            "2023-04-13 12:30:21 | INFO | hw5.seq2seq | begin validation\n"
          ]
        },
        {
          "data": {
            "application/vnd.jupyter.widget-view+json": {
              "model_id": "e4d4e231b9624f72aefa77b4242fbd70",
              "version_major": 2,
              "version_minor": 0
            },
            "text/plain": [
              "validation:   0%|          | 0/538 [00:00<?, ?it/s]"
            ]
          },
          "metadata": {},
          "output_type": "display_data"
        },
        {
          "name": "stdout",
          "output_type": "stream",
          "text": [
            "2023-04-13 12:31:10 | INFO | hw5.seq2seq | example source: or do we , besides reducing human antibiotic consumption , truly start embracing antibioticfree animal production ?\n",
            "2023-04-13 12:31:10 | INFO | hw5.seq2seq | example hypothesis: 或者 , 我們是否在減少人類抗生素的抗生素 , 真的開始擁抱抗生素藥物 ?\n",
            "2023-04-13 12:31:10 | INFO | hw5.seq2seq | example reference: 還是除了減少把抗生素用在人類身上之外 , 也要真正去擁抱無抗生素的動物產品 ?\n",
            "2023-04-13 12:31:10 | INFO | hw5.seq2seq | validation loss:\t3.9491\n",
            "2023-04-13 12:31:10 | INFO | hw5.seq2seq | BLEU = 18.87 52.0/26.9/14.9/8.8 (BP = 0.912 ratio = 0.916 hyp_len = 100500 ref_len = 109719)\n",
            "2023-04-13 12:31:11 | INFO | hw5.seq2seq | saved epoch checkpoint: /home/frankchiang/cource/ml/hw5/checkpoints/rnn/checkpoint49.pt\n",
            "2023-04-13 12:31:11 | INFO | hw5.seq2seq | end of epoch 49\n"
          ]
        },
        {
          "data": {
            "application/vnd.jupyter.widget-view+json": {
              "model_id": "cee4c9f2cdb9418f88a69fda2907944c",
              "version_major": 2,
              "version_minor": 0
            },
            "text/plain": [
              "train epoch 50:   0%|          | 0/13271 [00:00<?, ?it/s]"
            ]
          },
          "metadata": {},
          "output_type": "display_data"
        },
        {
          "name": "stdout",
          "output_type": "stream",
          "text": [
            "2023-04-13 12:39:26 | INFO | hw5.seq2seq | training loss: 3.9254\n",
            "2023-04-13 12:39:26 | INFO | hw5.seq2seq | begin validation\n"
          ]
        },
        {
          "data": {
            "application/vnd.jupyter.widget-view+json": {
              "model_id": "3a26d50ae5b049b4802d6c87281dbe95",
              "version_major": 2,
              "version_minor": 0
            },
            "text/plain": [
              "validation:   0%|          | 0/538 [00:00<?, ?it/s]"
            ]
          },
          "metadata": {},
          "output_type": "display_data"
        },
        {
          "name": "stdout",
          "output_type": "stream",
          "text": [
            "2023-04-13 12:40:14 | INFO | hw5.seq2seq | example source: the other one is an ion tail , which is charged particles , and they follow the magnetic field in the solar system .\n",
            "2023-04-13 12:40:14 | INFO | hw5.seq2seq | example hypothesis: 另一組是太陽系的磁場 , 太陽系裡的磁場 。\n",
            "2023-04-13 12:40:14 | INFO | hw5.seq2seq | example reference: 另一條是離子尾 , 含帶電粒子 , 其方向遵循太陽系內磁場方向 。\n",
            "2023-04-13 12:40:14 | INFO | hw5.seq2seq | validation loss:\t3.9477\n",
            "2023-04-13 12:40:14 | INFO | hw5.seq2seq | BLEU = 18.90 51.5/26.5/14.7/8.6 (BP = 0.927 ratio = 0.930 hyp_len = 102022 ref_len = 109719)\n",
            "2023-04-13 12:40:15 | INFO | hw5.seq2seq | saved epoch checkpoint: /home/frankchiang/cource/ml/hw5/checkpoints/rnn/checkpoint50.pt\n",
            "2023-04-13 12:40:15 | INFO | hw5.seq2seq | end of epoch 50\n"
          ]
        },
        {
          "data": {
            "application/vnd.jupyter.widget-view+json": {
              "model_id": "f028b3945e884606a35cfeafae0f372e",
              "version_major": 2,
              "version_minor": 0
            },
            "text/plain": [
              "train epoch 51:   0%|          | 0/13271 [00:00<?, ?it/s]"
            ]
          },
          "metadata": {},
          "output_type": "display_data"
        },
        {
          "name": "stdout",
          "output_type": "stream",
          "text": [
            "2023-04-13 12:48:34 | INFO | hw5.seq2seq | training loss: 3.9255\n",
            "2023-04-13 12:48:34 | INFO | hw5.seq2seq | begin validation\n"
          ]
        },
        {
          "data": {
            "application/vnd.jupyter.widget-view+json": {
              "model_id": "99aa20fedeeb41e6812aef695d33628b",
              "version_major": 2,
              "version_minor": 0
            },
            "text/plain": [
              "validation:   0%|          | 0/538 [00:00<?, ?it/s]"
            ]
          },
          "metadata": {},
          "output_type": "display_data"
        },
        {
          "name": "stdout",
          "output_type": "stream",
          "text": [
            "2023-04-13 12:49:22 | INFO | hw5.seq2seq | example source: we don't program them . we teach them .\n",
            "2023-04-13 12:49:22 | INFO | hw5.seq2seq | example hypothesis: 我們不計算他們 。 我們教他們 。\n",
            "2023-04-13 12:49:22 | INFO | hw5.seq2seq | example reference: 我們不寫電腦程式 。 我們教它們 。\n",
            "2023-04-13 12:49:22 | INFO | hw5.seq2seq | validation loss:\t3.9467\n",
            "2023-04-13 12:49:22 | INFO | hw5.seq2seq | BLEU = 19.09 51.6/26.7/14.9/8.7 (BP = 0.929 ratio = 0.931 hyp_len = 102196 ref_len = 109719)\n",
            "2023-04-13 12:49:23 | INFO | hw5.seq2seq | saved epoch checkpoint: /home/frankchiang/cource/ml/hw5/checkpoints/rnn/checkpoint51.pt\n",
            "2023-04-13 12:49:23 | INFO | hw5.seq2seq | end of epoch 51\n"
          ]
        },
        {
          "data": {
            "application/vnd.jupyter.widget-view+json": {
              "model_id": "f48c9fb4a04a4758bdc97d33f0d9ac4a",
              "version_major": 2,
              "version_minor": 0
            },
            "text/plain": [
              "train epoch 52:   0%|          | 0/13271 [00:00<?, ?it/s]"
            ]
          },
          "metadata": {},
          "output_type": "display_data"
        },
        {
          "name": "stdout",
          "output_type": "stream",
          "text": [
            "2023-04-13 12:57:37 | INFO | hw5.seq2seq | training loss: 3.9256\n",
            "2023-04-13 12:57:37 | INFO | hw5.seq2seq | begin validation\n"
          ]
        },
        {
          "data": {
            "application/vnd.jupyter.widget-view+json": {
              "model_id": "c76613045c0740fdbb3e25d4e8031248",
              "version_major": 2,
              "version_minor": 0
            },
            "text/plain": [
              "validation:   0%|          | 0/538 [00:00<?, ?it/s]"
            ]
          },
          "metadata": {},
          "output_type": "display_data"
        },
        {
          "name": "stdout",
          "output_type": "stream",
          "text": [
            "2023-04-13 12:58:26 | INFO | hw5.seq2seq | example source: but we wanted them .\n",
            "2023-04-13 12:58:26 | INFO | hw5.seq2seq | example hypothesis: 但我們想要他們 。\n",
            "2023-04-13 12:58:26 | INFO | hw5.seq2seq | example reference: 但我們想要 。\n",
            "2023-04-13 12:58:26 | INFO | hw5.seq2seq | validation loss:\t3.9478\n",
            "2023-04-13 12:58:26 | INFO | hw5.seq2seq | BLEU = 18.85 51.2/26.4/14.7/8.5 (BP = 0.930 ratio = 0.932 hyp_len = 102286 ref_len = 109719)\n",
            "2023-04-13 12:58:27 | INFO | hw5.seq2seq | saved epoch checkpoint: /home/frankchiang/cource/ml/hw5/checkpoints/rnn/checkpoint52.pt\n",
            "2023-04-13 12:58:27 | INFO | hw5.seq2seq | end of epoch 52\n"
          ]
        },
        {
          "data": {
            "application/vnd.jupyter.widget-view+json": {
              "model_id": "386f86ad69254cf9882077374c06cf42",
              "version_major": 2,
              "version_minor": 0
            },
            "text/plain": [
              "train epoch 53:   0%|          | 0/13271 [00:00<?, ?it/s]"
            ]
          },
          "metadata": {},
          "output_type": "display_data"
        },
        {
          "name": "stdout",
          "output_type": "stream",
          "text": [
            "2023-04-13 13:06:42 | INFO | hw5.seq2seq | training loss: 3.9252\n",
            "2023-04-13 13:06:42 | INFO | hw5.seq2seq | begin validation\n"
          ]
        },
        {
          "data": {
            "application/vnd.jupyter.widget-view+json": {
              "model_id": "6499dd5928334b4f8bc3af349979c0df",
              "version_major": 2,
              "version_minor": 0
            },
            "text/plain": [
              "validation:   0%|          | 0/538 [00:00<?, ?it/s]"
            ]
          },
          "metadata": {},
          "output_type": "display_data"
        },
        {
          "name": "stdout",
          "output_type": "stream",
          "text": [
            "2023-04-13 13:07:32 | INFO | hw5.seq2seq | example source: reputation is the measurement of how much a community trusts you .\n",
            "2023-04-13 13:07:32 | INFO | hw5.seq2seq | example hypothesis: 重組是 「 社群信任 」 的衡量 。\n",
            "2023-04-13 13:07:32 | INFO | hw5.seq2seq | example reference: 信譽代表了一個社群對你的信任度\n",
            "2023-04-13 13:07:32 | INFO | hw5.seq2seq | validation loss:\t3.9485\n",
            "2023-04-13 13:07:32 | INFO | hw5.seq2seq | BLEU = 18.91 51.6/26.5/14.7/8.6 (BP = 0.929 ratio = 0.931 hyp_len = 102176 ref_len = 109719)\n",
            "2023-04-13 13:07:33 | INFO | hw5.seq2seq | saved epoch checkpoint: /home/frankchiang/cource/ml/hw5/checkpoints/rnn/checkpoint53.pt\n",
            "2023-04-13 13:07:33 | INFO | hw5.seq2seq | end of epoch 53\n"
          ]
        }
      ],
      "source": [
        "epoch_itr = load_data_iterator(task, \"train\", config.start_epoch, config.max_tokens, config.num_workers)\n",
        "try_load_checkpoint(model, optimizer, name=config.resume)\n",
        "bad_count = 0\n",
        "while epoch_itr.next_epoch_idx <= config.max_epoch:\n",
        "    # train for one epoch\n",
        "    train_one_epoch(epoch_itr, model, task, criterion, optimizer, config.accum_steps)\n",
        "    stats, bad_count = validate_and_save(model, task, criterion, optimizer, epoch=epoch_itr.epoch, bad_count=bad_count)\n",
        "    logger.info(\"end of epoch {}\".format(epoch_itr.epoch))    \n",
        "    epoch_itr = load_data_iterator(task, \"train\", epoch_itr.next_epoch_idx, config.max_tokens, config.num_workers)\n",
        "    if (bad_count >= config.early_stop):\n",
        "        break"
      ]
    },
    {
      "cell_type": "markdown",
      "metadata": {
        "id": "KyjRwllxPjtf"
      },
      "source": [
        "# Submission"
      ]
    },
    {
      "cell_type": "code",
      "execution_count": 46,
      "metadata": {
        "id": "N70Gc6smPi1d"
      },
      "outputs": [
        {
          "name": "stdout",
          "output_type": "stream",
          "text": [
            "Namespace(checkpoint_upper_bound=None, inputs=['./checkpoints/rnn'], num_epoch_checkpoints=5, num_update_checkpoints=None, output='./checkpoints/rnn/avg_last_5_checkpoint.pt')\n",
            "averaging checkpoints:  ['./checkpoints/rnn/checkpoint108.pt', './checkpoints/rnn/checkpoint107.pt', './checkpoints/rnn/checkpoint106.pt', './checkpoints/rnn/checkpoint105.pt', './checkpoints/rnn/checkpoint104.pt']\n",
            "Finished writing averaged checkpoint to ./checkpoints/rnn/avg_last_5_checkpoint.pt\n"
          ]
        }
      ],
      "source": [
        "# averaging a few checkpoints can have a similar effect to ensemble\n",
        "checkdir=config.savedir\n",
        "!python ./fairseq/scripts/average_checkpoints.py \\\n",
        "--inputs {checkdir} \\\n",
        "--num-epoch-checkpoints 5 \\\n",
        "--output {checkdir}/avg_last_5_checkpoint.pt"
      ]
    },
    {
      "cell_type": "markdown",
      "metadata": {
        "id": "BAGMiun8PnZy"
      },
      "source": [
        "## Confirm model weights used to generate submission"
      ]
    },
    {
      "cell_type": "code",
      "execution_count": 47,
      "metadata": {
        "id": "tvRdivVUPnsU"
      },
      "outputs": [
        {
          "name": "stdout",
          "output_type": "stream",
          "text": [
            "2023-04-13 17:43:30 | INFO | hw5.seq2seq | loaded checkpoint checkpoints/rnn/avg_last_5_checkpoint.pt: step=unknown loss=3.8207924365997314 bleu=19.748331233019552\n",
            "2023-04-13 17:43:30 | INFO | hw5.seq2seq | begin validation\n"
          ]
        },
        {
          "data": {
            "application/vnd.jupyter.widget-view+json": {
              "model_id": "5759f13e55fa43ffb6cb2ca67398620c",
              "version_major": 2,
              "version_minor": 0
            },
            "text/plain": [
              "validation:   0%|          | 0/538 [00:00<?, ?it/s]"
            ]
          },
          "metadata": {},
          "output_type": "display_data"
        },
        {
          "name": "stdout",
          "output_type": "stream",
          "text": [
            "2023-04-13 17:44:18 | INFO | hw5.seq2seq | example source: i once this was years ago i saw ted kennedy and dan quayle meet in the well of the senate .\n",
            "2023-04-13 17:44:18 | INFO | hw5.seq2seq | example hypothesis: 幾年前 , 我看到了ted甘迺迪和丹·安德森 , 在聯合國的會議上 。\n",
            "2023-04-13 17:44:18 | INFO | hw5.seq2seq | example reference: 幾年前我見到ted甘乃迪和danquayle在議會池相遇\n",
            "2023-04-13 17:44:18 | INFO | hw5.seq2seq | validation loss:\t3.8162\n",
            "2023-04-13 17:44:18 | INFO | hw5.seq2seq | BLEU = 19.89 53.1/27.9/15.7/9.3 (BP = 0.922 ratio = 0.925 hyp_len = 101473 ref_len = 109719)\n"
          ]
        }
      ],
      "source": [
        "# checkpoint_last.pt : latest epoch\n",
        "# checkpoint_best.pt : highest validation bleu\n",
        "# avg_last_5_checkpoint.pt: the average of last 5 epochs\n",
        "try_load_checkpoint(model, name=\"avg_last_5_checkpoint.pt\")\n",
        "validate(model, task, criterion, log_to_wandb=False)\n",
        "None"
      ]
    },
    {
      "cell_type": "markdown",
      "metadata": {
        "id": "ioAIflXpPsxt"
      },
      "source": [
        "## Generate Prediction"
      ]
    },
    {
      "cell_type": "code",
      "execution_count": 48,
      "metadata": {
        "id": "oYMxA8FlPtIq"
      },
      "outputs": [],
      "source": [
        "def generate_prediction(model, task, split=\"test\", outfile=\"./prediction.txt\"):    \n",
        "    task.load_dataset(split=split, epoch=1)\n",
        "    itr = load_data_iterator(task, split, 1, config.max_tokens, config.num_workers).next_epoch_itr(shuffle=False)\n",
        "    \n",
        "    idxs = []\n",
        "    hyps = []\n",
        "\n",
        "    model.eval()\n",
        "    progress = tqdm.tqdm(itr, desc=f\"prediction\")\n",
        "    with torch.no_grad():\n",
        "        for i, sample in enumerate(progress):\n",
        "            # validation loss\n",
        "            sample = utils.move_to_cuda(sample, device=device)\n",
        "\n",
        "            # do inference\n",
        "            s, h, r = inference_step(sample, model)\n",
        "            \n",
        "            hyps.extend(h)\n",
        "            idxs.extend(list(sample['id']))\n",
        "            \n",
        "    # sort based on the order before preprocess\n",
        "    hyps = [x for _,x in sorted(zip(idxs,hyps))]\n",
        "    \n",
        "    with open(outfile, \"w\") as f:\n",
        "        for h in hyps:\n",
        "            f.write(h+\"\\n\")"
      ]
    },
    {
      "cell_type": "code",
      "execution_count": 49,
      "metadata": {
        "id": "Le4RFWXxjmm0"
      },
      "outputs": [
        {
          "name": "stdout",
          "output_type": "stream",
          "text": [
            "2023-04-13 17:44:18 | INFO | fairseq.data.data_utils | loaded 4,000 examples from: ./DATA/data-bin/ted2020/test.en-zh.en\n",
            "2023-04-13 17:44:18 | INFO | fairseq.data.data_utils | loaded 4,000 examples from: ./DATA/data-bin/ted2020/test.en-zh.zh\n",
            "2023-04-13 17:44:18 | INFO | fairseq.tasks.translation | ./DATA/data-bin/ted2020 test en-zh 4000 examples\n",
            "2023-04-13 17:44:18 | WARNING | fairseq.tasks.fairseq_task | 5 samples have invalid sizes and will be skipped, max_positions=(256, 256), first few sample ids=[1620, 241, 3571, 3752, 1805]\n"
          ]
        },
        {
          "data": {
            "application/vnd.jupyter.widget-view+json": {
              "model_id": "84cdf898f16644fca5017a4f33ef5289",
              "version_major": 2,
              "version_minor": 0
            },
            "text/plain": [
              "prediction:   0%|          | 0/538 [00:00<?, ?it/s]"
            ]
          },
          "metadata": {},
          "output_type": "display_data"
        }
      ],
      "source": [
        "from datetime import datetime\n",
        "\n",
        "start_time = datetime.now().strftime(\"%m-%d-%H-%M\")\n",
        "outfile_name = \"prediction_\"+start_time+\".txt\"\n",
        "generate_prediction(model, task, outfile=outfile_name)"
      ]
    },
    {
      "cell_type": "code",
      "execution_count": 308,
      "metadata": {
        "id": "wvenyi6BPwnD"
      },
      "outputs": [
        {
          "ename": "RuntimeError",
          "evalue": "No active exception to reraise",
          "output_type": "error",
          "traceback": [
            "\u001b[0;31m---------------------------------------------------------------------------\u001b[0m",
            "\u001b[0;31mRuntimeError\u001b[0m                              Traceback (most recent call last)",
            "\u001b[0;32m/tmp/ipykernel_1881553/2235509928.py\u001b[0m in \u001b[0;36m<module>\u001b[0;34m\u001b[0m\n\u001b[0;32m----> 1\u001b[0;31m \u001b[0;32mraise\u001b[0m\u001b[0;34m\u001b[0m\u001b[0;34m\u001b[0m\u001b[0m\n\u001b[0m",
            "\u001b[0;31mRuntimeError\u001b[0m: No active exception to reraise"
          ]
        }
      ],
      "source": [
        "raise"
      ]
    },
    {
      "cell_type": "markdown",
      "metadata": {
        "id": "1z0cJE-wPzaU"
      },
      "source": [
        "# Back-translation"
      ]
    },
    {
      "cell_type": "markdown",
      "metadata": {
        "id": "5-7uPJ2CP0sm"
      },
      "source": [
        "## Train a backward translation model"
      ]
    },
    {
      "cell_type": "markdown",
      "metadata": {
        "id": "ppGHjg2ZP3sV"
      },
      "source": [
        "1. Switch the source_lang and target_lang in **config** \n",
        "2. Change the savedir in **config** (eg. \"./checkpoints/transformer-back\")\n",
        "3. Train model"
      ]
    },
    {
      "cell_type": "markdown",
      "metadata": {
        "id": "waTGz29UP6WI"
      },
      "source": [
        "## Generate synthetic data with backward model "
      ]
    },
    {
      "cell_type": "markdown",
      "metadata": {
        "id": "sIeTsPexP8FL"
      },
      "source": [
        "### Download monolingual data"
      ]
    },
    {
      "cell_type": "code",
      "execution_count": null,
      "metadata": {
        "id": "i7N4QlsbP8fh"
      },
      "outputs": [],
      "source": [
        "mono_dataset_name = 'mono'"
      ]
    },
    {
      "cell_type": "code",
      "execution_count": null,
      "metadata": {
        "id": "396saD9-QBPY"
      },
      "outputs": [
        {
          "name": "stdout",
          "output_type": "stream",
          "text": [
            "ted_zh_corpus.deduped.gz is exist, skip downloading\n"
          ]
        }
      ],
      "source": [
        "mono_prefix = Path(data_dir).absolute() / mono_dataset_name\n",
        "mono_prefix.mkdir(parents=True, exist_ok=True)\n",
        "\n",
        "urls = (\n",
        "    \"https://github.com/figisiwirf/ml2023-hw5-dataset/releases/download/v1.0.1/ted_zh_corpus.deduped.gz\",\n",
        ")\n",
        "file_names = (\n",
        "    'ted_zh_corpus.deduped.gz',\n",
        ")\n",
        "\n",
        "for u, f in zip(urls, file_names):\n",
        "    path = mono_prefix/f\n",
        "    if not path.exists():\n",
        "        !wget {u} -O {path}\n",
        "    else:\n",
        "        print(f'{f} is exist, skip downloading')\n",
        "    if path.suffix == \".tgz\":\n",
        "        !tar -xvf {path} -C {prefix}\n",
        "    elif path.suffix == \".zip\":\n",
        "        !unzip -o {path} -d {prefix}\n",
        "    elif path.suffix == \".gz\":\n",
        "        !gzip -fkd {path}"
      ]
    },
    {
      "cell_type": "markdown",
      "metadata": {
        "id": "JOVQRHzGQU4-"
      },
      "source": [
        "### TODO: clean corpus\n",
        "\n",
        "1. remove sentences that are too long or too short\n",
        "2. unify punctuation\n",
        "\n",
        "hint: you can use clean_s() defined above to do this"
      ]
    },
    {
      "cell_type": "code",
      "execution_count": null,
      "metadata": {
        "id": "eIYmxfUOQSov"
      },
      "outputs": [],
      "source": []
    },
    {
      "cell_type": "markdown",
      "metadata": {
        "id": "jegH0bvMQVmR"
      },
      "source": [
        "### TODO: Subword Units\n",
        "\n",
        "Use the spm model of the backward model to tokenize the data into subword units\n",
        "\n",
        "hint: spm model is located at DATA/raw-data/\\[dataset\\]/spm\\[vocab_num\\].model"
      ]
    },
    {
      "cell_type": "code",
      "execution_count": null,
      "metadata": {
        "id": "vqgR4uUMQZGY"
      },
      "outputs": [],
      "source": []
    },
    {
      "cell_type": "markdown",
      "metadata": {
        "id": "a65glBVXQZiE"
      },
      "source": [
        "### Binarize\n",
        "\n",
        "use fairseq to binarize data"
      ]
    },
    {
      "cell_type": "code",
      "execution_count": null,
      "metadata": {
        "id": "b803qA5aQaEu"
      },
      "outputs": [
        {
          "name": "stdout",
          "output_type": "stream",
          "text": [
            "DATA/data-bin/mono exists, will not overwrite!\n"
          ]
        }
      ],
      "source": [
        "binpath = Path('./DATA/data-bin', mono_dataset_name)\n",
        "src_dict_file = './DATA/data-bin/ted2020/dict.en.txt'\n",
        "tgt_dict_file = src_dict_file\n",
        "monopref = str(mono_prefix/\"mono.tok\") # whatever filepath you get after applying subword tokenization\n",
        "if binpath.exists():\n",
        "    print(binpath, \"exists, will not overwrite!\")\n",
        "else:\n",
        "    !python -m fairseq_cli.preprocess\\\n",
        "        --source-lang 'zh'\\\n",
        "        --target-lang 'en'\\\n",
        "        --trainpref {monopref}\\\n",
        "        --destdir {binpath}\\\n",
        "        --srcdict {src_dict_file}\\\n",
        "        --tgtdict {tgt_dict_file}\\\n",
        "        --workers 2"
      ]
    },
    {
      "cell_type": "markdown",
      "metadata": {
        "id": "smA0JraEQdxz"
      },
      "source": [
        "### TODO: Generate synthetic data with backward model\n",
        "\n",
        "Add binarized monolingual data to the original data directory, and name it with \"split_name\"\n",
        "\n",
        "ex. ./DATA/data-bin/ted2020/\\[split_name\\].zh-en.\\[\"en\", \"zh\"\\].\\[\"bin\", \"idx\"\\]\n",
        "\n",
        "then you can use 'generate_prediction(model, task, split=\"split_name\")' to generate translation prediction"
      ]
    },
    {
      "cell_type": "code",
      "execution_count": null,
      "metadata": {
        "id": "jvaOVHeoQfkB"
      },
      "outputs": [
        {
          "name": "stdout",
          "output_type": "stream",
          "text": [
            "cp: cannot stat './DATA/data-bin/mono/train.zh-en.zh.bin': No such file or directory\n",
            "cp: cannot stat './DATA/data-bin/mono/train.zh-en.zh.idx': No such file or directory\n",
            "cp: cannot stat './DATA/data-bin/mono/train.zh-en.en.bin': No such file or directory\n",
            "cp: cannot stat './DATA/data-bin/mono/train.zh-en.en.idx': No such file or directory\n"
          ]
        }
      ],
      "source": [
        "# Add binarized monolingual data to the original data directory, and name it with \"split_name\"\n",
        "# ex. ./DATA/data-bin/ted2020/\\[split_name\\].zh-en.\\[\"en\", \"zh\"\\].\\[\"bin\", \"idx\"\\]\n",
        "!cp ./DATA/data-bin/mono/train.zh-en.zh.bin ./DATA/data-bin/ted2020/mono.zh-en.zh.bin\n",
        "!cp ./DATA/data-bin/mono/train.zh-en.zh.idx ./DATA/data-bin/ted2020/mono.zh-en.zh.idx\n",
        "!cp ./DATA/data-bin/mono/train.zh-en.en.bin ./DATA/data-bin/ted2020/mono.zh-en.en.bin\n",
        "!cp ./DATA/data-bin/mono/train.zh-en.en.idx ./DATA/data-bin/ted2020/mono.zh-en.en.idx"
      ]
    },
    {
      "cell_type": "code",
      "execution_count": null,
      "metadata": {
        "id": "fFEkxPu-Qhlc"
      },
      "outputs": [],
      "source": [
        "# hint: do prediction on split='mono' to create prediction_file\n",
        "# generate_prediction( ... ,split=... ,outfile=... )"
      ]
    },
    {
      "cell_type": "markdown",
      "metadata": {
        "id": "Jn4XeawpQjLk"
      },
      "source": [
        "### TODO: Create new dataset\n",
        "\n",
        "1. Combine the prediction data with monolingual data\n",
        "2. Use the original spm model to tokenize data into Subword Units\n",
        "3. Binarize data with fairseq"
      ]
    },
    {
      "cell_type": "code",
      "execution_count": null,
      "metadata": {
        "id": "3R35JTaTQjkm"
      },
      "outputs": [],
      "source": [
        "# Combine prediction_file (.en) and mono.zh (.zh) into a new dataset.\n",
        "# \n",
        "# hint: tokenize prediction_file with the spm model\n",
        "# spm_model.encode(line, out_type=str)\n",
        "# output: ./DATA/rawdata/mono/mono.tok.en & mono.tok.zh\n",
        "#\n",
        "# hint: use fairseq to binarize these two files again\n",
        "# binpath = Path('./DATA/data-bin/synthetic')\n",
        "# src_dict_file = './DATA/data-bin/ted2020/dict.en.txt'\n",
        "# tgt_dict_file = src_dict_file\n",
        "# monopref = ./DATA/rawdata/mono/mono.tok # or whatever path after applying subword tokenization, w/o the suffix (.zh/.en)\n",
        "# if binpath.exists():\n",
        "#     print(binpath, \"exists, will not overwrite!\")\n",
        "# else:\n",
        "#     !python -m fairseq_cli.preprocess\\\n",
        "#         --source-lang 'zh'\\\n",
        "#         --target-lang 'en'\\\n",
        "#         --trainpref {monopref}\\\n",
        "#         --destdir {binpath}\\\n",
        "#         --srcdict {src_dict_file}\\\n",
        "#         --tgtdict {tgt_dict_file}\\\n",
        "#         --workers 2"
      ]
    },
    {
      "cell_type": "code",
      "execution_count": null,
      "metadata": {
        "id": "MSkse1tyQnsR"
      },
      "outputs": [
        {
          "name": "stdout",
          "output_type": "stream",
          "text": [
            "cp: cannot stat './DATA/data-bin/synthetic/train.zh-en.zh.bin': No such file or directory\n",
            "cp: cannot stat './DATA/data-bin/synthetic/train.zh-en.zh.idx': No such file or directory\n",
            "cp: cannot stat './DATA/data-bin/synthetic/train.zh-en.en.bin': No such file or directory\n",
            "cp: cannot stat './DATA/data-bin/synthetic/train.zh-en.en.idx': No such file or directory\n"
          ]
        }
      ],
      "source": [
        "# create a new dataset from all the files prepared above\n",
        "!cp -r ./DATA/data-bin/ted2020/ ./DATA/data-bin/ted2020_with_mono/\n",
        "\n",
        "!cp ./DATA/data-bin/synthetic/train.zh-en.zh.bin ./DATA/data-bin/ted2020_with_mono/train1.en-zh.zh.bin\n",
        "!cp ./DATA/data-bin/synthetic/train.zh-en.zh.idx ./DATA/data-bin/ted2020_with_mono/train1.en-zh.zh.idx\n",
        "!cp ./DATA/data-bin/synthetic/train.zh-en.en.bin ./DATA/data-bin/ted2020_with_mono/train1.en-zh.en.bin\n",
        "!cp ./DATA/data-bin/synthetic/train.zh-en.en.idx ./DATA/data-bin/ted2020_with_mono/train1.en-zh.en.idx"
      ]
    },
    {
      "cell_type": "markdown",
      "metadata": {
        "id": "YVdxVGO3QrSs"
      },
      "source": [
        "Created new dataset \"ted2020_with_mono\"\n",
        "\n",
        "1. Change the datadir in **config** (\"./DATA/data-bin/ted2020_with_mono\")\n",
        "2. Switch back the source_lang and target_lang in **config** (\"en\", \"zh\")\n",
        "2. Change the savedir in **config** (eg. \"./checkpoints/transformer-bt\")\n",
        "3. Train model"
      ]
    },
    {
      "cell_type": "markdown",
      "metadata": {
        "id": "z-m3IsoJrhmd"
      },
      "source": [
        "# References"
      ]
    },
    {
      "cell_type": "markdown",
      "metadata": {
        "id": "_CZU2beUQtl3"
      },
      "source": [
        "1. <a name=ott2019fairseq></a>Ott, M., Edunov, S., Baevski, A., Fan, A., Gross, S., Ng, N., ... & Auli, M. (2019, June). fairseq: A Fast, Extensible Toolkit for Sequence Modeling. In Proceedings of the 2019 Conference of the North American Chapter of the Association for Computational Linguistics (Demonstrations) (pp. 48-53).\n",
        "2. <a name=vaswani2017></a>Vaswani, A., Shazeer, N., Parmar, N., Uszkoreit, J., Jones, L., Gomez, A. N., ... & Polosukhin, I. (2017, December). Attention is all you need. In Proceedings of the 31st International Conference on Neural Information Processing Systems (pp. 6000-6010).\n",
        "3. <a name=reimers-2020-multilingual-sentence-bert></a>Reimers, N., & Gurevych, I. (2020, November). Making Monolingual Sentence Embeddings Multilingual Using Knowledge Distillation. In Proceedings of the 2020 Conference on Empirical Methods in Natural Language Processing (EMNLP) (pp. 4512-4525).\n",
        "4. <a name=tiedemann2012parallel></a>Tiedemann, J. (2012, May). Parallel Data, Tools and Interfaces in OPUS. In Lrec (Vol. 2012, pp. 2214-2218).\n",
        "5. <a name=kudo-richardson-2018-sentencepiece></a>Kudo, T., & Richardson, J. (2018, November). SentencePiece: A simple and language independent subword tokenizer and detokenizer for Neural Text Processing. In Proceedings of the 2018 Conference on Empirical Methods in Natural Language Processing: System Demonstrations (pp. 66-71).\n",
        "6. <a name=sennrich-etal-2016-improving></a>Sennrich, R., Haddow, B., & Birch, A. (2016, August). Improving Neural Machine Translation Models with Monolingual Data. In Proceedings of the 54th Annual Meeting of the Association for Computational Linguistics (Volume 1: Long Papers) (pp. 86-96).\n",
        "7. <a name=edunov-etal-2018-understanding></a>Edunov, S., Ott, M., Auli, M., & Grangier, D. (2018). Understanding Back-Translation at Scale. In Proceedings of the 2018 Conference on Empirical Methods in Natural Language Processing (pp. 489-500).\n",
        "8. https://github.com/ajinkyakulkarni14/TED-Multilingual-Parallel-Corpus\n",
        "9. https://ithelp.ithome.com.tw/articles/10233122\n",
        "10. https://nlp.seas.harvard.edu/2018/04/03/attention.html\n",
        "11. https://colab.research.google.com/github/ga642381/ML2021-Spring/blob/main/HW05/HW05.ipynb"
      ]
    },
    {
      "cell_type": "code",
      "execution_count": 51,
      "metadata": {
        "id": "Rrfm6iLJQ0tS"
      },
      "outputs": [
        {
          "ename": "AttributeError",
          "evalue": "'RNNDecoder' object has no attribute 'embed_positions'",
          "output_type": "error",
          "traceback": [
            "\u001b[0;31m---------------------------------------------------------------------------\u001b[0m",
            "\u001b[0;31mAttributeError\u001b[0m                            Traceback (most recent call last)",
            "\u001b[0;32m/tmp/ipykernel_1965226/4052971431.py\u001b[0m in \u001b[0;36m<module>\u001b[0;34m\u001b[0m\n\u001b[0;32m----> 1\u001b[0;31m \u001b[0mpos_emb\u001b[0m \u001b[0;34m=\u001b[0m \u001b[0mmodel\u001b[0m\u001b[0;34m.\u001b[0m\u001b[0mdecoder\u001b[0m\u001b[0;34m.\u001b[0m\u001b[0membed_positions\u001b[0m\u001b[0;34m.\u001b[0m\u001b[0mweights\u001b[0m\u001b[0;34m.\u001b[0m\u001b[0mcuda\u001b[0m\u001b[0;34m(\u001b[0m\u001b[0;34m)\u001b[0m\u001b[0;34m.\u001b[0m\u001b[0mdetach\u001b[0m\u001b[0;34m(\u001b[0m\u001b[0;34m)\u001b[0m\u001b[0;34m\u001b[0m\u001b[0;34m\u001b[0m\u001b[0m\n\u001b[0m",
            "\u001b[0;32m~/local/anaconda3/envs/ml2023_hw5/lib/python3.7/site-packages/torch/nn/modules/module.py\u001b[0m in \u001b[0;36m__getattr__\u001b[0;34m(self, name)\u001b[0m\n\u001b[1;32m   1268\u001b[0m                 \u001b[0;32mreturn\u001b[0m \u001b[0mmodules\u001b[0m\u001b[0;34m[\u001b[0m\u001b[0mname\u001b[0m\u001b[0;34m]\u001b[0m\u001b[0;34m\u001b[0m\u001b[0;34m\u001b[0m\u001b[0m\n\u001b[1;32m   1269\u001b[0m         raise AttributeError(\"'{}' object has no attribute '{}'\".format(\n\u001b[0;32m-> 1270\u001b[0;31m             type(self).__name__, name))\n\u001b[0m\u001b[1;32m   1271\u001b[0m \u001b[0;34m\u001b[0m\u001b[0m\n\u001b[1;32m   1272\u001b[0m     \u001b[0;32mdef\u001b[0m \u001b[0m__setattr__\u001b[0m\u001b[0;34m(\u001b[0m\u001b[0mself\u001b[0m\u001b[0;34m,\u001b[0m \u001b[0mname\u001b[0m\u001b[0;34m:\u001b[0m \u001b[0mstr\u001b[0m\u001b[0;34m,\u001b[0m \u001b[0mvalue\u001b[0m\u001b[0;34m:\u001b[0m \u001b[0mUnion\u001b[0m\u001b[0;34m[\u001b[0m\u001b[0mTensor\u001b[0m\u001b[0;34m,\u001b[0m \u001b[0;34m'Module'\u001b[0m\u001b[0;34m]\u001b[0m\u001b[0;34m)\u001b[0m \u001b[0;34m->\u001b[0m \u001b[0;32mNone\u001b[0m\u001b[0;34m:\u001b[0m\u001b[0;34m\u001b[0m\u001b[0;34m\u001b[0m\u001b[0m\n",
            "\u001b[0;31mAttributeError\u001b[0m: 'RNNDecoder' object has no attribute 'embed_positions'"
          ]
        },
        {
          "ename": "",
          "evalue": "",
          "output_type": "error",
          "traceback": [
            "\u001b[1;31mThe Kernel crashed while executing code in the the current cell or a previous cell. Please review the code in the cell(s) to identify a possible cause of the failure. Click <a href='https://aka.ms/vscodeJupyterKernelCrash'>here</a> for more info. View Jupyter <a href='command:jupyter.viewOutput'>log</a> for further details."
          ]
        }
      ],
      "source": [
        "pos_emb = model.decoder.embed_positions.weights.cuda().detach()"
      ]
    },
    {
      "cell_type": "code",
      "execution_count": null,
      "metadata": {},
      "outputs": [],
      "source": []
    }
  ],
  "metadata": {
    "accelerator": "GPU",
    "colab": {
      "collapsed_sections": [
        "nKb4u67-sT_Z",
        "n1rwQysTsdJq",
        "59si_C0Wsms7",
        "OI46v1z7MotH",
        "6ZlE_1JnMv56",
        "UDAPmxjRNEEL",
        "ce5n4eS7NQNy",
        "rUB9f1WCNgMH",
        "VFJlkOMONsc6",
        "Gt1lX3DRO_yU",
        "BAGMiun8PnZy",
        "JOVQRHzGQU4-",
        "jegH0bvMQVmR",
        "a65glBVXQZiE",
        "smA0JraEQdxz",
        "Jn4XeawpQjLk",
        "z-m3IsoJrhmd"
      ],
      "provenance": []
    },
    "kernelspec": {
      "display_name": "Python 3",
      "name": "python3"
    },
    "language_info": {
      "codemirror_mode": {
        "name": "ipython",
        "version": 3
      },
      "file_extension": ".py",
      "mimetype": "text/x-python",
      "name": "python",
      "nbconvert_exporter": "python",
      "pygments_lexer": "ipython3",
      "version": "3.7.16"
    }
  },
  "nbformat": 4,
  "nbformat_minor": 0
}
